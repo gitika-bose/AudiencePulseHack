{
 "cells": [
  {
   "cell_type": "code",
   "execution_count": 2,
   "id": "347be654-37c7-492d-9924-1b31fc22b7b9",
   "metadata": {
    "scrolled": true
   },
   "outputs": [],
   "source": [
    "import json\n",
    "import sys\n",
    "import pandas as pd\n",
    "import matplotlib.pyplot as plt\n",
    "\n",
    "sys.path.insert(0, '..')\n",
    "\n",
    "import tinytroupe\n",
    "from tinytroupe.agent import TinyPerson\n",
    "from tinytroupe.environment import TinyWorld\n",
    "from tinytroupe.factory import TinyPersonFactory\n",
    "from tinytroupe.validation import TinyPersonValidator\n",
    "from tinytroupe import control\n",
    "from tinytroupe.examples import create_lisa_the_data_scientist, create_oscar_the_architect\n",
    "\n",
    "from tinytroupe.extraction import ResultsExtractor\n",
    "from tinytroupe.profiling import Profiler"
   ]
  },
  {
   "cell_type": "code",
   "execution_count": 3,
   "id": "6dec45b8-ff91-46f5-8b03-5bb179702fe8",
   "metadata": {},
   "outputs": [],
   "source": [
    "lisa = create_lisa_the_data_scientist()\n",
    "oscar = create_oscar_the_architect()"
   ]
  },
  {
   "cell_type": "code",
   "execution_count": 4,
   "id": "082d4a5b-3cb5-4c91-a19a-9af66ad12a7a",
   "metadata": {},
   "outputs": [
    {
     "data": {
      "text/plain": [
       "('Lisa Carter is a 28 year old Data Scientist, Canadian, currently living in USA. Lisa Carter is not only a dedicated Data Scientist but also a curious and imaginative individual who thrives on learning and problem-solving. Her analytical mindset is complemented by a friendly demeanor, making her a supportive team member who enjoys mentoring others. Outside of her professional life, Lisa has a passion for cooking and often experiments with new recipes, finding joy in the creative process. Additionally, her love for music is evident in her piano playing, which serves as a relaxing outlet after a productive day of analyzing data and building machine learning models.',\n",
       " 'Oscar is a 30 year old Architect, German, currently living in Germany. Oscar is not only a dedicated architect but also a creative thinker who thrives on innovation and sustainability. His passion for modernist architecture and new technologies drives him to explore cutting-edge solutions that enhance urban living. Outside of work, he enjoys playing the guitar, which serves as a creative outlet and a way to unwind after a busy day. With a warm and approachable demeanor, Oscar values meaningful connections with clients and colleagues alike, often sharing his witty sense of humor to foster a collaborative atmosphere.')"
      ]
     },
     "execution_count": 4,
     "metadata": {},
     "output_type": "execute_result"
    }
   ],
   "source": [
    "lisa.minibio(), oscar.minibio()"
   ]
  },
  {
   "cell_type": "code",
   "execution_count": 5,
   "id": "0aa1ec12-bd38-4425-ad31-f33fb838899b",
   "metadata": {},
   "outputs": [],
   "source": [
    "env = TinyWorld(\"Presentation Review\")"
   ]
  },
  {
   "cell_type": "code",
   "execution_count": 8,
   "id": "8ce34636-e652-40a4-894c-718eaabcb83d",
   "metadata": {},
   "outputs": [],
   "source": [
    "control.begin('./exploringEnvironment.cache.json')"
   ]
  },
  {
   "cell_type": "code",
   "execution_count": 19,
   "id": "41f14ee1-91ec-4615-84c4-6714e03bfc4b",
   "metadata": {},
   "outputs": [],
   "source": [
    "results_extractor = ResultsExtractor(extraction_objective=\"Find if they will buy the cat bed. Reason for buying or not buying. And get follow up questions\" ,\n",
    "                                     situation=\"Agent was asked to view a presentation for Cat bed design that contains a heating pad. Then they were asked if they would buy the cat bed. Give reason why they would or wouldn't. Finally they were asked to ask follow up questions.\", \n",
    "                                     fields=[\"response\", \"justification\", \"questions\"],\n",
    "                                     fields_hints={\n",
    "                                         \"response\": \"Must be a string formatted exactly as 'Yes', 'No', 'Maybe' or 'N/A'(if there is no response).\",\n",
    "                                         \"justification\": \"Why they gave the response (why they would or wouldn't buy it?\",\n",
    "                                         \"questions\": \"List of follow up questions by the agent\"\n",
    "                                     },\n",
    "                                     verbose=True)"
   ]
  },
  {
   "cell_type": "code",
   "execution_count": 10,
   "id": "5df533bb-6d47-46b9-9718-8aeeeec07ecc",
   "metadata": {},
   "outputs": [
    {
     "data": {
      "text/plain": [
       "TinyWorld(name='Presentation Review')"
      ]
     },
     "execution_count": 10,
     "metadata": {},
     "output_type": "execute_result"
    }
   ],
   "source": [
    "env.add_agents([lisa, oscar])"
   ]
  },
  {
   "cell_type": "code",
   "execution_count": 16,
   "id": "f60e7b13-0bd9-42da-94e6-6af885d212f5",
   "metadata": {},
   "outputs": [
    {
     "data": {
      "text/html": [
       "<pre style=\"margin:0px;;white-space:pre;overflow-x:auto;line-height:normal;font-family:Menlo,'DejaVu Sans Mono',consolas,'Courier New',monospace\"><span style=\"color: #00ffff; text-decoration-color: #00ffff; font-weight: bold; font-style: italic; text-decoration: underline\">USER</span><span style=\"color: #00ffff; text-decoration-color: #00ffff; font-weight: bold; font-style: italic\"> --&gt; </span><span style=\"color: #00ffff; text-decoration-color: #00ffff; font-weight: bold; font-style: italic; text-decoration: underline\">Lisa Carter</span><span style=\"color: #00ffff; text-decoration-color: #00ffff; font-weight: bold; font-style: italic\">: [CONVERSATION] </span>\n",
       "<span style=\"color: #00ffff; text-decoration-color: #00ffff; font-weight: bold; font-style: italic\">          &gt; We are going to do a presentation review for this presentation: Cat bed design that</span>\n",
       "<span style=\"color: #00ffff; text-decoration-color: #00ffff; font-weight: bold; font-style: italic\">          &gt; contains a heating pad.  The presentation is 5 slides long. You will be shown each slide</span>\n",
       "<span style=\"color: #00ffff; text-decoration-color: #00ffff; font-weight: bold; font-style: italic\">          &gt; one after the other. The target audience is cat owners.</span>\n",
       "</pre>\n"
      ],
      "text/plain": [
       "\u001b[1;3;4;38;5;51mUSER\u001b[0m\u001b[1;3;38;5;51m --> \u001b[0m\u001b[1;3;4;38;5;51mLisa Carter\u001b[0m\u001b[1;3;38;5;51m: \u001b[0m\u001b[1;3;38;5;51m[\u001b[0m\u001b[1;3;38;5;51mCONVERSATION\u001b[0m\u001b[1;3;38;5;51m]\u001b[0m\u001b[1;3;38;5;51m \u001b[0m\n",
       "\u001b[1;3;38;5;51m          > We are going to do a presentation review for this presentation: Cat bed design that\u001b[0m\n",
       "\u001b[1;3;38;5;51m          > contains a heating pad.  The presentation is \u001b[0m\u001b[1;3;38;5;51m5\u001b[0m\u001b[1;3;38;5;51m slides long. You will be shown each slide\u001b[0m\n",
       "\u001b[1;3;38;5;51m          > one after the other. The target audience is cat owners.\u001b[0m\n"
      ]
     },
     "metadata": {},
     "output_type": "display_data"
    },
    {
     "data": {
      "text/html": [
       "<pre style=\"margin:0px;;white-space:pre;overflow-x:auto;line-height:normal;font-family:Menlo,'DejaVu Sans Mono',consolas,'Courier New',monospace\"><span style=\"color: #00ffff; text-decoration-color: #00ffff; font-weight: bold; font-style: italic\">       + --&gt; </span><span style=\"color: #00ffff; text-decoration-color: #00ffff; font-weight: bold; font-style: italic; text-decoration: underline\">Oscar</span>\n",
       "</pre>\n"
      ],
      "text/plain": [
       "\u001b[1;3;38;5;51m       + --> \u001b[0m\u001b[1;3;4;38;5;51mOscar\u001b[0m\n"
      ]
     },
     "metadata": {},
     "output_type": "display_data"
    }
   ],
   "source": [
    "env.broadcast(\"\"\"We are going to do a presentation review for this presentation:\n",
    "Cat bed design that contains a heating pad. \n",
    "The presentation is 5 slides long. You will be shown each slide one after the other.\n",
    "The target audience is cat owners.\n",
    "\"\"\")"
   ]
  },
  {
   "cell_type": "code",
   "execution_count": 17,
   "id": "4c5a1d5a-5ee9-47e0-a038-112eb7fa6912",
   "metadata": {},
   "outputs": [
    {
     "data": {
      "text/html": [
       "<pre style=\"margin:0px;;white-space:pre;overflow-x:auto;line-height:normal;font-family:Menlo,'DejaVu Sans Mono',consolas,'Courier New',monospace\"><span style=\"color: #00ffff; text-decoration-color: #00ffff; font-weight: bold; font-style: italic; text-decoration: underline\">USER</span><span style=\"color: #00ffff; text-decoration-color: #00ffff; font-weight: bold; font-style: italic\"> --&gt; </span><span style=\"color: #00ffff; text-decoration-color: #00ffff; font-weight: bold; font-style: italic; text-decoration: underline\">Lisa Carter</span><span style=\"color: #00ffff; text-decoration-color: #00ffff; font-weight: bold; font-style: italic\">: [CONVERSATION] </span>\n",
       "<span style=\"color: #00ffff; text-decoration-color: #00ffff; font-weight: bold; font-style: italic\">          &gt;  Slide 1:  Hot cat beds to power your cat's naps!</span>\n",
       "</pre>\n"
      ],
      "text/plain": [
       "\u001b[1;3;4;38;5;51mUSER\u001b[0m\u001b[1;3;38;5;51m --> \u001b[0m\u001b[1;3;4;38;5;51mLisa Carter\u001b[0m\u001b[1;3;38;5;51m: \u001b[0m\u001b[1;3;38;5;51m[\u001b[0m\u001b[1;3;38;5;51mCONVERSATION\u001b[0m\u001b[1;3;38;5;51m]\u001b[0m\u001b[1;3;38;5;51m \u001b[0m\n",
       "\u001b[1;3;38;5;51m          >  Slide \u001b[0m\u001b[1;3;38;5;51m1\u001b[0m\u001b[1;3;38;5;51m:  Hot cat beds to power your cat's naps!\u001b[0m\n"
      ]
     },
     "metadata": {},
     "output_type": "display_data"
    },
    {
     "data": {
      "text/html": [
       "<pre style=\"margin:0px;;white-space:pre;overflow-x:auto;line-height:normal;font-family:Menlo,'DejaVu Sans Mono',consolas,'Courier New',monospace\"><span style=\"color: #00ffff; text-decoration-color: #00ffff; font-weight: bold; font-style: italic\">       + --&gt; </span><span style=\"color: #00ffff; text-decoration-color: #00ffff; font-weight: bold; font-style: italic; text-decoration: underline\">Oscar</span>\n",
       "</pre>\n"
      ],
      "text/plain": [
       "\u001b[1;3;38;5;51m       + --> \u001b[0m\u001b[1;3;4;38;5;51mOscar\u001b[0m\n"
      ]
     },
     "metadata": {},
     "output_type": "display_data"
    },
    {
     "data": {
      "text/html": [
       "<pre style=\"margin:0px;;white-space:pre;overflow-x:auto;line-height:normal;font-family:Menlo,'DejaVu Sans Mono',consolas,'Courier New',monospace\"><span style=\"color: #00ffff; text-decoration-color: #00ffff; font-weight: bold; font-style: italic; text-decoration: underline\">USER</span><span style=\"color: #00ffff; text-decoration-color: #00ffff; font-weight: bold; font-style: italic\"> --&gt; </span><span style=\"color: #00ffff; text-decoration-color: #00ffff; font-weight: bold; font-style: italic; text-decoration: underline\">Lisa Carter</span><span style=\"color: #00ffff; text-decoration-color: #00ffff; font-weight: bold; font-style: italic\">: [CONVERSATION] </span>\n",
       "<span style=\"color: #00ffff; text-decoration-color: #00ffff; font-weight: bold; font-style: italic\">          &gt;  Slide 2: Are your furry friends freezing in the winter? Want a warm cozy place for them</span>\n",
       "<span style=\"color: #00ffff; text-decoration-color: #00ffff; font-weight: bold; font-style: italic\">          &gt; to sleep in?</span>\n",
       "</pre>\n"
      ],
      "text/plain": [
       "\u001b[1;3;4;38;5;51mUSER\u001b[0m\u001b[1;3;38;5;51m --> \u001b[0m\u001b[1;3;4;38;5;51mLisa Carter\u001b[0m\u001b[1;3;38;5;51m: \u001b[0m\u001b[1;3;38;5;51m[\u001b[0m\u001b[1;3;38;5;51mCONVERSATION\u001b[0m\u001b[1;3;38;5;51m]\u001b[0m\u001b[1;3;38;5;51m \u001b[0m\n",
       "\u001b[1;3;38;5;51m          >  Slide \u001b[0m\u001b[1;3;38;5;51m2\u001b[0m\u001b[1;3;38;5;51m: Are your furry friends freezing in the winter? Want a warm cozy place for them\u001b[0m\n",
       "\u001b[1;3;38;5;51m          > to sleep in?\u001b[0m\n"
      ]
     },
     "metadata": {},
     "output_type": "display_data"
    },
    {
     "data": {
      "text/html": [
       "<pre style=\"margin:0px;;white-space:pre;overflow-x:auto;line-height:normal;font-family:Menlo,'DejaVu Sans Mono',consolas,'Courier New',monospace\"><span style=\"color: #00ffff; text-decoration-color: #00ffff; font-weight: bold; font-style: italic\">       + --&gt; </span><span style=\"color: #00ffff; text-decoration-color: #00ffff; font-weight: bold; font-style: italic; text-decoration: underline\">Oscar</span>\n",
       "</pre>\n"
      ],
      "text/plain": [
       "\u001b[1;3;38;5;51m       + --> \u001b[0m\u001b[1;3;4;38;5;51mOscar\u001b[0m\n"
      ]
     },
     "metadata": {},
     "output_type": "display_data"
    },
    {
     "data": {
      "text/html": [
       "<pre style=\"margin:0px;;white-space:pre;overflow-x:auto;line-height:normal;font-family:Menlo,'DejaVu Sans Mono',consolas,'Courier New',monospace\"><span style=\"color: #00ffff; text-decoration-color: #00ffff; font-weight: bold; font-style: italic; text-decoration: underline\">USER</span><span style=\"color: #00ffff; text-decoration-color: #00ffff; font-weight: bold; font-style: italic\"> --&gt; </span><span style=\"color: #00ffff; text-decoration-color: #00ffff; font-weight: bold; font-style: italic; text-decoration: underline\">Lisa Carter</span><span style=\"color: #00ffff; text-decoration-color: #00ffff; font-weight: bold; font-style: italic\">: [CONVERSATION] </span>\n",
       "<span style=\"color: #00ffff; text-decoration-color: #00ffff; font-weight: bold; font-style: italic\">          &gt;  Slide 3: Introducing the first ever made cat bed with a small heating pad!  - Small</span>\n",
       "<span style=\"color: #00ffff; text-decoration-color: #00ffff; font-weight: bold; font-style: italic\">          &gt; cozy furry bed for your furry friends. - Controlled heating with auto-cooldown to</span>\n",
       "<span style=\"color: #00ffff; text-decoration-color: #00ffff; font-weight: bold; font-style: italic\">          &gt; regulate temperature. - Comes in various shapes and sizes!</span>\n",
       "</pre>\n"
      ],
      "text/plain": [
       "\u001b[1;3;4;38;5;51mUSER\u001b[0m\u001b[1;3;38;5;51m --> \u001b[0m\u001b[1;3;4;38;5;51mLisa Carter\u001b[0m\u001b[1;3;38;5;51m: \u001b[0m\u001b[1;3;38;5;51m[\u001b[0m\u001b[1;3;38;5;51mCONVERSATION\u001b[0m\u001b[1;3;38;5;51m]\u001b[0m\u001b[1;3;38;5;51m \u001b[0m\n",
       "\u001b[1;3;38;5;51m          >  Slide \u001b[0m\u001b[1;3;38;5;51m3\u001b[0m\u001b[1;3;38;5;51m: Introducing the first ever made cat bed with a small heating pad!  - Small\u001b[0m\n",
       "\u001b[1;3;38;5;51m          > cozy furry bed for your furry friends. - Controlled heating with auto-cooldown to\u001b[0m\n",
       "\u001b[1;3;38;5;51m          > regulate temperature. - Comes in various shapes and sizes!\u001b[0m\n"
      ]
     },
     "metadata": {},
     "output_type": "display_data"
    },
    {
     "data": {
      "text/html": [
       "<pre style=\"margin:0px;;white-space:pre;overflow-x:auto;line-height:normal;font-family:Menlo,'DejaVu Sans Mono',consolas,'Courier New',monospace\"><span style=\"color: #00ffff; text-decoration-color: #00ffff; font-weight: bold; font-style: italic\">       + --&gt; </span><span style=\"color: #00ffff; text-decoration-color: #00ffff; font-weight: bold; font-style: italic; text-decoration: underline\">Oscar</span>\n",
       "</pre>\n"
      ],
      "text/plain": [
       "\u001b[1;3;38;5;51m       + --> \u001b[0m\u001b[1;3;4;38;5;51mOscar\u001b[0m\n"
      ]
     },
     "metadata": {},
     "output_type": "display_data"
    },
    {
     "data": {
      "text/html": [
       "<pre style=\"margin:0px;;white-space:pre;overflow-x:auto;line-height:normal;font-family:Menlo,'DejaVu Sans Mono',consolas,'Courier New',monospace\"><span style=\"color: #00ffff; text-decoration-color: #00ffff; font-weight: bold; font-style: italic; text-decoration: underline\">USER</span><span style=\"color: #00ffff; text-decoration-color: #00ffff; font-weight: bold; font-style: italic\"> --&gt; </span><span style=\"color: #00ffff; text-decoration-color: #00ffff; font-weight: bold; font-style: italic; text-decoration: underline\">Lisa Carter</span><span style=\"color: #00ffff; text-decoration-color: #00ffff; font-weight: bold; font-style: italic\">: [CONVERSATION] </span>\n",
       "<span style=\"color: #00ffff; text-decoration-color: #00ffff; font-weight: bold; font-style: italic\">          &gt;  Slide 4: Here are some designs  (pictures of designs)</span>\n",
       "</pre>\n"
      ],
      "text/plain": [
       "\u001b[1;3;4;38;5;51mUSER\u001b[0m\u001b[1;3;38;5;51m --> \u001b[0m\u001b[1;3;4;38;5;51mLisa Carter\u001b[0m\u001b[1;3;38;5;51m: \u001b[0m\u001b[1;3;38;5;51m[\u001b[0m\u001b[1;3;38;5;51mCONVERSATION\u001b[0m\u001b[1;3;38;5;51m]\u001b[0m\u001b[1;3;38;5;51m \u001b[0m\n",
       "\u001b[1;3;38;5;51m          >  Slide \u001b[0m\u001b[1;3;38;5;51m4\u001b[0m\u001b[1;3;38;5;51m: Here are some designs  \u001b[0m\u001b[1;3;38;5;51m(\u001b[0m\u001b[1;3;38;5;51mpictures of designs\u001b[0m\u001b[1;3;38;5;51m)\u001b[0m\n"
      ]
     },
     "metadata": {},
     "output_type": "display_data"
    },
    {
     "data": {
      "text/html": [
       "<pre style=\"margin:0px;;white-space:pre;overflow-x:auto;line-height:normal;font-family:Menlo,'DejaVu Sans Mono',consolas,'Courier New',monospace\"><span style=\"color: #00ffff; text-decoration-color: #00ffff; font-weight: bold; font-style: italic\">       + --&gt; </span><span style=\"color: #00ffff; text-decoration-color: #00ffff; font-weight: bold; font-style: italic; text-decoration: underline\">Oscar</span>\n",
       "</pre>\n"
      ],
      "text/plain": [
       "\u001b[1;3;38;5;51m       + --> \u001b[0m\u001b[1;3;4;38;5;51mOscar\u001b[0m\n"
      ]
     },
     "metadata": {},
     "output_type": "display_data"
    },
    {
     "data": {
      "text/html": [
       "<pre style=\"margin:0px;;white-space:pre;overflow-x:auto;line-height:normal;font-family:Menlo,'DejaVu Sans Mono',consolas,'Courier New',monospace\"><span style=\"color: #00ffff; text-decoration-color: #00ffff; font-weight: bold; font-style: italic; text-decoration: underline\">USER</span><span style=\"color: #00ffff; text-decoration-color: #00ffff; font-weight: bold; font-style: italic\"> --&gt; </span><span style=\"color: #00ffff; text-decoration-color: #00ffff; font-weight: bold; font-style: italic; text-decoration: underline\">Lisa Carter</span><span style=\"color: #00ffff; text-decoration-color: #00ffff; font-weight: bold; font-style: italic\">: [CONVERSATION] </span>\n",
       "<span style=\"color: #00ffff; text-decoration-color: #00ffff; font-weight: bold; font-style: italic\">          &gt;  Slide 5: So what do you say, are you convinced?</span>\n",
       "</pre>\n"
      ],
      "text/plain": [
       "\u001b[1;3;4;38;5;51mUSER\u001b[0m\u001b[1;3;38;5;51m --> \u001b[0m\u001b[1;3;4;38;5;51mLisa Carter\u001b[0m\u001b[1;3;38;5;51m: \u001b[0m\u001b[1;3;38;5;51m[\u001b[0m\u001b[1;3;38;5;51mCONVERSATION\u001b[0m\u001b[1;3;38;5;51m]\u001b[0m\u001b[1;3;38;5;51m \u001b[0m\n",
       "\u001b[1;3;38;5;51m          >  Slide \u001b[0m\u001b[1;3;38;5;51m5\u001b[0m\u001b[1;3;38;5;51m: So what do you say, are you convinced?\u001b[0m\n"
      ]
     },
     "metadata": {},
     "output_type": "display_data"
    },
    {
     "data": {
      "text/html": [
       "<pre style=\"margin:0px;;white-space:pre;overflow-x:auto;line-height:normal;font-family:Menlo,'DejaVu Sans Mono',consolas,'Courier New',monospace\"><span style=\"color: #00ffff; text-decoration-color: #00ffff; font-weight: bold; font-style: italic\">       + --&gt; </span><span style=\"color: #00ffff; text-decoration-color: #00ffff; font-weight: bold; font-style: italic; text-decoration: underline\">Oscar</span>\n",
       "</pre>\n"
      ],
      "text/plain": [
       "\u001b[1;3;38;5;51m       + --> \u001b[0m\u001b[1;3;4;38;5;51mOscar\u001b[0m\n"
      ]
     },
     "metadata": {},
     "output_type": "display_data"
    }
   ],
   "source": [
    "env.broadcast(\"\"\"\n",
    "Slide 1: \n",
    "Hot cat beds to power your cat's naps!\n",
    "\"\"\")\n",
    "env.broadcast(\"\"\"\n",
    "Slide 2:\n",
    "Are your furry friends freezing in the winter? Want a warm cozy place for them to sleep in?\n",
    "\"\"\")\n",
    "env.broadcast(\"\"\"\n",
    "Slide 3:\n",
    "Introducing the first ever made cat bed with a small heating pad! \n",
    "- Small cozy furry bed for your furry friends.\n",
    "- Controlled heating with auto-cooldown to regulate temperature.\n",
    "- Comes in various shapes and sizes!\n",
    "\"\"\")\n",
    "env.broadcast(\"\"\"\n",
    "Slide 4:\n",
    "Here are some designs \n",
    "(pictures of designs)\n",
    "\"\"\")\n",
    "env.broadcast(\"\"\"\n",
    "Slide 5:\n",
    "So what do you say, are you convinced?\n",
    "\"\"\")"
   ]
  },
  {
   "cell_type": "code",
   "execution_count": 18,
   "id": "25235981-cd8b-40ed-87d8-15836f0b3a09",
   "metadata": {},
   "outputs": [
    {
     "data": {
      "text/html": [
       "<pre style=\"margin:0px;;white-space:pre;overflow-x:auto;line-height:normal;font-family:Menlo,'DejaVu Sans Mono',consolas,'Courier New',monospace\"><span style=\"color: #00ffff; text-decoration-color: #00ffff; font-weight: bold; font-style: italic; text-decoration: underline\">USER</span><span style=\"color: #00ffff; text-decoration-color: #00ffff; font-weight: bold; font-style: italic\"> --&gt; </span><span style=\"color: #00ffff; text-decoration-color: #00ffff; font-weight: bold; font-style: italic; text-decoration: underline\">Lisa Carter</span><span style=\"color: #00ffff; text-decoration-color: #00ffff; font-weight: bold; font-style: italic\">: [CONVERSATION] </span>\n",
       "<span style=\"color: #00ffff; text-decoration-color: #00ffff; font-weight: bold; font-style: italic\">          &gt;  This presentation is shown to you. Would you buy it after watching the presentation?</span>\n",
       "<span style=\"color: #00ffff; text-decoration-color: #00ffff; font-weight: bold; font-style: italic\">          &gt; Why or why not?</span>\n",
       "</pre>\n"
      ],
      "text/plain": [
       "\u001b[1;3;4;38;5;51mUSER\u001b[0m\u001b[1;3;38;5;51m --> \u001b[0m\u001b[1;3;4;38;5;51mLisa Carter\u001b[0m\u001b[1;3;38;5;51m: \u001b[0m\u001b[1;3;38;5;51m[\u001b[0m\u001b[1;3;38;5;51mCONVERSATION\u001b[0m\u001b[1;3;38;5;51m]\u001b[0m\u001b[1;3;38;5;51m \u001b[0m\n",
       "\u001b[1;3;38;5;51m          >  This presentation is shown to you. Would you buy it after watching the presentation?\u001b[0m\n",
       "\u001b[1;3;38;5;51m          > Why or why not?\u001b[0m\n"
      ]
     },
     "metadata": {},
     "output_type": "display_data"
    },
    {
     "data": {
      "text/html": [
       "<pre style=\"margin:0px;;white-space:pre;overflow-x:auto;line-height:normal;font-family:Menlo,'DejaVu Sans Mono',consolas,'Courier New',monospace\"><span style=\"color: #00ffff; text-decoration-color: #00ffff; font-weight: bold; font-style: italic\">       + --&gt; </span><span style=\"color: #00ffff; text-decoration-color: #00ffff; font-weight: bold; font-style: italic; text-decoration: underline\">Oscar</span>\n",
       "</pre>\n"
      ],
      "text/plain": [
       "\u001b[1;3;38;5;51m       + --> \u001b[0m\u001b[1;3;4;38;5;51mOscar\u001b[0m\n"
      ]
     },
     "metadata": {},
     "output_type": "display_data"
    },
    {
     "data": {
      "text/html": [
       "<pre style=\"margin:0px;;white-space:pre;overflow-x:auto;line-height:normal;font-family:Menlo,'DejaVu Sans Mono',consolas,'Courier New',monospace\"><span style=\"color: #00ffff; text-decoration-color: #00ffff; font-weight: bold; font-style: italic; text-decoration: underline\">USER</span><span style=\"color: #00ffff; text-decoration-color: #00ffff; font-weight: bold; font-style: italic\"> --&gt; </span><span style=\"color: #00ffff; text-decoration-color: #00ffff; font-weight: bold; font-style: italic; text-decoration: underline\">Lisa Carter</span><span style=\"color: #00ffff; text-decoration-color: #00ffff; font-weight: bold; font-style: italic\">: [CONVERSATION] </span>\n",
       "<span style=\"color: #00ffff; text-decoration-color: #00ffff; font-weight: bold; font-style: italic\">          &gt;  Come up with a list of follow up questions to ask the presenter. Upto a max of 3</span>\n",
       "<span style=\"color: #00ffff; text-decoration-color: #00ffff; font-weight: bold; font-style: italic\">          &gt; questions</span>\n",
       "</pre>\n"
      ],
      "text/plain": [
       "\u001b[1;3;4;38;5;51mUSER\u001b[0m\u001b[1;3;38;5;51m --> \u001b[0m\u001b[1;3;4;38;5;51mLisa Carter\u001b[0m\u001b[1;3;38;5;51m: \u001b[0m\u001b[1;3;38;5;51m[\u001b[0m\u001b[1;3;38;5;51mCONVERSATION\u001b[0m\u001b[1;3;38;5;51m]\u001b[0m\u001b[1;3;38;5;51m \u001b[0m\n",
       "\u001b[1;3;38;5;51m          >  Come up with a list of follow up questions to ask the presenter. Upto a max of \u001b[0m\u001b[1;3;38;5;51m3\u001b[0m\n",
       "\u001b[1;3;38;5;51m          > questions\u001b[0m\n"
      ]
     },
     "metadata": {},
     "output_type": "display_data"
    },
    {
     "data": {
      "text/html": [
       "<pre style=\"margin:0px;;white-space:pre;overflow-x:auto;line-height:normal;font-family:Menlo,'DejaVu Sans Mono',consolas,'Courier New',monospace\"><span style=\"color: #00ffff; text-decoration-color: #00ffff; font-weight: bold; font-style: italic\">       + --&gt; </span><span style=\"color: #00ffff; text-decoration-color: #00ffff; font-weight: bold; font-style: italic; text-decoration: underline\">Oscar</span>\n",
       "</pre>\n"
      ],
      "text/plain": [
       "\u001b[1;3;38;5;51m       + --> \u001b[0m\u001b[1;3;4;38;5;51mOscar\u001b[0m\n"
      ]
     },
     "metadata": {},
     "output_type": "display_data"
    }
   ],
   "source": [
    "env.broadcast(\"\"\"\n",
    "This presentation is shown to you.\n",
    "Would you buy it after watching the presentation?\n",
    "Why or why not?\n",
    "\"\"\")\n",
    "env.broadcast(\"\"\"\n",
    "Come up with a list of follow up questions to ask the presenter. Upto a max of 3 questions\n",
    "\"\"\")"
   ]
  },
  {
   "cell_type": "code",
   "execution_count": 21,
   "id": "d3b0369a-7616-427c-b734-c560f76d0cb7",
   "metadata": {},
   "outputs": [
    {
     "data": {
      "text/html": [
       "<pre style=\"margin:0px;;white-space:pre;overflow-x:auto;line-height:normal;font-family:Menlo,'DejaVu Sans Mono',consolas,'Courier New',monospace\"><span style=\"color: #00ff00; text-decoration-color: #00ff00\">───────────────────────────────────────── </span>Presentation Review step <span style=\"color: #008080; text-decoration-color: #008080; font-weight: bold\">1</span> of <span style=\"color: #008080; text-decoration-color: #008080; font-weight: bold\">3</span><span style=\"color: #00ff00; text-decoration-color: #00ff00\"> ─────────────────────────────────────────</span>\n",
       "</pre>\n"
      ],
      "text/plain": [
       "\u001b[92m───────────────────────────────────────── \u001b[0mPresentation Review step \u001b[1;36m1\u001b[0m of \u001b[1;36m3\u001b[0m\u001b[92m ─────────────────────────────────────────\u001b[0m\n"
      ]
     },
     "metadata": {},
     "output_type": "display_data"
    },
    {
     "data": {
      "text/html": [
       "<pre style=\"margin:0px;;white-space:pre;overflow-x:auto;line-height:normal;font-family:Menlo,'DejaVu Sans Mono',consolas,'Courier New',monospace\"><span style=\"color: #008000; text-decoration-color: #008000; text-decoration: underline\">Lisa Carter</span><span style=\"color: #008000; text-decoration-color: #008000\"> acts: </span><span style=\"color: #008000; text-decoration-color: #008000; font-weight: bold\">[</span><span style=\"color: #008000; text-decoration-color: #008000\">THINK</span><span style=\"color: #008000; text-decoration-color: #008000; font-weight: bold\">]</span><span style=\"color: #008000; text-decoration-color: #008000\"> </span>\n",
       "<span style=\"color: #008000; text-decoration-color: #008000\">                 &gt; The presentation about the heated cat bed was engaging and informative. It</span>\n",
       "<span style=\"color: #008000; text-decoration-color: #008000\">                 &gt; highlighted the benefits of keeping cats warm during winter, which is a concern</span>\n",
       "<span style=\"color: #008000; text-decoration-color: #008000\">                 &gt; for many cat owners. I think the product could be appealing, especially with the</span>\n",
       "<span style=\"color: #008000; text-decoration-color: #008000\">                 &gt; controlled heating feature and various designs. However, I need to consider a few</span>\n",
       "<span style=\"color: #008000; text-decoration-color: #008000\">                 &gt; aspects before deciding if I would buy it.</span>\n",
       "</pre>\n"
      ],
      "text/plain": [
       "\u001b[4;32mLisa Carter\u001b[0m\u001b[32m acts: \u001b[0m\u001b[1;32m[\u001b[0m\u001b[32mTHINK\u001b[0m\u001b[1;32m]\u001b[0m\u001b[32m \u001b[0m\n",
       "\u001b[32m                 > The presentation about the heated cat bed was engaging and informative. It\u001b[0m\n",
       "\u001b[32m                 > highlighted the benefits of keeping cats warm during winter, which is a concern\u001b[0m\n",
       "\u001b[32m                 > for many cat owners. I think the product could be appealing, especially with the\u001b[0m\n",
       "\u001b[32m                 > controlled heating feature and various designs. However, I need to consider a few\u001b[0m\n",
       "\u001b[32m                 > aspects before deciding if I would buy it.\u001b[0m\n"
      ]
     },
     "metadata": {},
     "output_type": "display_data"
    },
    {
     "data": {
      "text/html": [
       "<pre style=\"margin:0px;;white-space:pre;overflow-x:auto;line-height:normal;font-family:Menlo,'DejaVu Sans Mono',consolas,'Courier New',monospace\"><span style=\"color: #008000; text-decoration-color: #008000; text-decoration: underline\">Lisa Carter</span><span style=\"color: #008000; text-decoration-color: #008000\"> acts: </span><span style=\"color: #008000; text-decoration-color: #008000; font-weight: bold\">[</span><span style=\"color: #008000; text-decoration-color: #008000\">THINK</span><span style=\"color: #008000; text-decoration-color: #008000; font-weight: bold\">]</span><span style=\"color: #008000; text-decoration-color: #008000\"> </span>\n",
       "<span style=\"color: #008000; text-decoration-color: #008000\">                 &gt; I need to come up with three follow-up questions for the presenter. I want to ask</span>\n",
       "<span style=\"color: #008000; text-decoration-color: #008000\">                 &gt; about the safety features of the heating pad, the materials used in the cat bed,</span>\n",
       "<span style=\"color: #008000; text-decoration-color: #008000\">                 &gt; and if there are any plans for future designs or improvements.</span>\n",
       "</pre>\n"
      ],
      "text/plain": [
       "\u001b[4;32mLisa Carter\u001b[0m\u001b[32m acts: \u001b[0m\u001b[1;32m[\u001b[0m\u001b[32mTHINK\u001b[0m\u001b[1;32m]\u001b[0m\u001b[32m \u001b[0m\n",
       "\u001b[32m                 > I need to come up with three follow-up questions for the presenter. I want to ask\u001b[0m\n",
       "\u001b[32m                 > about the safety features of the heating pad, the materials used in the cat bed,\u001b[0m\n",
       "\u001b[32m                 > and if there are any plans for future designs or improvements.\u001b[0m\n"
      ]
     },
     "metadata": {},
     "output_type": "display_data"
    },
    {
     "data": {
      "text/html": [
       "<pre style=\"margin:0px;;white-space:pre;overflow-x:auto;line-height:normal;font-family:Menlo,'DejaVu Sans Mono',consolas,'Courier New',monospace\"><span style=\"color: #00d700; text-decoration-color: #00d700; font-weight: bold; text-decoration: underline\">Lisa Carter</span><span style=\"color: #00d700; text-decoration-color: #00d700; font-weight: bold\"> acts: [TALK] </span>\n",
       "<span style=\"color: #00d700; text-decoration-color: #00d700; font-weight: bold\">                 &gt; I have a few follow-up questions regarding the heated cat bed presentation.</span>\n",
       "<span style=\"color: #00d700; text-decoration-color: #00d700; font-weight: bold\">                 &gt; First, can you explain the safety features of the heating pad? Second, what</span>\n",
       "<span style=\"color: #00d700; text-decoration-color: #00d700; font-weight: bold\">                 &gt; materials are used in the cat bed? Lastly, are there any plans for future designs</span>\n",
       "<span style=\"color: #00d700; text-decoration-color: #00d700; font-weight: bold\">                 &gt; or improvements?</span>\n",
       "</pre>\n"
      ],
      "text/plain": [
       "\u001b[1;4;38;5;40mLisa Carter\u001b[0m\u001b[1;38;5;40m acts: \u001b[0m\u001b[1;38;5;40m[\u001b[0m\u001b[1;38;5;40mTALK\u001b[0m\u001b[1;38;5;40m]\u001b[0m\u001b[1;38;5;40m \u001b[0m\n",
       "\u001b[1;38;5;40m                 > I have a few follow-up questions regarding the heated cat bed presentation.\u001b[0m\n",
       "\u001b[1;38;5;40m                 > First, can you explain the safety features of the heating pad? Second, what\u001b[0m\n",
       "\u001b[1;38;5;40m                 > materials are used in the cat bed? Lastly, are there any plans for future designs\u001b[0m\n",
       "\u001b[1;38;5;40m                 > or improvements?\u001b[0m\n"
      ]
     },
     "metadata": {},
     "output_type": "display_data"
    },
    {
     "data": {
      "text/html": [
       "<pre style=\"margin:0px;;white-space:pre;overflow-x:auto;line-height:normal;font-family:Menlo,'DejaVu Sans Mono',consolas,'Courier New',monospace\"><span style=\"color: #d0d0d0; text-decoration-color: #d0d0d0; text-decoration: underline\">Lisa Carter</span><span style=\"color: #d0d0d0; text-decoration-color: #d0d0d0\"> acts: </span><span style=\"color: #d0d0d0; text-decoration-color: #d0d0d0; font-weight: bold\">[</span><span style=\"color: #d0d0d0; text-decoration-color: #d0d0d0\">DONE</span><span style=\"color: #d0d0d0; text-decoration-color: #d0d0d0; font-weight: bold\">]</span><span style=\"color: #d0d0d0; text-decoration-color: #d0d0d0\"> </span>\n",
       "\n",
       "</pre>\n"
      ],
      "text/plain": [
       "\u001b[4;38;5;252mLisa Carter\u001b[0m\u001b[38;5;252m acts: \u001b[0m\u001b[1;38;5;252m[\u001b[0m\u001b[38;5;252mDONE\u001b[0m\u001b[1;38;5;252m]\u001b[0m\u001b[38;5;252m \u001b[0m\n",
       "\n"
      ]
     },
     "metadata": {},
     "output_type": "display_data"
    },
    {
     "data": {
      "text/html": [
       "<pre style=\"margin:0px;;white-space:pre;overflow-x:auto;line-height:normal;font-family:Menlo,'DejaVu Sans Mono',consolas,'Courier New',monospace\"><span style=\"color: #00ffff; text-decoration-color: #00ffff; font-weight: bold; font-style: italic; text-decoration: underline\">Lisa Carter</span><span style=\"color: #00ffff; text-decoration-color: #00ffff; font-weight: bold; font-style: italic\"> --&gt; </span><span style=\"color: #00ffff; text-decoration-color: #00ffff; font-weight: bold; font-style: italic; text-decoration: underline\">Oscar</span><span style=\"color: #00ffff; text-decoration-color: #00ffff; font-weight: bold; font-style: italic\">: [CONVERSATION] </span>\n",
       "<span style=\"color: #00ffff; text-decoration-color: #00ffff; font-weight: bold; font-style: italic\">                 &gt; I have a few follow-up questions regarding the heated cat bed presentation.</span>\n",
       "<span style=\"color: #00ffff; text-decoration-color: #00ffff; font-weight: bold; font-style: italic\">                 &gt; First, can you explain the safety features of the heating pad? Second, what</span>\n",
       "<span style=\"color: #00ffff; text-decoration-color: #00ffff; font-weight: bold; font-style: italic\">                 &gt; materials are used in the cat bed? Lastly, are there any plans for future designs</span>\n",
       "<span style=\"color: #00ffff; text-decoration-color: #00ffff; font-weight: bold; font-style: italic\">                 &gt; or improvements?</span>\n",
       "</pre>\n"
      ],
      "text/plain": [
       "\u001b[1;3;4;38;5;51mLisa Carter\u001b[0m\u001b[1;3;38;5;51m --> \u001b[0m\u001b[1;3;4;38;5;51mOscar\u001b[0m\u001b[1;3;38;5;51m: \u001b[0m\u001b[1;3;38;5;51m[\u001b[0m\u001b[1;3;38;5;51mCONVERSATION\u001b[0m\u001b[1;3;38;5;51m]\u001b[0m\u001b[1;3;38;5;51m \u001b[0m\n",
       "\u001b[1;3;38;5;51m                 > I have a few follow-up questions regarding the heated cat bed presentation.\u001b[0m\n",
       "\u001b[1;3;38;5;51m                 > First, can you explain the safety features of the heating pad? Second, what\u001b[0m\n",
       "\u001b[1;3;38;5;51m                 > materials are used in the cat bed? Lastly, are there any plans for future designs\u001b[0m\n",
       "\u001b[1;3;38;5;51m                 > or improvements?\u001b[0m\n"
      ]
     },
     "metadata": {},
     "output_type": "display_data"
    },
    {
     "data": {
      "text/html": [
       "<pre style=\"margin:0px;;white-space:pre;overflow-x:auto;line-height:normal;font-family:Menlo,'DejaVu Sans Mono',consolas,'Courier New',monospace\"><span style=\"color: #00d700; text-decoration-color: #00d700; font-weight: bold; text-decoration: underline\">Oscar</span><span style=\"color: #00d700; text-decoration-color: #00d700; font-weight: bold\"> acts: [TALK] </span>\n",
       "<span style=\"color: #00d700; text-decoration-color: #00d700; font-weight: bold\">           &gt; Thank you for the presentation! I think the heated cat bed is a great idea, especially</span>\n",
       "<span style=\"color: #00d700; text-decoration-color: #00d700; font-weight: bold\">           &gt; for winter. I have a few follow-up questions regarding the heated cat bed presentation.</span>\n",
       "<span style=\"color: #00d700; text-decoration-color: #00d700; font-weight: bold\">           &gt; First, can you explain the safety features of the heating pad? Second, what materials</span>\n",
       "<span style=\"color: #00d700; text-decoration-color: #00d700; font-weight: bold\">           &gt; are used in the cat bed? Lastly, are there any plans for future designs or</span>\n",
       "<span style=\"color: #00d700; text-decoration-color: #00d700; font-weight: bold\">           &gt; improvements?</span>\n",
       "</pre>\n"
      ],
      "text/plain": [
       "\u001b[1;4;38;5;40mOscar\u001b[0m\u001b[1;38;5;40m acts: \u001b[0m\u001b[1;38;5;40m[\u001b[0m\u001b[1;38;5;40mTALK\u001b[0m\u001b[1;38;5;40m]\u001b[0m\u001b[1;38;5;40m \u001b[0m\n",
       "\u001b[1;38;5;40m           > Thank you for the presentation! I think the heated cat bed is a great idea, especially\u001b[0m\n",
       "\u001b[1;38;5;40m           > for winter. I have a few follow-up questions regarding the heated cat bed presentation.\u001b[0m\n",
       "\u001b[1;38;5;40m           > First, can you explain the safety features of the heating pad? Second, what materials\u001b[0m\n",
       "\u001b[1;38;5;40m           > are used in the cat bed? Lastly, are there any plans for future designs or\u001b[0m\n",
       "\u001b[1;38;5;40m           > improvements?\u001b[0m\n"
      ]
     },
     "metadata": {},
     "output_type": "display_data"
    },
    {
     "data": {
      "text/html": [
       "<pre style=\"margin:0px;;white-space:pre;overflow-x:auto;line-height:normal;font-family:Menlo,'DejaVu Sans Mono',consolas,'Courier New',monospace\"><span style=\"color: #d0d0d0; text-decoration-color: #d0d0d0; text-decoration: underline\">Oscar</span><span style=\"color: #d0d0d0; text-decoration-color: #d0d0d0\"> acts: </span><span style=\"color: #d0d0d0; text-decoration-color: #d0d0d0; font-weight: bold\">[</span><span style=\"color: #d0d0d0; text-decoration-color: #d0d0d0\">DONE</span><span style=\"color: #d0d0d0; text-decoration-color: #d0d0d0; font-weight: bold\">]</span><span style=\"color: #d0d0d0; text-decoration-color: #d0d0d0\"> </span>\n",
       "\n",
       "</pre>\n"
      ],
      "text/plain": [
       "\u001b[4;38;5;252mOscar\u001b[0m\u001b[38;5;252m acts: \u001b[0m\u001b[1;38;5;252m[\u001b[0m\u001b[38;5;252mDONE\u001b[0m\u001b[1;38;5;252m]\u001b[0m\u001b[38;5;252m \u001b[0m\n",
       "\n"
      ]
     },
     "metadata": {},
     "output_type": "display_data"
    },
    {
     "data": {
      "text/html": [
       "<pre style=\"margin:0px;;white-space:pre;overflow-x:auto;line-height:normal;font-family:Menlo,'DejaVu Sans Mono',consolas,'Courier New',monospace\"><span style=\"color: #00ffff; text-decoration-color: #00ffff; font-weight: bold; font-style: italic; text-decoration: underline\">Oscar</span><span style=\"color: #00ffff; text-decoration-color: #00ffff; font-weight: bold; font-style: italic\"> --&gt; </span><span style=\"color: #00ffff; text-decoration-color: #00ffff; font-weight: bold; font-style: italic; text-decoration: underline\">Lisa Carter</span><span style=\"color: #00ffff; text-decoration-color: #00ffff; font-weight: bold; font-style: italic\">: [CONVERSATION] </span>\n",
       "<span style=\"color: #00ffff; text-decoration-color: #00ffff; font-weight: bold; font-style: italic\">           &gt; Thank you for the presentation! I think the heated cat bed is a great idea, especially</span>\n",
       "<span style=\"color: #00ffff; text-decoration-color: #00ffff; font-weight: bold; font-style: italic\">           &gt; for winter. I have a few follow-up questions regarding the heated cat bed presentation.</span>\n",
       "<span style=\"color: #00ffff; text-decoration-color: #00ffff; font-weight: bold; font-style: italic\">           &gt; First, can you explain the safety features of the heating pad? Second, what materials</span>\n",
       "<span style=\"color: #00ffff; text-decoration-color: #00ffff; font-weight: bold; font-style: italic\">           &gt; are used in the cat bed? Lastly, are there any plans for future designs or</span>\n",
       "<span style=\"color: #00ffff; text-decoration-color: #00ffff; font-weight: bold; font-style: italic\">           &gt; improvements?</span>\n",
       "</pre>\n"
      ],
      "text/plain": [
       "\u001b[1;3;4;38;5;51mOscar\u001b[0m\u001b[1;3;38;5;51m --> \u001b[0m\u001b[1;3;4;38;5;51mLisa Carter\u001b[0m\u001b[1;3;38;5;51m: \u001b[0m\u001b[1;3;38;5;51m[\u001b[0m\u001b[1;3;38;5;51mCONVERSATION\u001b[0m\u001b[1;3;38;5;51m]\u001b[0m\u001b[1;3;38;5;51m \u001b[0m\n",
       "\u001b[1;3;38;5;51m           > Thank you for the presentation! I think the heated cat bed is a great idea, especially\u001b[0m\n",
       "\u001b[1;3;38;5;51m           > for winter. I have a few follow-up questions regarding the heated cat bed presentation.\u001b[0m\n",
       "\u001b[1;3;38;5;51m           > First, can you explain the safety features of the heating pad? Second, what materials\u001b[0m\n",
       "\u001b[1;3;38;5;51m           > are used in the cat bed? Lastly, are there any plans for future designs or\u001b[0m\n",
       "\u001b[1;3;38;5;51m           > improvements?\u001b[0m\n"
      ]
     },
     "metadata": {},
     "output_type": "display_data"
    },
    {
     "data": {
      "text/html": [
       "<pre style=\"margin:0px;;white-space:pre;overflow-x:auto;line-height:normal;font-family:Menlo,'DejaVu Sans Mono',consolas,'Courier New',monospace\"><span style=\"color: #00ff00; text-decoration-color: #00ff00\">───────────────────────────────────────── </span>Presentation Review step <span style=\"color: #008080; text-decoration-color: #008080; font-weight: bold\">2</span> of <span style=\"color: #008080; text-decoration-color: #008080; font-weight: bold\">3</span><span style=\"color: #00ff00; text-decoration-color: #00ff00\"> ─────────────────────────────────────────</span>\n",
       "</pre>\n"
      ],
      "text/plain": [
       "\u001b[92m───────────────────────────────────────── \u001b[0mPresentation Review step \u001b[1;36m2\u001b[0m of \u001b[1;36m3\u001b[0m\u001b[92m ─────────────────────────────────────────\u001b[0m\n"
      ]
     },
     "metadata": {},
     "output_type": "display_data"
    },
    {
     "data": {
      "text/html": [
       "<pre style=\"margin:0px;;white-space:pre;overflow-x:auto;line-height:normal;font-family:Menlo,'DejaVu Sans Mono',consolas,'Courier New',monospace\"><span style=\"color: #00d700; text-decoration-color: #00d700; font-weight: bold; text-decoration: underline\">Lisa Carter</span><span style=\"color: #00d700; text-decoration-color: #00d700; font-weight: bold\"> acts: [TALK] </span>\n",
       "<span style=\"color: #00d700; text-decoration-color: #00d700; font-weight: bold\">                 &gt; Thank you, Oscar! I'm glad you found the heated cat bed idea appealing. Regarding</span>\n",
       "<span style=\"color: #00d700; text-decoration-color: #00d700; font-weight: bold\">                 &gt; your questions, the safety features of the heating pad include an auto-cooldown</span>\n",
       "<span style=\"color: #00d700; text-decoration-color: #00d700; font-weight: bold\">                 &gt; function to prevent overheating, and the materials used are non-toxic and durable</span>\n",
       "<span style=\"color: #00d700; text-decoration-color: #00d700; font-weight: bold\">                 &gt; to ensure the safety of your pets. As for future designs, we are considering</span>\n",
       "<span style=\"color: #00d700; text-decoration-color: #00d700; font-weight: bold\">                 &gt; expanding the range of shapes and sizes based on customer feedback.</span>\n",
       "</pre>\n"
      ],
      "text/plain": [
       "\u001b[1;4;38;5;40mLisa Carter\u001b[0m\u001b[1;38;5;40m acts: \u001b[0m\u001b[1;38;5;40m[\u001b[0m\u001b[1;38;5;40mTALK\u001b[0m\u001b[1;38;5;40m]\u001b[0m\u001b[1;38;5;40m \u001b[0m\n",
       "\u001b[1;38;5;40m                 > Thank you, Oscar! I'm glad you found the heated cat bed idea appealing. Regarding\u001b[0m\n",
       "\u001b[1;38;5;40m                 > your questions, the safety features of the heating pad include an auto-cooldown\u001b[0m\n",
       "\u001b[1;38;5;40m                 > function to prevent overheating, and the materials used are non-toxic and durable\u001b[0m\n",
       "\u001b[1;38;5;40m                 > to ensure the safety of your pets. As for future designs, we are considering\u001b[0m\n",
       "\u001b[1;38;5;40m                 > expanding the range of shapes and sizes based on customer feedback.\u001b[0m\n"
      ]
     },
     "metadata": {},
     "output_type": "display_data"
    },
    {
     "data": {
      "text/html": [
       "<pre style=\"margin:0px;;white-space:pre;overflow-x:auto;line-height:normal;font-family:Menlo,'DejaVu Sans Mono',consolas,'Courier New',monospace\"><span style=\"color: #d0d0d0; text-decoration-color: #d0d0d0; text-decoration: underline\">Lisa Carter</span><span style=\"color: #d0d0d0; text-decoration-color: #d0d0d0\"> acts: </span><span style=\"color: #d0d0d0; text-decoration-color: #d0d0d0; font-weight: bold\">[</span><span style=\"color: #d0d0d0; text-decoration-color: #d0d0d0\">DONE</span><span style=\"color: #d0d0d0; text-decoration-color: #d0d0d0; font-weight: bold\">]</span><span style=\"color: #d0d0d0; text-decoration-color: #d0d0d0\"> </span>\n",
       "\n",
       "</pre>\n"
      ],
      "text/plain": [
       "\u001b[4;38;5;252mLisa Carter\u001b[0m\u001b[38;5;252m acts: \u001b[0m\u001b[1;38;5;252m[\u001b[0m\u001b[38;5;252mDONE\u001b[0m\u001b[1;38;5;252m]\u001b[0m\u001b[38;5;252m \u001b[0m\n",
       "\n"
      ]
     },
     "metadata": {},
     "output_type": "display_data"
    },
    {
     "data": {
      "text/html": [
       "<pre style=\"margin:0px;;white-space:pre;overflow-x:auto;line-height:normal;font-family:Menlo,'DejaVu Sans Mono',consolas,'Courier New',monospace\"><span style=\"color: #00ffff; text-decoration-color: #00ffff; font-weight: bold; font-style: italic; text-decoration: underline\">Lisa Carter</span><span style=\"color: #00ffff; text-decoration-color: #00ffff; font-weight: bold; font-style: italic\"> --&gt; </span><span style=\"color: #00ffff; text-decoration-color: #00ffff; font-weight: bold; font-style: italic; text-decoration: underline\">Oscar</span><span style=\"color: #00ffff; text-decoration-color: #00ffff; font-weight: bold; font-style: italic\">: [CONVERSATION] </span>\n",
       "<span style=\"color: #00ffff; text-decoration-color: #00ffff; font-weight: bold; font-style: italic\">                 &gt; Thank you, Oscar! I'm glad you found the heated cat bed idea appealing. Regarding</span>\n",
       "<span style=\"color: #00ffff; text-decoration-color: #00ffff; font-weight: bold; font-style: italic\">                 &gt; your questions, the safety features of the heating pad include an auto-cooldown</span>\n",
       "<span style=\"color: #00ffff; text-decoration-color: #00ffff; font-weight: bold; font-style: italic\">                 &gt; function to prevent overheating, and the materials used are non-toxic and durable</span>\n",
       "<span style=\"color: #00ffff; text-decoration-color: #00ffff; font-weight: bold; font-style: italic\">                 &gt; to ensure the safety of your pets. As for future designs, we are considering</span>\n",
       "<span style=\"color: #00ffff; text-decoration-color: #00ffff; font-weight: bold; font-style: italic\">                 &gt; expanding the range of shapes and sizes based on customer feedback.</span>\n",
       "</pre>\n"
      ],
      "text/plain": [
       "\u001b[1;3;4;38;5;51mLisa Carter\u001b[0m\u001b[1;3;38;5;51m --> \u001b[0m\u001b[1;3;4;38;5;51mOscar\u001b[0m\u001b[1;3;38;5;51m: \u001b[0m\u001b[1;3;38;5;51m[\u001b[0m\u001b[1;3;38;5;51mCONVERSATION\u001b[0m\u001b[1;3;38;5;51m]\u001b[0m\u001b[1;3;38;5;51m \u001b[0m\n",
       "\u001b[1;3;38;5;51m                 > Thank you, Oscar! I'm glad you found the heated cat bed idea appealing. Regarding\u001b[0m\n",
       "\u001b[1;3;38;5;51m                 > your questions, the safety features of the heating pad include an auto-cooldown\u001b[0m\n",
       "\u001b[1;3;38;5;51m                 > function to prevent overheating, and the materials used are non-toxic and durable\u001b[0m\n",
       "\u001b[1;3;38;5;51m                 > to ensure the safety of your pets. As for future designs, we are considering\u001b[0m\n",
       "\u001b[1;3;38;5;51m                 > expanding the range of shapes and sizes based on customer feedback.\u001b[0m\n"
      ]
     },
     "metadata": {},
     "output_type": "display_data"
    },
    {
     "data": {
      "text/html": [
       "<pre style=\"margin:0px;;white-space:pre;overflow-x:auto;line-height:normal;font-family:Menlo,'DejaVu Sans Mono',consolas,'Courier New',monospace\"><span style=\"color: #00d700; text-decoration-color: #00d700; font-weight: bold; text-decoration: underline\">Oscar</span><span style=\"color: #00d700; text-decoration-color: #00d700; font-weight: bold\"> acts: [TALK] </span>\n",
       "<span style=\"color: #00d700; text-decoration-color: #00d700; font-weight: bold\">           &gt; Thank you for the detailed answers, Lisa! It's reassuring to know that safety is a</span>\n",
       "<span style=\"color: #00d700; text-decoration-color: #00d700; font-weight: bold\">           &gt; priority with the auto-cooldown feature and non-toxic materials. I'm also excited to</span>\n",
       "<span style=\"color: #00d700; text-decoration-color: #00d700; font-weight: bold\">           &gt; hear about the potential for new designs based on customer feedback. Do you have any</span>\n",
       "<span style=\"color: #00d700; text-decoration-color: #00d700; font-weight: bold\">           &gt; specific ideas in mind for those future designs?</span>\n",
       "</pre>\n"
      ],
      "text/plain": [
       "\u001b[1;4;38;5;40mOscar\u001b[0m\u001b[1;38;5;40m acts: \u001b[0m\u001b[1;38;5;40m[\u001b[0m\u001b[1;38;5;40mTALK\u001b[0m\u001b[1;38;5;40m]\u001b[0m\u001b[1;38;5;40m \u001b[0m\n",
       "\u001b[1;38;5;40m           > Thank you for the detailed answers, Lisa! It's reassuring to know that safety is a\u001b[0m\n",
       "\u001b[1;38;5;40m           > priority with the auto-cooldown feature and non-toxic materials. I'm also excited to\u001b[0m\n",
       "\u001b[1;38;5;40m           > hear about the potential for new designs based on customer feedback. Do you have any\u001b[0m\n",
       "\u001b[1;38;5;40m           > specific ideas in mind for those future designs?\u001b[0m\n"
      ]
     },
     "metadata": {},
     "output_type": "display_data"
    },
    {
     "data": {
      "text/html": [
       "<pre style=\"margin:0px;;white-space:pre;overflow-x:auto;line-height:normal;font-family:Menlo,'DejaVu Sans Mono',consolas,'Courier New',monospace\"><span style=\"color: #d0d0d0; text-decoration-color: #d0d0d0; text-decoration: underline\">Oscar</span><span style=\"color: #d0d0d0; text-decoration-color: #d0d0d0\"> acts: </span><span style=\"color: #d0d0d0; text-decoration-color: #d0d0d0; font-weight: bold\">[</span><span style=\"color: #d0d0d0; text-decoration-color: #d0d0d0\">DONE</span><span style=\"color: #d0d0d0; text-decoration-color: #d0d0d0; font-weight: bold\">]</span><span style=\"color: #d0d0d0; text-decoration-color: #d0d0d0\"> </span>\n",
       "\n",
       "</pre>\n"
      ],
      "text/plain": [
       "\u001b[4;38;5;252mOscar\u001b[0m\u001b[38;5;252m acts: \u001b[0m\u001b[1;38;5;252m[\u001b[0m\u001b[38;5;252mDONE\u001b[0m\u001b[1;38;5;252m]\u001b[0m\u001b[38;5;252m \u001b[0m\n",
       "\n"
      ]
     },
     "metadata": {},
     "output_type": "display_data"
    },
    {
     "data": {
      "text/html": [
       "<pre style=\"margin:0px;;white-space:pre;overflow-x:auto;line-height:normal;font-family:Menlo,'DejaVu Sans Mono',consolas,'Courier New',monospace\"><span style=\"color: #00ffff; text-decoration-color: #00ffff; font-weight: bold; font-style: italic; text-decoration: underline\">Oscar</span><span style=\"color: #00ffff; text-decoration-color: #00ffff; font-weight: bold; font-style: italic\"> --&gt; </span><span style=\"color: #00ffff; text-decoration-color: #00ffff; font-weight: bold; font-style: italic; text-decoration: underline\">Lisa Carter</span><span style=\"color: #00ffff; text-decoration-color: #00ffff; font-weight: bold; font-style: italic\">: [CONVERSATION] </span>\n",
       "<span style=\"color: #00ffff; text-decoration-color: #00ffff; font-weight: bold; font-style: italic\">           &gt; Thank you for the detailed answers, Lisa! It's reassuring to know that safety is a</span>\n",
       "<span style=\"color: #00ffff; text-decoration-color: #00ffff; font-weight: bold; font-style: italic\">           &gt; priority with the auto-cooldown feature and non-toxic materials. I'm also excited to</span>\n",
       "<span style=\"color: #00ffff; text-decoration-color: #00ffff; font-weight: bold; font-style: italic\">           &gt; hear about the potential for new designs based on customer feedback. Do you have any</span>\n",
       "<span style=\"color: #00ffff; text-decoration-color: #00ffff; font-weight: bold; font-style: italic\">           &gt; specific ideas in mind for those future designs?</span>\n",
       "</pre>\n"
      ],
      "text/plain": [
       "\u001b[1;3;4;38;5;51mOscar\u001b[0m\u001b[1;3;38;5;51m --> \u001b[0m\u001b[1;3;4;38;5;51mLisa Carter\u001b[0m\u001b[1;3;38;5;51m: \u001b[0m\u001b[1;3;38;5;51m[\u001b[0m\u001b[1;3;38;5;51mCONVERSATION\u001b[0m\u001b[1;3;38;5;51m]\u001b[0m\u001b[1;3;38;5;51m \u001b[0m\n",
       "\u001b[1;3;38;5;51m           > Thank you for the detailed answers, Lisa! It's reassuring to know that safety is a\u001b[0m\n",
       "\u001b[1;3;38;5;51m           > priority with the auto-cooldown feature and non-toxic materials. I'm also excited to\u001b[0m\n",
       "\u001b[1;3;38;5;51m           > hear about the potential for new designs based on customer feedback. Do you have any\u001b[0m\n",
       "\u001b[1;3;38;5;51m           > specific ideas in mind for those future designs?\u001b[0m\n"
      ]
     },
     "metadata": {},
     "output_type": "display_data"
    },
    {
     "data": {
      "text/html": [
       "<pre style=\"margin:0px;;white-space:pre;overflow-x:auto;line-height:normal;font-family:Menlo,'DejaVu Sans Mono',consolas,'Courier New',monospace\"><span style=\"color: #00ff00; text-decoration-color: #00ff00\">───────────────────────────────────────── </span>Presentation Review step <span style=\"color: #008080; text-decoration-color: #008080; font-weight: bold\">3</span> of <span style=\"color: #008080; text-decoration-color: #008080; font-weight: bold\">3</span><span style=\"color: #00ff00; text-decoration-color: #00ff00\"> ─────────────────────────────────────────</span>\n",
       "</pre>\n"
      ],
      "text/plain": [
       "\u001b[92m───────────────────────────────────────── \u001b[0mPresentation Review step \u001b[1;36m3\u001b[0m of \u001b[1;36m3\u001b[0m\u001b[92m ─────────────────────────────────────────\u001b[0m\n"
      ]
     },
     "metadata": {},
     "output_type": "display_data"
    },
    {
     "data": {
      "text/html": [
       "<pre style=\"margin:0px;;white-space:pre;overflow-x:auto;line-height:normal;font-family:Menlo,'DejaVu Sans Mono',consolas,'Courier New',monospace\"><span style=\"color: #008000; text-decoration-color: #008000; text-decoration: underline\">Lisa Carter</span><span style=\"color: #008000; text-decoration-color: #008000\"> acts: </span><span style=\"color: #008000; text-decoration-color: #008000; font-weight: bold\">[</span><span style=\"color: #008000; text-decoration-color: #008000\">THINK</span><span style=\"color: #008000; text-decoration-color: #008000; font-weight: bold\">]</span><span style=\"color: #008000; text-decoration-color: #008000\"> </span>\n",
       "<span style=\"color: #008000; text-decoration-color: #008000\">                 &gt; Oscar seems genuinely interested in the future designs of the heated cat bed. I</span>\n",
       "<span style=\"color: #008000; text-decoration-color: #008000\">                 &gt; should think about what ideas we might have for new designs. Perhaps we could</span>\n",
       "<span style=\"color: #008000; text-decoration-color: #008000\">                 &gt; consider different shapes that cater to various cat preferences, or even themed</span>\n",
       "<span style=\"color: #008000; text-decoration-color: #008000\">                 &gt; designs that appeal to cat owners. I need to articulate this clearly in my</span>\n",
       "<span style=\"color: #008000; text-decoration-color: #008000\">                 &gt; response.</span>\n",
       "</pre>\n"
      ],
      "text/plain": [
       "\u001b[4;32mLisa Carter\u001b[0m\u001b[32m acts: \u001b[0m\u001b[1;32m[\u001b[0m\u001b[32mTHINK\u001b[0m\u001b[1;32m]\u001b[0m\u001b[32m \u001b[0m\n",
       "\u001b[32m                 > Oscar seems genuinely interested in the future designs of the heated cat bed. I\u001b[0m\n",
       "\u001b[32m                 > should think about what ideas we might have for new designs. Perhaps we could\u001b[0m\n",
       "\u001b[32m                 > consider different shapes that cater to various cat preferences, or even themed\u001b[0m\n",
       "\u001b[32m                 > designs that appeal to cat owners. I need to articulate this clearly in my\u001b[0m\n",
       "\u001b[32m                 > response.\u001b[0m\n"
      ]
     },
     "metadata": {},
     "output_type": "display_data"
    },
    {
     "data": {
      "text/html": [
       "<pre style=\"margin:0px;;white-space:pre;overflow-x:auto;line-height:normal;font-family:Menlo,'DejaVu Sans Mono',consolas,'Courier New',monospace\"><span style=\"color: #00d700; text-decoration-color: #00d700; font-weight: bold; text-decoration: underline\">Lisa Carter</span><span style=\"color: #00d700; text-decoration-color: #00d700; font-weight: bold\"> acts: [TALK] </span>\n",
       "<span style=\"color: #00d700; text-decoration-color: #00d700; font-weight: bold\">                 &gt; Thank you for your interest, Oscar! We have a few ideas in mind for future</span>\n",
       "<span style=\"color: #00d700; text-decoration-color: #00d700; font-weight: bold\">                 &gt; designs. One concept is to create a cat bed that resembles a cozy cave, providing</span>\n",
       "<span style=\"color: #00d700; text-decoration-color: #00d700; font-weight: bold\">                 &gt; a sense of security for cats. Another idea is to offer customizable covers with</span>\n",
       "<span style=\"color: #00d700; text-decoration-color: #00d700; font-weight: bold\">                 &gt; different patterns and colors to match home decor. We’re also considering a</span>\n",
       "<span style=\"color: #00d700; text-decoration-color: #00d700; font-weight: bold\">                 &gt; modular design that allows owners to adjust the size as their cat grows. What do</span>\n",
       "<span style=\"color: #00d700; text-decoration-color: #00d700; font-weight: bold\">                 &gt; you think of these ideas?</span>\n",
       "</pre>\n"
      ],
      "text/plain": [
       "\u001b[1;4;38;5;40mLisa Carter\u001b[0m\u001b[1;38;5;40m acts: \u001b[0m\u001b[1;38;5;40m[\u001b[0m\u001b[1;38;5;40mTALK\u001b[0m\u001b[1;38;5;40m]\u001b[0m\u001b[1;38;5;40m \u001b[0m\n",
       "\u001b[1;38;5;40m                 > Thank you for your interest, Oscar! We have a few ideas in mind for future\u001b[0m\n",
       "\u001b[1;38;5;40m                 > designs. One concept is to create a cat bed that resembles a cozy cave, providing\u001b[0m\n",
       "\u001b[1;38;5;40m                 > a sense of security for cats. Another idea is to offer customizable covers with\u001b[0m\n",
       "\u001b[1;38;5;40m                 > different patterns and colors to match home decor. We’re also considering a\u001b[0m\n",
       "\u001b[1;38;5;40m                 > modular design that allows owners to adjust the size as their cat grows. What do\u001b[0m\n",
       "\u001b[1;38;5;40m                 > you think of these ideas?\u001b[0m\n"
      ]
     },
     "metadata": {},
     "output_type": "display_data"
    },
    {
     "data": {
      "text/html": [
       "<pre style=\"margin:0px;;white-space:pre;overflow-x:auto;line-height:normal;font-family:Menlo,'DejaVu Sans Mono',consolas,'Courier New',monospace\"><span style=\"color: #d0d0d0; text-decoration-color: #d0d0d0; text-decoration: underline\">Lisa Carter</span><span style=\"color: #d0d0d0; text-decoration-color: #d0d0d0\"> acts: </span><span style=\"color: #d0d0d0; text-decoration-color: #d0d0d0; font-weight: bold\">[</span><span style=\"color: #d0d0d0; text-decoration-color: #d0d0d0\">DONE</span><span style=\"color: #d0d0d0; text-decoration-color: #d0d0d0; font-weight: bold\">]</span><span style=\"color: #d0d0d0; text-decoration-color: #d0d0d0\"> </span>\n",
       "\n",
       "</pre>\n"
      ],
      "text/plain": [
       "\u001b[4;38;5;252mLisa Carter\u001b[0m\u001b[38;5;252m acts: \u001b[0m\u001b[1;38;5;252m[\u001b[0m\u001b[38;5;252mDONE\u001b[0m\u001b[1;38;5;252m]\u001b[0m\u001b[38;5;252m \u001b[0m\n",
       "\n"
      ]
     },
     "metadata": {},
     "output_type": "display_data"
    },
    {
     "data": {
      "text/html": [
       "<pre style=\"margin:0px;;white-space:pre;overflow-x:auto;line-height:normal;font-family:Menlo,'DejaVu Sans Mono',consolas,'Courier New',monospace\"><span style=\"color: #00ffff; text-decoration-color: #00ffff; font-weight: bold; font-style: italic; text-decoration: underline\">Lisa Carter</span><span style=\"color: #00ffff; text-decoration-color: #00ffff; font-weight: bold; font-style: italic\"> --&gt; </span><span style=\"color: #00ffff; text-decoration-color: #00ffff; font-weight: bold; font-style: italic; text-decoration: underline\">Oscar</span><span style=\"color: #00ffff; text-decoration-color: #00ffff; font-weight: bold; font-style: italic\">: [CONVERSATION] </span>\n",
       "<span style=\"color: #00ffff; text-decoration-color: #00ffff; font-weight: bold; font-style: italic\">                 &gt; Thank you for your interest, Oscar! We have a few ideas in mind for future</span>\n",
       "<span style=\"color: #00ffff; text-decoration-color: #00ffff; font-weight: bold; font-style: italic\">                 &gt; designs. One concept is to create a cat bed that resembles a cozy cave, providing</span>\n",
       "<span style=\"color: #00ffff; text-decoration-color: #00ffff; font-weight: bold; font-style: italic\">                 &gt; a sense of security for cats. Another idea is to offer customizable covers with</span>\n",
       "<span style=\"color: #00ffff; text-decoration-color: #00ffff; font-weight: bold; font-style: italic\">                 &gt; different patterns and colors to match home decor. We’re also considering a</span>\n",
       "<span style=\"color: #00ffff; text-decoration-color: #00ffff; font-weight: bold; font-style: italic\">                 &gt; modular design that allows owners to adjust the size as their cat grows. What do</span>\n",
       "<span style=\"color: #00ffff; text-decoration-color: #00ffff; font-weight: bold; font-style: italic\">                 &gt; you think of these ideas?</span>\n",
       "</pre>\n"
      ],
      "text/plain": [
       "\u001b[1;3;4;38;5;51mLisa Carter\u001b[0m\u001b[1;3;38;5;51m --> \u001b[0m\u001b[1;3;4;38;5;51mOscar\u001b[0m\u001b[1;3;38;5;51m: \u001b[0m\u001b[1;3;38;5;51m[\u001b[0m\u001b[1;3;38;5;51mCONVERSATION\u001b[0m\u001b[1;3;38;5;51m]\u001b[0m\u001b[1;3;38;5;51m \u001b[0m\n",
       "\u001b[1;3;38;5;51m                 > Thank you for your interest, Oscar! We have a few ideas in mind for future\u001b[0m\n",
       "\u001b[1;3;38;5;51m                 > designs. One concept is to create a cat bed that resembles a cozy cave, providing\u001b[0m\n",
       "\u001b[1;3;38;5;51m                 > a sense of security for cats. Another idea is to offer customizable covers with\u001b[0m\n",
       "\u001b[1;3;38;5;51m                 > different patterns and colors to match home decor. We’re also considering a\u001b[0m\n",
       "\u001b[1;3;38;5;51m                 > modular design that allows owners to adjust the size as their cat grows. What do\u001b[0m\n",
       "\u001b[1;3;38;5;51m                 > you think of these ideas?\u001b[0m\n"
      ]
     },
     "metadata": {},
     "output_type": "display_data"
    },
    {
     "data": {
      "text/html": [
       "<pre style=\"margin:0px;;white-space:pre;overflow-x:auto;line-height:normal;font-family:Menlo,'DejaVu Sans Mono',consolas,'Courier New',monospace\"><span style=\"color: #00d700; text-decoration-color: #00d700; font-weight: bold; text-decoration: underline\">Oscar</span><span style=\"color: #00d700; text-decoration-color: #00d700; font-weight: bold\"> acts: [TALK] </span>\n",
       "<span style=\"color: #00d700; text-decoration-color: #00d700; font-weight: bold\">           &gt; I love those ideas, Lisa! A cozy cave design sounds perfect for cats that like to feel</span>\n",
       "<span style=\"color: #00d700; text-decoration-color: #00d700; font-weight: bold\">           &gt; secure, and customizable covers would definitely appeal to many cat owners. The modular</span>\n",
       "<span style=\"color: #00d700; text-decoration-color: #00d700; font-weight: bold\">           &gt; design is also a fantastic concept, as it would allow the bed to grow with the cat. I</span>\n",
       "<span style=\"color: #00d700; text-decoration-color: #00d700; font-weight: bold\">           &gt; think these features could really set your product apart in the market!</span>\n",
       "</pre>\n"
      ],
      "text/plain": [
       "\u001b[1;4;38;5;40mOscar\u001b[0m\u001b[1;38;5;40m acts: \u001b[0m\u001b[1;38;5;40m[\u001b[0m\u001b[1;38;5;40mTALK\u001b[0m\u001b[1;38;5;40m]\u001b[0m\u001b[1;38;5;40m \u001b[0m\n",
       "\u001b[1;38;5;40m           > I love those ideas, Lisa! A cozy cave design sounds perfect for cats that like to feel\u001b[0m\n",
       "\u001b[1;38;5;40m           > secure, and customizable covers would definitely appeal to many cat owners. The modular\u001b[0m\n",
       "\u001b[1;38;5;40m           > design is also a fantastic concept, as it would allow the bed to grow with the cat. I\u001b[0m\n",
       "\u001b[1;38;5;40m           > think these features could really set your product apart in the market!\u001b[0m\n"
      ]
     },
     "metadata": {},
     "output_type": "display_data"
    },
    {
     "data": {
      "text/html": [
       "<pre style=\"margin:0px;;white-space:pre;overflow-x:auto;line-height:normal;font-family:Menlo,'DejaVu Sans Mono',consolas,'Courier New',monospace\"><span style=\"color: #d0d0d0; text-decoration-color: #d0d0d0; text-decoration: underline\">Oscar</span><span style=\"color: #d0d0d0; text-decoration-color: #d0d0d0\"> acts: </span><span style=\"color: #d0d0d0; text-decoration-color: #d0d0d0; font-weight: bold\">[</span><span style=\"color: #d0d0d0; text-decoration-color: #d0d0d0\">DONE</span><span style=\"color: #d0d0d0; text-decoration-color: #d0d0d0; font-weight: bold\">]</span><span style=\"color: #d0d0d0; text-decoration-color: #d0d0d0\"> </span>\n",
       "\n",
       "</pre>\n"
      ],
      "text/plain": [
       "\u001b[4;38;5;252mOscar\u001b[0m\u001b[38;5;252m acts: \u001b[0m\u001b[1;38;5;252m[\u001b[0m\u001b[38;5;252mDONE\u001b[0m\u001b[1;38;5;252m]\u001b[0m\u001b[38;5;252m \u001b[0m\n",
       "\n"
      ]
     },
     "metadata": {},
     "output_type": "display_data"
    },
    {
     "data": {
      "text/html": [
       "<pre style=\"margin:0px;;white-space:pre;overflow-x:auto;line-height:normal;font-family:Menlo,'DejaVu Sans Mono',consolas,'Courier New',monospace\"><span style=\"color: #00ffff; text-decoration-color: #00ffff; font-weight: bold; font-style: italic; text-decoration: underline\">Oscar</span><span style=\"color: #00ffff; text-decoration-color: #00ffff; font-weight: bold; font-style: italic\"> --&gt; </span><span style=\"color: #00ffff; text-decoration-color: #00ffff; font-weight: bold; font-style: italic; text-decoration: underline\">Lisa Carter</span><span style=\"color: #00ffff; text-decoration-color: #00ffff; font-weight: bold; font-style: italic\">: [CONVERSATION] </span>\n",
       "<span style=\"color: #00ffff; text-decoration-color: #00ffff; font-weight: bold; font-style: italic\">           &gt; I love those ideas, Lisa! A cozy cave design sounds perfect for cats that like to feel</span>\n",
       "<span style=\"color: #00ffff; text-decoration-color: #00ffff; font-weight: bold; font-style: italic\">           &gt; secure, and customizable covers would definitely appeal to many cat owners. The modular</span>\n",
       "<span style=\"color: #00ffff; text-decoration-color: #00ffff; font-weight: bold; font-style: italic\">           &gt; design is also a fantastic concept, as it would allow the bed to grow with the cat. I</span>\n",
       "<span style=\"color: #00ffff; text-decoration-color: #00ffff; font-weight: bold; font-style: italic\">           &gt; think these features could really set your product apart in the market!</span>\n",
       "</pre>\n"
      ],
      "text/plain": [
       "\u001b[1;3;4;38;5;51mOscar\u001b[0m\u001b[1;3;38;5;51m --> \u001b[0m\u001b[1;3;4;38;5;51mLisa Carter\u001b[0m\u001b[1;3;38;5;51m: \u001b[0m\u001b[1;3;38;5;51m[\u001b[0m\u001b[1;3;38;5;51mCONVERSATION\u001b[0m\u001b[1;3;38;5;51m]\u001b[0m\u001b[1;3;38;5;51m \u001b[0m\n",
       "\u001b[1;3;38;5;51m           > I love those ideas, Lisa! A cozy cave design sounds perfect for cats that like to feel\u001b[0m\n",
       "\u001b[1;3;38;5;51m           > secure, and customizable covers would definitely appeal to many cat owners. The modular\u001b[0m\n",
       "\u001b[1;3;38;5;51m           > design is also a fantastic concept, as it would allow the bed to grow with the cat. I\u001b[0m\n",
       "\u001b[1;3;38;5;51m           > think these features could really set your product apart in the market!\u001b[0m\n"
      ]
     },
     "metadata": {},
     "output_type": "display_data"
    }
   ],
   "source": [
    "env.run(3)"
   ]
  },
  {
   "cell_type": "code",
   "execution_count": 22,
   "id": "d83729d0-549c-4d1b-9257-cc1f5c36b7d8",
   "metadata": {},
   "outputs": [],
   "source": [
    "control.checkpoint()"
   ]
  },
  {
   "cell_type": "code",
   "execution_count": 23,
   "id": "5ec88c59-5e09-4831-adcb-35cea904f382",
   "metadata": {},
   "outputs": [
    {
     "name": "stdout",
     "output_type": "stream",
     "text": [
      "Extraction raw result message: {'content': '{\\n  \"response\": \"Yes\",\\n  \"justification\": \"The heated cat bed is a great idea, especially for winter, and it has appealing features like safety and customization.\",\\n  \"questions\": [\\n    \"Can you explain the safety features of the heating pad?\",\\n    \"What materials are used in the cat bed?\",\\n    \"Are there any plans for future designs or improvements?\"\\n  ]\\n}', 'refusal': None, 'role': 'assistant'}\n"
     ]
    },
    {
     "data": {
      "text/plain": [
       "{'response': 'Yes',\n",
       " 'justification': 'The heated cat bed is a great idea, especially for winter, and it has appealing features like safety and customization.',\n",
       " 'questions': ['Can you explain the safety features of the heating pad?',\n",
       "  'What materials are used in the cat bed?',\n",
       "  'Are there any plans for future designs or improvements?']}"
      ]
     },
     "execution_count": 23,
     "metadata": {},
     "output_type": "execute_result"
    }
   ],
   "source": [
    "results_extractor.extract_results_from_world(env)"
   ]
  },
  {
   "cell_type": "code",
   "execution_count": 25,
   "id": "462f11c6-3440-4a25-986f-9bc69f5218a8",
   "metadata": {},
   "outputs": [
    {
     "name": "stdout",
     "output_type": "stream",
     "text": [
      "Extraction raw result message: {'content': '{\\n  \"response\": \"Maybe\",\\n  \"justification\": \"The presentation was engaging and highlighted the benefits of the heated cat bed, but I need to consider a few aspects before deciding.\",\\n  \"questions\": [\\n    \"Can you explain the safety features of the heating pad?\",\\n    \"What materials are used in the cat bed?\",\\n    \"Are there any plans for future designs or improvements?\"\\n  ]\\n}', 'refusal': None, 'role': 'assistant'}\n",
      "Extraction raw result message: {'content': '{\\n  \"response\": \"Yes\",\\n  \"justification\": \"I think the heated cat bed is a great idea, especially for winter.\",\\n  \"questions\": [\\n    \"Can you explain the safety features of the heating pad?\",\\n    \"What materials are used in the cat bed?\",\\n    \"Are there any plans for future designs or improvements?\"\\n  ]\\n}', 'refusal': None, 'role': 'assistant'}\n"
     ]
    }
   ],
   "source": [
    "res_data = results_extractor.extract_results_from_agents([lisa, oscar])"
   ]
  },
  {
   "cell_type": "code",
   "execution_count": 26,
   "id": "5d7a65d3-3f8c-4187-bbcb-db754d215b32",
   "metadata": {},
   "outputs": [],
   "source": [
    "df = pd.DataFrame(res_data)"
   ]
  },
  {
   "cell_type": "code",
   "execution_count": 30,
   "id": "3864c43c-c677-4674-80bd-7d1fe485627a",
   "metadata": {},
   "outputs": [
    {
     "name": "stdout",
     "output_type": "stream",
     "text": [
      "Agent: 1. Agent name: Lisa Carter\n",
      "Agent summary: Lisa Carter is a 28 year old Data Scientist, Canadian, currently living in USA. Lisa Carter is not only a dedicated Data Scientist but also a curious and imaginative individual who thrives on learning and problem-solving. Her analytical mindset is complemented by a friendly demeanor, making her a supportive team member who enjoys mentoring others. Outside of her professional life, Lisa has a passion for cooking and often experiments with new recipes, finding joy in the creative process. Additionally, her love for music is evident in her piano playing, which serves as a relaxing outlet after a productive day of analyzing data and building machine learning models.\n",
      "\tResponse: Maybe.\n",
      "\tJustification: The presentation was engaging and highlighted the benefits of the heated cat bed, but I need to consider a few aspects before deciding.\n",
      "\tQuestions: ['Can you explain the safety features of the heating pad?', 'What materials are used in the cat bed?', 'Are there any plans for future designs or improvements?']\n",
      "Agent: 2. Agent name: Oscar\n",
      "Agent summary: Oscar is a 30 year old Architect, German, currently living in Germany. Oscar is not only a dedicated architect but also a creative thinker who thrives on innovation and sustainability. His passion for modernist architecture and new technologies drives him to explore cutting-edge solutions that enhance urban living. Outside of work, he enjoys playing the guitar, which serves as a creative outlet and a way to unwind after a busy day. With a warm and approachable demeanor, Oscar values meaningful connections with clients and colleagues alike, often sharing his witty sense of humor to foster a collaborative atmosphere.\n",
      "\tResponse: Yes.\n",
      "\tJustification: I think the heated cat bed is a great idea, especially for winter.\n",
      "\tQuestions: ['Can you explain the safety features of the heating pad?', 'What materials are used in the cat bed?', 'Are there any plans for future designs or improvements?']\n"
     ]
    }
   ],
   "source": [
    "for i,agent in enumerate([lisa, oscar]):\n",
    "    data = res_data[i]\n",
    "    print(f\"Agent: {i+1}. Agent name: {agent.name}\")\n",
    "    print(f\"Agent summary: {agent.minibio()}\")\n",
    "    print(f\"\\tResponse: {data['response']}.\\n\\tJustification: {data['justification']}\\n\\tQuestions: {data['questions']}\")"
   ]
  },
  {
   "cell_type": "code",
   "execution_count": 29,
   "id": "d3948b73-a6c4-485b-a06d-82a82bd1b0cc",
   "metadata": {},
   "outputs": [
    {
     "data": {
      "text/plain": [
       "[{'response': 'Maybe',\n",
       "  'justification': 'The presentation was engaging and highlighted the benefits of the heated cat bed, but I need to consider a few aspects before deciding.',\n",
       "  'questions': ['Can you explain the safety features of the heating pad?',\n",
       "   'What materials are used in the cat bed?',\n",
       "   'Are there any plans for future designs or improvements?']},\n",
       " {'response': 'Yes',\n",
       "  'justification': 'I think the heated cat bed is a great idea, especially for winter.',\n",
       "  'questions': ['Can you explain the safety features of the heating pad?',\n",
       "   'What materials are used in the cat bed?',\n",
       "   'Are there any plans for future designs or improvements?']}]"
      ]
     },
     "execution_count": 29,
     "metadata": {},
     "output_type": "execute_result"
    }
   ],
   "source": [
    "res_data"
   ]
  },
  {
   "cell_type": "markdown",
   "id": "9d28268d-199b-4e01-95ca-a0415109a489",
   "metadata": {},
   "source": [
    "## TinyFactory"
   ]
  },
  {
   "cell_type": "markdown",
   "id": "45d9a4ae-af07-4165-9df0-2d22d96d087e",
   "metadata": {},
   "source": [
    "A. Clarity & Coherence\n",
    "Logical Structure – Does the presentation have a clear introduction, body, and conclusion?\n",
    "Flow of Ideas – Are concepts logically connected, avoiding abrupt jumps?\n",
    "Concise Wording – Is text minimal yet informative, avoiding unnecessary complexity?\n",
    "B. Audience Engagement\n",
    "Visual Appeal – Are slides visually engaging (good use of images, charts, and readable fonts)?\n",
    "Cognitive Load – Does the slide balance information density without overwhelming the audience?\n",
    "Call to Action – Does it clearly indicate what the audience should do or take away?\n",
    "C. Relevance & Credibility\n",
    "Purpose Alignment – Does the content align with the intended goal (inform, persuade, teach, etc.)?\n",
    "Evidence & Data – Are facts, statistics, or references used where needed?\n",
    "Target Audience Fit – Does the tone, complexity, and style match the audience's expectations?\n",
    "D. Delivery Feasibility\n",
    "Speaker Notes & Cues – Are there supporting notes for seamless delivery?\n",
    "Time Appropriateness – Can the content be covered effectively in the given time?\n",
    "Slide Count & Density – Is the number of slides reasonable for the intended duration?"
   ]
  },
  {
   "cell_type": "code",
   "execution_count": 31,
   "id": "08544576-b036-458f-8963-3872bc711c06",
   "metadata": {},
   "outputs": [],
   "source": [
    "ppt_title = \"Heated-Cat-Bed\"\n",
    "ppt_desc = \"Presentation for a cat bed design that contains a heating pad.\"\n",
    "ppt_intent = \"Sell cat beds\"\n",
    "ppt_audience = \"Cat owners\"\n",
    "\n",
    "employee_goal = \"\"\"\n",
    "Analyze the presentation and give the following feedback:\n",
    "- Clarity & Coherence\n",
    "    - Logical Structure – Does the presentation have a clear introduction, body, and conclusion?\n",
    "    - Flow of Ideas – Are concepts logically connected, avoiding abrupt jumps?\n",
    "    - Concise Wording – Is text minimal yet informative, avoiding unnecessary complexity?\n",
    "- \n",
    "\"\"\""
   ]
  },
  {
   "cell_type": "code",
   "execution_count": null,
   "id": "c872ded0-ad61-4b9c-9cae-c98838a1379d",
   "metadata": {},
   "outputs": [],
   "source": [
    "company_employee_context = f\"\"\"\n",
    "We are performing a review of a powerpoint presentation \n",
    "Presentation Name: {ppt_title}\n",
    "Presentation Description: {ppt_desc}\n",
    "Presentation Intent: {ppt_intent}\n",
    "Presentation Audience: {ppt_audience}\n",
    "\n",
    "We want a sample of people with the following criteria:\n",
    "- Working at the company whose employee is making this presentation.\n",
    "- Varied background of people working in the company\n",
    "    - from the simplest professions to those of the highest ranks;\n",
    "    - from the youngest to the oldest; \n",
    "    - from male to female to any gender\n",
    "    \n",
    "\n",
    "\n",
    "a **uniform** **random** \n",
    "            representative sample of people from this population. We are surveying the market for a new food product, to be sold in supermarkets, \n",
    "            so pay special consideration to specify the culinary tastes of people and their shopping habits, which must be as realistic as possible.\n",
    "            \n",
    "            The sample must include representative people from the broad population, so for instance ensure that you include people from all walks of life:\n",
    "              - from the simplest professions to those of the highest ranks;\n",
    "              - from the youngest to the oldest; \n",
    "              - from the kind to the evil;\n",
    "              - from the happy and joyful to the sad and depressed;\n",
    "              - from the most conservative, to the most liberal; \n",
    "              - from the educated, to the ignorant;\n",
    "              - from the healthy to the sick;\n",
    "              - from rich to poor.             \n",
    "\"\"\"\n",
    "\n",
    "product_customer_context = \"\"\"\n",
    "\"\"\""
   ]
  }
 ],
 "metadata": {
  "kernelspec": {
   "display_name": "tinytroupe",
   "language": "python",
   "name": "tinytroupe"
  },
  "language_info": {
   "codemirror_mode": {
    "name": "ipython",
    "version": 3
   },
   "file_extension": ".py",
   "mimetype": "text/x-python",
   "name": "python",
   "nbconvert_exporter": "python",
   "pygments_lexer": "ipython3",
   "version": "3.10.16"
  }
 },
 "nbformat": 4,
 "nbformat_minor": 5
}
