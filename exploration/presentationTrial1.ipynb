{
 "cells": [
  {
   "cell_type": "code",
   "execution_count": 2,
   "id": "88caf5f1-80a1-4f31-8f88-be717ce111ca",
   "metadata": {
    "collapsed": true,
    "jupyter": {
     "outputs_hidden": true
    },
    "scrolled": true
   },
   "outputs": [
    {
     "name": "stdout",
     "output_type": "stream",
     "text": [
      "Looking for default config on: C:\\Users\\tejitpabari\\AppData\\Local\\miniconda3\\envs\\tinytroupe\\lib\\site-packages\\tinytroupe\\utils\\..\\config.ini\n",
      "Found custom config on: C:\\Users\\tejitpabari\\OneDrive - Microsoft\\Documents\\Projects\\TTAgentChallengeFeb2025\\exploration\\config.ini\n",
      "\n",
      "!!!!\n",
      "DISCLAIMER: TinyTroupe relies on Artificial Intelligence (AI) models to generate content. \n",
      "The AI models are not perfect and may produce inappropriate or inacurate results. \n",
      "For any serious or consequential use, please review the generated content before using it.\n",
      "!!!!\n",
      "\n",
      "\n",
      "=================================\n",
      "Current TinyTroupe configuration \n",
      "=================================\n",
      "[OpenAI]\n",
      "api_type = openai\n",
      "azure_api_version = 2024-08-01-preview\n",
      "model = gpt-4o-mini\n",
      "max_tokens = 4000\n",
      "temperature = 1.2\n",
      "freq_penalty = 0.0\n",
      "presence_penalty = 0.0\n",
      "timeout = 60\n",
      "max_attempts = 5\n",
      "waiting_time = 2\n",
      "exponential_backoff_factor = 5\n",
      "embedding_model = text-embedding-3-small\n",
      "cache_api_calls = False\n",
      "cache_file_name = openai_api_cache.pickle\n",
      "max_content_display_length = 1024\n",
      "azure_embedding_model_api_version = 2023-05-15\n",
      "\n",
      "[Simulation]\n",
      "rai_harmful_content_prevention = True\n",
      "rai_copyright_infringement_prevention = True\n",
      "\n",
      "[Logging]\n",
      "loglevel = ERROR\n",
      "\n"
     ]
    }
   ],
   "source": [
    "import json\n",
    "import sys\n",
    "import pandas as pd\n",
    "import matplotlib.pyplot as plt\n",
    "\n",
    "sys.path.insert(0, '..')\n",
    "\n",
    "import tinytroupe\n",
    "from tinytroupe.agent import TinyPerson\n",
    "from tinytroupe.environment import TinyWorld\n",
    "from tinytroupe.factory import TinyPersonFactory\n",
    "from tinytroupe.validation import TinyPersonValidator\n",
    "from tinytroupe import control\n",
    "from tinytroupe.examples import create_lisa_the_data_scientist, create_oscar_the_architect\n",
    "\n",
    "from tinytroupe.extraction import ResultsExtractor\n",
    "from tinytroupe.profiling import Profiler"
   ]
  },
  {
   "cell_type": "markdown",
   "id": "4d5be046-3d05-48d5-8e2e-1faf5381cca8",
   "metadata": {},
   "source": [
    "## Setup"
   ]
  },
  {
   "cell_type": "code",
   "execution_count": 3,
   "id": "c9e5b646-dd0c-4788-bf65-722d6c76d4aa",
   "metadata": {},
   "outputs": [],
   "source": [
    "env = TinyWorld(\"Presentation Review\")"
   ]
  },
  {
   "cell_type": "code",
   "execution_count": 4,
   "id": "d6d3417a-bcde-45d0-967d-f62645b5e825",
   "metadata": {},
   "outputs": [],
   "source": [
    "control.begin('./presentationTrial1.cache.json')"
   ]
  },
  {
   "cell_type": "code",
   "execution_count": 5,
   "id": "053d3777-35ad-4b6e-a3a3-0fd090d9aea2",
   "metadata": {},
   "outputs": [],
   "source": [
    "results_extractor = ResultsExtractor(extraction_objective=\"Find if they will buy the cat bed. Reason for buying or not buying. And get follow up questions\" ,\n",
    "                                     situation=\"Agent was asked to view a presentation for Cat bed design that contains a heating pad. Then they were asked if they would buy the cat bed. Give reason why they would or wouldn't. Finally they were asked to ask follow up questions.\", \n",
    "                                     fields=[\"response\", \"justification\", \"questions\"],\n",
    "                                     fields_hints={\n",
    "                                         \"response\": \"Must be a string formatted exactly as 'Yes', 'No', 'Maybe' or 'N/A'(if there is no response).\",\n",
    "                                         \"justification\": \"Why they gave the response (why they would or wouldn't buy it?\",\n",
    "                                         \"questions\": \"List of follow up questions by the agent\"\n",
    "                                     },\n",
    "                                     verbose=True)"
   ]
  },
  {
   "cell_type": "markdown",
   "id": "7b5b1bb4-2c9a-446c-b618-4b6a1c8e9ac3",
   "metadata": {},
   "source": [
    "## Analyze Presentation"
   ]
  },
  {
   "cell_type": "markdown",
   "id": "960a62cd-70d8-4f54-ae35-9de768f11722",
   "metadata": {},
   "source": [
    "A. Clarity & Coherence\n",
    "Logical Structure – Does the presentation have a clear introduction, body, and conclusion?\n",
    "Flow of Ideas – Are concepts logically connected, avoiding abrupt jumps?\n",
    "Concise Wording – Is text minimal yet informative, avoiding unnecessary complexity?\n",
    "\n",
    "B. Audience Engagement\n",
    "Visual Appeal – Are slides visually engaging (good use of images, charts, and readable fonts)?\n",
    "Cognitive Load – Does the slide balance information density without overwhelming the audience?\n",
    "Call to Action – Does it clearly indicate what the audience should do or take away?\n",
    "\n",
    "C. Relevance & Credibility\n",
    "Purpose Alignment – Does the content align with the intended goal (inform, persuade, teach, etc.)?\n",
    "Evidence & Data – Are facts, statistics, or references used where needed?\n",
    "Target Audience Fit – Does the tone, complexity, and style match the audience's expectations?\n",
    "\n",
    "D. Delivery Feasibility\n",
    "Speaker Notes & Cues – Are there supporting notes for seamless delivery?\n",
    "Time Appropriateness – Can the content be covered effectively in the given time?\n",
    "Slide Count & Density – Is the number of slides reasonable for the intended duration?"
   ]
  },
  {
   "cell_type": "code",
   "execution_count": null,
   "id": "6145814c-dc26-4d2f-888d-d82e285a693e",
   "metadata": {},
   "outputs": [],
   "source": [
    "ppt_title = \"Heated-Cat-Bed\"\n",
    "ppt_desc = \"Presentation for a cat bed design that contains a heating pad.\"\n",
    "ppt_intent = \"Sell cat beds\"\n",
    "ppt_audience = \"Cat owners\"\n",
    "\n",
    "employee_goal = \"\"\"\n",
    "Analyze the presentation and give the following feedback:\n",
    "- Clarity & Coherence\n",
    "    - Logical Structure – Does the presentation have a clear introduction, body, and conclusion?\n",
    "    - Flow of Ideas – Are concepts logically connected, avoiding abrupt jumps?\n",
    "    - Concise Wording – Is text minimal yet informative, avoiding unnecessary complexity?\n",
    "- Audience Engagement\n",
    "\"\"\""
   ]
  },
  {
   "cell_type": "code",
   "execution_count": null,
   "id": "ab662ebe-bdb8-49c9-a938-616794f9e56a",
   "metadata": {},
   "outputs": [],
   "source": [
    "company_employee_context = f\"\"\"\n",
    "We are performing a review of a powerpoint presentation \n",
    "Presentation Name: {ppt_title}\n",
    "Presentation Description: {ppt_desc}\n",
    "Presentation Intent: {ppt_intent}\n",
    "Presentation Audience: {ppt_audience}\n",
    "\n",
    "We want a sample of people with the following criteria:\n",
    "- Working at the company whose employee is making this presentation.\n",
    "- Varied background of people working in the company\n",
    "    - from the simplest professions to those of the highest ranks;\n",
    "    - from the youngest to the oldest; \n",
    "    - from male to female to any gender\n",
    "    \n",
    "\n",
    "\n",
    "a **uniform** **random** \n",
    "            representative sample of people from this population. We are surveying the market for a new food product, to be sold in supermarkets, \n",
    "            so pay special consideration to specify the culinary tastes of people and their shopping habits, which must be as realistic as possible.\n",
    "            \n",
    "            The sample must include representative people from the broad population, so for instance ensure that you include people from all walks of life:\n",
    "              - from the simplest professions to those of the highest ranks;\n",
    "              - from the youngest to the oldest; \n",
    "              - from the kind to the evil;\n",
    "              - from the happy and joyful to the sad and depressed;\n",
    "              - from the most conservative, to the most liberal; \n",
    "              - from the educated, to the ignorant;\n",
    "              - from the healthy to the sick;\n",
    "              - from rich to poor.             \n",
    "\"\"\"\n",
    "\n",
    "product_customer_context = \"\"\"\n",
    "\"\"\""
   ]
  }
 ],
 "metadata": {
  "kernelspec": {
   "display_name": "tinytroupe",
   "language": "python",
   "name": "tinytroupe"
  },
  "language_info": {
   "codemirror_mode": {
    "name": "ipython",
    "version": 3
   },
   "file_extension": ".py",
   "mimetype": "text/x-python",
   "name": "python",
   "nbconvert_exporter": "python",
   "pygments_lexer": "ipython3",
   "version": "3.10.16"
  }
 },
 "nbformat": 4,
 "nbformat_minor": 5
}
