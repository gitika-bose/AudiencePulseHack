{
 "cells": [
  {
   "cell_type": "code",
   "execution_count": 1,
   "id": "88caf5f1-80a1-4f31-8f88-be717ce111ca",
   "metadata": {
    "scrolled": true
   },
   "outputs": [
    {
     "name": "stdout",
     "output_type": "stream",
     "text": [
      "Looking for default config on: C:\\Users\\tejitpabari\\AppData\\Local\\miniconda3\\envs\\tinytroupe\\lib\\site-packages\\tinytroupe\\utils\\..\\config.ini\n",
      "Found custom config on: C:\\Users\\tejitpabari\\OneDrive - Microsoft\\Documents\\Projects\\TTAgentChallengeFeb2025\\exploration\\config.ini\n",
      "\n",
      "!!!!\n",
      "DISCLAIMER: TinyTroupe relies on Artificial Intelligence (AI) models to generate content. \n",
      "The AI models are not perfect and may produce inappropriate or inacurate results. \n",
      "For any serious or consequential use, please review the generated content before using it.\n",
      "!!!!\n",
      "\n",
      "\n",
      "=================================\n",
      "Current TinyTroupe configuration \n",
      "=================================\n",
      "[OpenAI]\n",
      "api_type = openai\n",
      "azure_api_version = 2024-08-01-preview\n",
      "model = gpt-4o-mini\n",
      "max_tokens = 4000\n",
      "temperature = 1.2\n",
      "freq_penalty = 0.0\n",
      "presence_penalty = 0.0\n",
      "timeout = 60\n",
      "max_attempts = 5\n",
      "waiting_time = 2\n",
      "exponential_backoff_factor = 5\n",
      "embedding_model = text-embedding-3-small\n",
      "cache_api_calls = False\n",
      "cache_file_name = openai_api_cache.pickle\n",
      "max_content_display_length = 1024\n",
      "azure_embedding_model_api_version = 2023-05-15\n",
      "\n",
      "[Simulation]\n",
      "rai_harmful_content_prevention = True\n",
      "rai_copyright_infringement_prevention = True\n",
      "\n",
      "[Logging]\n",
      "loglevel = ERROR\n",
      "\n"
     ]
    }
   ],
   "source": [
    "import json\n",
    "import sys\n",
    "import pandas as pd\n",
    "import matplotlib.pyplot as plt\n",
    "\n",
    "sys.path.insert(0, '..')\n",
    "\n",
    "import tinytroupe\n",
    "from tinytroupe.agent import TinyPerson\n",
    "from tinytroupe.environment import TinyWorld\n",
    "from tinytroupe.factory import TinyPersonFactory\n",
    "from tinytroupe.validation import TinyPersonValidator\n",
    "from tinytroupe import control\n",
    "from tinytroupe.examples import create_lisa_the_data_scientist, create_oscar_the_architect\n",
    "\n",
    "from tinytroupe.extraction import ResultsExtractor\n",
    "from tinytroupe.profiling import Profiler"
   ]
  },
  {
   "cell_type": "markdown",
   "id": "4d5be046-3d05-48d5-8e2e-1faf5381cca8",
   "metadata": {},
   "source": [
    "## Setup"
   ]
  },
  {
   "cell_type": "code",
   "execution_count": 2,
   "id": "c9e5b646-dd0c-4788-bf65-722d6c76d4aa",
   "metadata": {},
   "outputs": [],
   "source": [
    "env = TinyWorld(\"Presentation Review\")"
   ]
  },
  {
   "cell_type": "code",
   "execution_count": 3,
   "id": "d6d3417a-bcde-45d0-967d-f62645b5e825",
   "metadata": {},
   "outputs": [],
   "source": [
    "control.begin('./presentationTrial1.cache.json')"
   ]
  },
  {
   "cell_type": "markdown",
   "id": "7b5b1bb4-2c9a-446c-b618-4b6a1c8e9ac3",
   "metadata": {},
   "source": [
    "## Analyze Presentation"
   ]
  },
  {
   "cell_type": "markdown",
   "id": "94f05e1f-94fb-4c01-ae40-07dc8f952f3d",
   "metadata": {},
   "source": [
    "Scenario = Product pitch for a technical product.\n",
    "Create 3 personas = Technical, Executive (Business) and Target customers"
   ]
  },
  {
   "cell_type": "code",
   "execution_count": 78,
   "id": "66f5b921-e1b0-48dd-a37a-f49362bffc56",
   "metadata": {},
   "outputs": [],
   "source": [
    "def generate_prompt(ppt_details, sample_criteria):\n",
    "    return f\"\"\"\n",
    "    Perform a review of a powerpoint presentation with the following details\n",
    "        Presentation Name: {ppt_details.get('title', '')}\n",
    "        Presentation Description: {ppt_details.get('description', '')}\n",
    "        Presentation Intent: {ppt_details.get('intent', '')}\n",
    "        Presentation Audience: {ppt_details.get('audience', '')}\n",
    "\n",
    "    {sample_criteria}\n",
    "    \"\"\".strip()"
   ]
  },
  {
   "cell_type": "code",
   "execution_count": 50,
   "id": "fa1c38e1-ff55-4b25-a66b-33069d8eee77",
   "metadata": {},
   "outputs": [],
   "source": [
    "technical_persona = \"\"\"\n",
    "The sample must include a diverse group of technical experts in various domains including:\n",
    "- Software development and architecture\n",
    "- Data science and machine learning\n",
    "- Infrastructure and systems\n",
    "- Security and compliance\n",
    "- Product engineering\n",
    "- And so on...\n",
    "\n",
    "They should have varying:\n",
    "- Years of experience (5-20 years)\n",
    "- Industry focus (startups to enterprise)\n",
    "- Technical specializations and domain expertize\n",
    "- Geographic locations\n",
    "- Educational backgrounds\n",
    "- Roles and functions (technical program manager, technical architect, software engineer etc.)\n",
    "\n",
    "Some of them may:\n",
    "- Be working at the same company as the presenter.\n",
    "- Be working on the same product that is being pitched in the presentation.\n",
    "\n",
    "Ensure they have:\n",
    "2. Opinions on technical best practices and standards\n",
    "3. Past experience with similar technical implementations\n",
    "5. Biases based on their tech stack preferences\n",
    "6. Specific concerns about scalability, performance, and maintenance\n",
    "7. Understanding of technical debt implications\n",
    "8. Views shaped by previous project successes/failures\n",
    "9. Opinions on technical trade-offs\n",
    "10. Particular focus on non-functional requirements\n",
    "\"\"\"\n",
    "\n",
    "technical_analysis_criteria = \"\"\"\n",
    "Return a json with array of feedback, like so: \n",
    "{\"Audience Alignment\": [\"Feedback 1\", \"Feedback 2\", ..., \"Feedback n\"], \"Content Evaluation\": [...], ...}\n",
    "\"\"\"\n",
    "\n",
    "technical_analysis = f\"\"\"\n",
    "Given your professional background and expertise, analyze this presentation for:\n",
    "\n",
    "1. Audience Alignment:\n",
    "   - Is the content appropriate for the intended audience?\n",
    "   - Are technical concepts explained at the right level?\n",
    "   - What adjustments would make it more effective for this audience?\n",
    "\n",
    "2. Content Evaluation:\n",
    "   - What aspects resonate with your professional experience?\n",
    "   - What critical considerations are missing or need more attention?\n",
    "   - Are there assumptions or claims that need validation?\n",
    "\n",
    "3. Implementation and Practicality:\n",
    "   - What practical challenges do you foresee?\n",
    "   - What dependencies or prerequisites should be addressed?\n",
    "   - What risks should be highlighted?\n",
    "\n",
    "4. Improvement Suggestions:\n",
    "   - Which aspects need clarification or expansion?\n",
    "   - How could the content be presented more effectively?\n",
    "   - What additional context would strengthen the presentation?\n",
    "\n",
    "{technical_analysis_criteria}\n",
    "\n",
    "Remember (IMPORTANT): \n",
    "- Your feedback should be calibrated to the presentation's intent and audience while leveraging your professional expertise and experience.\n",
    "- Giving feedback on all above categories is not important. If there is no feedback, return an empty array for that category. \n",
    "A valid response is also no feedback for any of these categories.\n",
    "\"\"\"\n",
    "\n",
    "technical_qna_criteria = \"\"\"\n",
    "Format your questions as follows, and respond in an array of json:\n",
    "[\n",
    "    {\n",
    "        Question: <Your question>\n",
    "        Context: Explain why this question matters from your professional perspective\n",
    "        Value: What the answer would help validate or clarify\n",
    "    },...\n",
    "]\n",
    "\"\"\"\n",
    "\n",
    "technical_qna = f\"\"\"\n",
    "Drawing from your professional background and expertise, review this presentation and formulate questions that would:\n",
    "1. Help clarify critical aspects\n",
    "2. Address potential gaps\n",
    "3. Validate key assumptions\n",
    "\n",
    "Ensure your questions:\n",
    "- Draw from your professional expertise\n",
    "- Add value to the presentation's purpose\n",
    "- Help uncover important considerations\n",
    "- Are appropriate for the intended audience\n",
    "\n",
    "{technical_qna_criteria}\n",
    "\n",
    "Remember (IMPORTANT)\n",
    "- It is not necessary to have a question. If there are no questions, a valid response is also an empty array.\n",
    "\"\"\""
   ]
  },
  {
   "cell_type": "code",
   "execution_count": 51,
   "id": "ab662ebe-bdb8-49c9-a938-616794f9e56a",
   "metadata": {},
   "outputs": [],
   "source": [
    "business_persona = \"\"\"\n",
    "The sample must include a diverse group of business professionals including:\n",
    "- Product managers\n",
    "- Business analysts\n",
    "- Marketing executives\n",
    "- Operations managers\n",
    "- Strategy consultants\n",
    "- And so on...\n",
    "\n",
    "They should have varying:\n",
    "- Industry experience (different sectors)\n",
    "- Years of experience (5-20 years)\n",
    "- Company sizes (startup to enterprise)\n",
    "- Specifications and domain expertise\n",
    "- Management levels\n",
    "- Geographic markets\n",
    "- Business philosophies\n",
    "\n",
    "Some of them may:\n",
    "- Be working at the same company as the presenter.\n",
    "- Be working on the same product that is being pitched in the presentation.\n",
    "\n",
    "Ensure they have:\n",
    "1. Clear business metrics they prioritize\n",
    "2. Industry-specific success criteria\n",
    "3. Views on market positioning\n",
    "4. ROI calculation preferences\n",
    "5. Risk assessment frameworks\n",
    "6. Competitive landscape awareness\n",
    "7. Resource allocation biases\n",
    "8. Implementation timeline expectations\n",
    "9. Opinions on business priorities\n",
    "10. Past experience with similar business decisions\n",
    "\"\"\"\n",
    "\n",
    "business_analysis_criteria = \"\"\"\n",
    "Return a json with array of feedback, like so: \n",
    "{\"Business Value & Impact\": [\"Feedback 1\", \"Feedback 2\", ..., \"Feedback n\"], \"Market & Strategy Alignment\": [...], ...}\n",
    "\"\"\"\n",
    "\n",
    "business_analysis = f\"\"\"\n",
    "Given your business background and expertise, analyze this presentation:\n",
    "\n",
    "1. Business Value & Impact:\n",
    "   - How well does the presentation articulate business value?\n",
    "   - Are the benefits and opportunities clearly defined?\n",
    "   - What business implications need more emphasis?\n",
    "\n",
    "2. Market & Strategy Alignment:\n",
    "   - How well does this align with market trends and demands?\n",
    "   - What competitive advantages or challenges should be considered?\n",
    "   - Are there strategic implications that need attention?\n",
    "\n",
    "3. Implementation & Resources:\n",
    "   - What organizational challenges do you foresee?\n",
    "   - What resource requirements should be highlighted?\n",
    "   - What timeline and budget considerations need addressing?\n",
    "\n",
    "4. Risk & Opportunity Assessment:\n",
    "   - What business risks need to be addressed?\n",
    "   - What additional opportunities could be leveraged?\n",
    "   - What mitigation strategies should be considered?\n",
    "\n",
    "{business_analysis_criteria}\n",
    "\n",
    "Remember (IMPORTANT): \n",
    "- Your feedback should reflect your business acumen while considering the presentation's intent and target audience.\n",
    "- Giving feedback on all above categories is not important. If there is no feedback, return an empty array for that category. \n",
    "A valid response is also no feedback for any of these categories.\n",
    "\"\"\"\n",
    "\n",
    "business_qna_criteria = \"\"\"\n",
    "Format your questions as follows, and respond in an array of json:\n",
    "[\n",
    "    {\n",
    "        Question: <Your question>\n",
    "        Context: Explain why this question matters from a business perspective\n",
    "        Value: What the answer would help validate or clarify\n",
    "    },...\n",
    "]\n",
    "\"\"\"\n",
    "\n",
    "business_qna = f\"\"\"\n",
    "Drawing from your business experience and expertise, review this presentation and formulate questions that would:\n",
    "1. Clarify business value and impact\n",
    "2. Address strategic considerations\n",
    "3. Validate market and resource assumptions\n",
    "\n",
    "Ensure your questions:\n",
    "- Draw from your business expertise\n",
    "- Focus on strategic and operational implications\n",
    "- Address key business considerations\n",
    "- Are appropriate for the intended audience\n",
    "\n",
    "{business_qna_criteria}\n",
    "\n",
    "Remember (IMPORTANT)\n",
    "- It is not necessary to have a question. If there are no questions, a valid response is also an empty array.\n",
    "\"\"\""
   ]
  },
  {
   "cell_type": "code",
   "execution_count": 52,
   "id": "2393ff88-a7b5-4958-9b76-ef2bfd1c4435",
   "metadata": {},
   "outputs": [],
   "source": [
    "customer_persona = \"\"\"\n",
    "A diverse group of potential customers with varying \n",
    "- Need of product (High, low, none)\n",
    "- Usage intensive (light, moderate, heavy)\n",
    "- Technical comfort levels (novice, intermediate, advance, power users)\n",
    "- Pain points and challenges\n",
    "- Decision-making influence\n",
    "- Technology adoption preferences (Early adopters, pragmatic users, conservative users, skeptical users)\n",
    "- Different budget authorities and Resource constraints\n",
    "- Industry sectors\n",
    "- Age demographic\n",
    "- Geographical location\n",
    "- Cultural background\n",
    "- Success criterias (must have features, deal breakers, open to anything)\n",
    "\n",
    "Some of them may:\n",
    "- Used the product in the past (or an interation of the product).\n",
    "- Have used similar products in the past.\n",
    "- Have strong opinions about the product or similar products.\n",
    "\n",
    "Ensure they have:\n",
    "- Realistic usage scenarios.\n",
    "- Clear preferences based on their background.\n",
    "- Specific frustrations with current solutions (if they have used similar products).\n",
    "- Unique perspectives on value.\n",
    "- Natural biases and concerns.\n",
    "\n",
    "THEY MUST FOLLOW THE GUIDELINES described in Target Audience for Presentation. \n",
    "In case of conflict in the prompt, follow the guidelines mentioned for the target audience.\n",
    "\"\"\"\n",
    "\n",
    "customer_analysis_criteria = \"\"\"\n",
    "Return a json with array of feedback, like so: \n",
    "{\"Value & Relevance\": [\"Feedback 1\", \"Feedback 2\", ..., \"Feedback n\"], \"Practical Application\": [...], ...}\n",
    "\"\"\"\n",
    "\n",
    "customer_analysis = f\"\"\"\n",
    "From your perspective as a potential user/customer, analyze this presentation:\n",
    "\n",
    "1. Value & Relevance:\n",
    "   - How well does this address your needs and pain points?\n",
    "   - Are the benefits clear and meaningful to you?\n",
    "   - What aspects matter most to your situation?\n",
    "\n",
    "2. Practical Application:\n",
    "   - How would this fit into your current workflow?\n",
    "   - What challenges do you see in adopting this?\n",
    "   - What support or resources would you need?\n",
    "\n",
    "3. Cost & Benefit Analysis:\n",
    "   - Is the value proposition compelling for your needs?\n",
    "   - What return on investment do you anticipate?\n",
    "   - What hidden costs or efforts do you foresee?\n",
    "\n",
    "4. Comparison & Alternatives:\n",
    "   - How does this compare to your current solution?\n",
    "   - What advantages stand out to you?\n",
    "   - What concerns would prevent you from adopting this?\n",
    "\n",
    "{customer_analysis_criteria}\n",
    "\n",
    "Remember (IMPORTANT): \n",
    "- Your feedback should be based on your real-world needs and experiences while considering the presentation's stated purpose.\n",
    "- Giving feedback on all above categories is not important. If there is no feedback, return an empty array for that category. \n",
    "A valid response is also no feedback for any of these categories.\n",
    "\"\"\"\n",
    "\n",
    "customer_qna_criteria = \"\"\"\n",
    "Format your questions as follows, and respond in an array of json:\n",
    "[\n",
    "    {\n",
    "        Question: <Your question>\n",
    "        Context: Explain why this matters to you as a potential user\n",
    "        Value: What the answer would help validate or clarify\n",
    "    },...\n",
    "]\n",
    "\"\"\"\n",
    "\n",
    "customer_qna = f\"\"\"\n",
    "Drawing from your experience and needs, review this presentation and formulate questions that would:\n",
    "1. Clarify how this addresses your specific needs\n",
    "2. Address practical implementation concerns\n",
    "3. Validate assumptions about user benefits\n",
    "\n",
    "Ensure your questions:\n",
    "- Reflect your real needs and concerns\n",
    "- Address practical usage considerations\n",
    "- Focus on value and implementation\n",
    "- Help you make an informed decision\n",
    "\n",
    "{customer_qna_criteria}\n",
    "\n",
    "Remember (IMPORTANT)\n",
    "- It is not necessary to have a question. If there are no questions, a valid response is also an empty array.\n",
    "\"\"\""
   ]
  },
  {
   "cell_type": "code",
   "execution_count": 57,
   "id": "34e5b491-03eb-4415-a007-2b02d5ed53af",
   "metadata": {},
   "outputs": [],
   "source": [
    "def get_slide_content_from_json(ppt_json):\n",
    "    slides = []\n",
    "    for i in range(1,len(ppt_json.keys())+1):\n",
    "        slideNo = f\"slide{i}\"\n",
    "        slide_content = f\"\"\"\n",
    "            Slide {i}\n",
    "            Slide Text: {ppt_json[slideNo].get('text', 'No Text')}\n",
    "            Slide Notes: {ppt_json[slideNo].get('notes', 'No Notes')}\n",
    "        \"\"\"\n",
    "        slides.append(slide_content.strip())\n",
    "    return \"Here is the presentation content:\\n\\n\"'\\n\\n--------\\n'.join(slides)"
   ]
  },
  {
   "cell_type": "raw",
   "id": "06c556bb-fe85-4e6e-af9b-f27616b259f9",
   "metadata": {},
   "source": [
    "{'Analysis': {'Audience Alignment': ['The content is appropriate for the intended audience, as it addresses young adults seeking long-term relationships. However, some technical concepts, like AI-driven matchmaking, may need simpler explanations for clarity.',\n",
    "    'To make it more effective, consider including relatable examples or testimonials from users in their 20s who have successfully used the app.'],\n",
    "   'Content Evaluation': ['The emphasis on personalized matching resonates with my experience in AI applications, as personalization is key in user engagement.',\n",
    "    'However, the presentation could benefit from more attention to data privacy and ethical considerations, which are critical in AI development.',\n",
    "    'Claims about the effectiveness of the AI agent should be backed by data or case studies to validate them.'],\n",
    "   'Implementation and Practicality': ['Practical challenges may include ensuring the AI accurately understands user preferences and behaviors, which can vary widely.',\n",
    "    'Dependencies such as user data security and compliance with regulations should be addressed upfront.',\n",
    "    'Risks related to user trust and data misuse should be highlighted to reassure potential users.'],\n",
    "   'Improvement Suggestions': ['The section on user feedback could be expanded to include specific metrics or statistics that demonstrate user satisfaction.',\n",
    "    'Presenting the content with more visuals or infographics could enhance engagement and understanding.',\n",
    "    'Additional context on how the app differentiates itself from existing dating apps would strengthen the presentation.']},\n",
    "  'Feedback': [{'Question': 'What specific metrics will be used to measure the success of the AI-powered matchmaking app?',\n",
    "    'Context': \"Understanding the success metrics is crucial for evaluating the app's effectiveness and user satisfaction.\",\n",
    "    'Value': \"This will help clarify how the app's performance will be assessed and what benchmarks are in place.\"},\n",
    "   {'Question': 'How will user data be protected, and what measures are in place to ensure privacy?',\n",
    "    'Context': 'Data privacy is a significant concern for users, especially in dating apps that handle sensitive information.',\n",
    "    'Value': 'This question addresses potential gaps in the presentation regarding user trust and security.'},\n",
    "   {'Question': 'Can you provide examples of how the AI agent learns from user interactions?',\n",
    "    'Context': \"It's important to understand the learning mechanisms of the AI to validate its effectiveness in improving match suggestions.\",\n",
    "    'Value': \"This will help clarify the AI's adaptability and responsiveness to user preferences.\"},\n",
    "   {'Question': 'What strategies will be implemented to encourage user engagement and retention?',\n",
    "    'Context': \"User engagement is critical for the app's long-term success, and understanding retention strategies is essential.\",\n",
    "    'Value': 'This question will uncover important considerations for maintaining a user base and fostering meaningful connections.'}]},\n",
    " "
   ]
  },
  {
   "cell_type": "code",
   "execution_count": 100,
   "id": "55f18b88-d578-45cb-9004-c8f5664d6b5d",
   "metadata": {},
   "outputs": [],
   "source": [
    "def parse_analysis(res_analysis):\n",
    "    analysis = []\n",
    "    for key,val in res_analysis.items():\n",
    "        entries = []\n",
    "        for i, entry in enumerate(val):\n",
    "            entries.append(f\"{i+1}. {entry}\")\n",
    "        if entries:\n",
    "            entries_str = \"\\n\".join(entries)\n",
    "            analysis.append(f\"\"\"\n",
    "### {key}\n",
    "{entries_str}\n",
    "\"\"\")\n",
    "    return \"\\n\\n\".join(analysis)\n",
    "\n",
    "def parse_feedback(res_feedback):\n",
    "    feedback = []\n",
    "    for i, entry in enumerate(res_feedback):\n",
    "        feedback.append(f\"\"\"{i}. Question: {entry['Question']}<br/>Context: {entry['Context']}<br/>Value: {entry['Value']}\"\"\")\n",
    "    return '\\n'.join(feedback)\n",
    "    \n",
    "def parse_results(factory, results):\n",
    "    print_res = []\n",
    "    for i,agent_desc in enumerate(factory.generated_minibios):\n",
    "        res = results[i]\n",
    "        print_str = f\"\"\"\n",
    "# Agent {i+1}\n",
    "\n",
    "## Agent Description\n",
    "{agent_desc}\n",
    "\n",
    "## Analysis\n",
    "{parse_analysis(res['Analysis'])}\n",
    "\n",
    "## Feedback\n",
    "{parse_feedback(res['Feedback'])}\n",
    "\n",
    "-----------------------\n",
    "\"\"\"\n",
    "        print_res.append(print_str)\n",
    "    return '\\n\\n'.join(print_res)"
   ]
  },
  {
   "cell_type": "code",
   "execution_count": 58,
   "id": "6145814c-dc26-4d2f-888d-d82e285a693e",
   "metadata": {},
   "outputs": [],
   "source": [
    "ppt_title = \"Revolutionizing Dating: Introducing Our AI-Powered Matchmaking App\"\n",
    "ppt_desc = \"\"\"\n",
    "Product pitch for a new dating app that uses AI to build connections. \n",
    "An AI agent chats with you regularly, acting as a matchmaker. \n",
    "Once it understands your hard requirements, style, and profile (interests, hobbies, values, etc), it suggests up to 5 potential matches. \n",
    "Based on your preference, the agent will setup a conversation between you and a match.\n",
    "\"\"\"\n",
    "ppt_intent = \"To pitch this product to people in their late 20s looking for long term relationships and generate interest. We want to encourage people to use our new app and review the idea.\"\n",
    "ppt_audience = \"People in their late 20s looking for long term relationships\"\n",
    "ppt_details = {\n",
    "    \"title\": ppt_title,\n",
    "    \"description\": ppt_desc,\n",
    "    \"intent\": ppt_intent,\n",
    "    \"audience\": ppt_audience\n",
    "}"
   ]
  },
  {
   "cell_type": "code",
   "execution_count": 71,
   "id": "8f23af9f-cf44-4757-bc20-b51e1a56f02a",
   "metadata": {},
   "outputs": [],
   "source": [
    "ppt_file_name = 'dating_app_pitch_slide_content.json'\n",
    "ppt_json = json.load(open(ppt_file_name))\n",
    "slide_content = get_slide_content_from_json(ppt_json)"
   ]
  },
  {
   "cell_type": "code",
   "execution_count": 67,
   "id": "c4c844e6-6e49-4214-a032-3d06e8829926",
   "metadata": {},
   "outputs": [],
   "source": [
    "population_size = 5"
   ]
  },
  {
   "cell_type": "code",
   "execution_count": 68,
   "id": "7d7e614f-6367-415e-8c29-34be7e002363",
   "metadata": {},
   "outputs": [],
   "source": [
    "technical_persona_prompt = generate_prompt(ppt_details, technical_persona)\n",
    "technical_analysis_prompt = technical_analysis\n",
    "technical_qna_prompt = technical_qna\n",
    "technical_start_prompt = generate_prompt(ppt_details, slide_content)"
   ]
  },
  {
   "cell_type": "code",
   "execution_count": 69,
   "id": "0d95392e-d8ad-4100-a99b-cbc303af90e8",
   "metadata": {},
   "outputs": [],
   "source": [
    "technical_factory = TinyPersonFactory(technical_persona_prompt)\n",
    "technical_people = technical_factory.generate_people(population_size)"
   ]
  },
  {
   "cell_type": "code",
   "execution_count": 70,
   "id": "a4c48120-3ecb-4d6c-b701-e9499159b281",
   "metadata": {},
   "outputs": [],
   "source": [
    "technical_world = TinyWorld(\"Technical World3\", technical_people, broadcast_if_no_target=False)"
   ]
  },
  {
   "cell_type": "code",
   "execution_count": 74,
   "id": "e217a01c-8b8d-404f-8dea-0397ed97c8ab",
   "metadata": {
    "scrolled": true
   },
   "outputs": [
    {
     "data": {
      "text/html": [
       "<pre style=\"margin:0px;;white-space:pre;overflow-x:auto;line-height:normal;font-family:Menlo,'DejaVu Sans Mono',consolas,'Courier New',monospace\"><span style=\"color: #00ffff; text-decoration-color: #00ffff; font-weight: bold; font-style: italic; text-decoration: underline\">USER</span><span style=\"color: #00ffff; text-decoration-color: #00ffff; font-weight: bold; font-style: italic\"> --&gt; </span><span style=\"color: #00ffff; text-decoration-color: #00ffff; font-weight: bold; font-style: italic; text-decoration: underline\">Evelyn Martinez</span><span style=\"color: #00ffff; text-decoration-color: #00ffff; font-weight: bold; font-style: italic\">: [CONVERSATION] </span>\n",
       "<span style=\"color: #00ffff; text-decoration-color: #00ffff; font-weight: bold; font-style: italic\">          &gt; You will perform a review of a powerpoint presentation with the following details</span>\n",
       "<span style=\"color: #00ffff; text-decoration-color: #00ffff; font-weight: bold; font-style: italic\">          &gt; Presentation Name: Revolutionizing Dating: Introducing Our AI-Powered Matchmaking App</span>\n",
       "<span style=\"color: #00ffff; text-decoration-color: #00ffff; font-weight: bold; font-style: italic\">          &gt; Presentation Description:  Product pitch for a new dating app that uses AI to build</span>\n",
       "<span style=\"color: #00ffff; text-decoration-color: #00ffff; font-weight: bold; font-style: italic\">          &gt; connections.  An AI agent chats with you regularly, acting as a matchmaker.  Once it</span>\n",
       "<span style=\"color: #00ffff; text-decoration-color: #00ffff; font-weight: bold; font-style: italic\">          &gt; understands your hard requirements, style, and profile (interests, hobbies, values,</span>\n",
       "<span style=\"color: #00ffff; text-decoration-color: #00ffff; font-weight: bold; font-style: italic\">          &gt; etc), it suggests up to 5 potential matches.  Based on your preference, the agent will</span>\n",
       "<span style=\"color: #00ffff; text-decoration-color: #00ffff; font-weight: bold; font-style: italic\">          &gt; setup a conversation between you and a match.          Presentation Intent: To pitch</span>\n",
       "<span style=\"color: #00ffff; text-decoration-color: #00ffff; font-weight: bold; font-style: italic\">          &gt; this product to people in their late 20s looking for long term relationships and</span>\n",
       "<span style=\"color: #00ffff; text-decoration-color: #00ffff; font-weight: bold; font-style: italic\">          &gt; generate interest. We want to encourage people to use our new app and review the idea.</span>\n",
       "<span style=\"color: #00ffff; text-decoration-color: #00ffff; font-weight: bold; font-style: italic\">          &gt; Presentation Audience: People in their late 20s looking for long term relationships</span>\n",
       "<span style=\"color: #00ffff; text-decoration-color: #00ffff; font-weight: bold; font-style: italic\">          &gt; You will perform a review of a powerpoint presentation with the following details</span>\n",
       "<span style=\"color: #00ffff; text-decoration-color: #00ffff; font-weight: bold; font-style: italic\">          &gt; Presentation Name: Revolutionizing Dating: Introducing Our A (...)</span>\n",
       "</pre>\n"
      ],
      "text/plain": [
       "\u001b[1;3;4;38;5;51mUSER\u001b[0m\u001b[1;3;38;5;51m --> \u001b[0m\u001b[1;3;4;38;5;51mEvelyn Martinez\u001b[0m\u001b[1;3;38;5;51m: \u001b[0m\u001b[1;3;38;5;51m[\u001b[0m\u001b[1;3;38;5;51mCONVERSATION\u001b[0m\u001b[1;3;38;5;51m]\u001b[0m\u001b[1;3;38;5;51m \u001b[0m\n",
       "\u001b[1;3;38;5;51m          > You will perform a review of a powerpoint presentation with the following details\u001b[0m\n",
       "\u001b[1;3;38;5;51m          > Presentation Name: Revolutionizing Dating: Introducing Our AI-Powered Matchmaking App\u001b[0m\n",
       "\u001b[1;3;38;5;51m          > Presentation Description:  Product pitch for a new dating app that uses AI to build\u001b[0m\n",
       "\u001b[1;3;38;5;51m          > connections.  An AI agent chats with you regularly, acting as a matchmaker.  Once it\u001b[0m\n",
       "\u001b[1;3;38;5;51m          > understands your hard requirements, style, and profile \u001b[0m\u001b[1;3;38;5;51m(\u001b[0m\u001b[1;3;38;5;51minterests, hobbies, values,\u001b[0m\n",
       "\u001b[1;3;38;5;51m          > etc\u001b[0m\u001b[1;3;38;5;51m)\u001b[0m\u001b[1;3;38;5;51m, it suggests up to \u001b[0m\u001b[1;3;38;5;51m5\u001b[0m\u001b[1;3;38;5;51m potential matches.  Based on your preference, the agent will\u001b[0m\n",
       "\u001b[1;3;38;5;51m          > setup a conversation between you and a match.          Presentation Intent: To pitch\u001b[0m\n",
       "\u001b[1;3;38;5;51m          > this product to people in their late 20s looking for long term relationships and\u001b[0m\n",
       "\u001b[1;3;38;5;51m          > generate interest. We want to encourage people to use our new app and review the idea.\u001b[0m\n",
       "\u001b[1;3;38;5;51m          > Presentation Audience: People in their late 20s looking for long term relationships\u001b[0m\n",
       "\u001b[1;3;38;5;51m          > You will perform a review of a powerpoint presentation with the following details\u001b[0m\n",
       "\u001b[1;3;38;5;51m          > Presentation Name: Revolutionizing Dating: Introducing Our A \u001b[0m\u001b[1;3;38;5;51m(\u001b[0m\u001b[1;3;38;5;51m...\u001b[0m\u001b[1;3;38;5;51m)\u001b[0m\n"
      ]
     },
     "metadata": {},
     "output_type": "display_data"
    },
    {
     "data": {
      "text/html": [
       "<pre style=\"margin:0px;;white-space:pre;overflow-x:auto;line-height:normal;font-family:Menlo,'DejaVu Sans Mono',consolas,'Courier New',monospace\"><span style=\"color: #00ffff; text-decoration-color: #00ffff; font-weight: bold; font-style: italic\">       + --&gt; </span><span style=\"color: #00ffff; text-decoration-color: #00ffff; font-weight: bold; font-style: italic; text-decoration: underline\">Marcus Thompson</span>\n",
       "</pre>\n"
      ],
      "text/plain": [
       "\u001b[1;3;38;5;51m       + --> \u001b[0m\u001b[1;3;4;38;5;51mMarcus Thompson\u001b[0m\n"
      ]
     },
     "metadata": {},
     "output_type": "display_data"
    },
    {
     "data": {
      "text/html": [
       "<pre style=\"margin:0px;;white-space:pre;overflow-x:auto;line-height:normal;font-family:Menlo,'DejaVu Sans Mono',consolas,'Courier New',monospace\"><span style=\"color: #00ffff; text-decoration-color: #00ffff; font-weight: bold; font-style: italic\">       + --&gt; </span><span style=\"color: #00ffff; text-decoration-color: #00ffff; font-weight: bold; font-style: italic; text-decoration: underline\">Nina Kovač</span>\n",
       "</pre>\n"
      ],
      "text/plain": [
       "\u001b[1;3;38;5;51m       + --> \u001b[0m\u001b[1;3;4;38;5;51mNina Kovač\u001b[0m\n"
      ]
     },
     "metadata": {},
     "output_type": "display_data"
    },
    {
     "data": {
      "text/html": [
       "<pre style=\"margin:0px;;white-space:pre;overflow-x:auto;line-height:normal;font-family:Menlo,'DejaVu Sans Mono',consolas,'Courier New',monospace\"><span style=\"color: #00ffff; text-decoration-color: #00ffff; font-weight: bold; font-style: italic\">       + --&gt; ...others...</span>\n",
       "</pre>\n"
      ],
      "text/plain": [
       "\u001b[1;3;38;5;51m       + --> \u001b[0m\u001b[1;3;38;5;51m...\u001b[0m\u001b[1;3;38;5;51mothers\u001b[0m\u001b[1;3;38;5;51m...\u001b[0m\n"
      ]
     },
     "metadata": {},
     "output_type": "display_data"
    },
    {
     "data": {
      "text/html": [
       "<pre style=\"margin:0px;;white-space:pre;overflow-x:auto;line-height:normal;font-family:Menlo,'DejaVu Sans Mono',consolas,'Courier New',monospace\"><span style=\"color: #00ffff; text-decoration-color: #00ffff; font-weight: bold; font-style: italic; text-decoration: underline\">USER</span><span style=\"color: #00ffff; text-decoration-color: #00ffff; font-weight: bold; font-style: italic\"> --&gt; </span><span style=\"color: #00ffff; text-decoration-color: #00ffff; font-weight: bold; font-style: italic; text-decoration: underline\">Evelyn Martinez</span><span style=\"color: #00ffff; text-decoration-color: #00ffff; font-weight: bold; font-style: italic\">: [CONVERSATION] </span>\n",
       "<span style=\"color: #00ffff; text-decoration-color: #00ffff; font-weight: bold; font-style: italic\">          &gt;  Given your professional background and expertise, analyze this presentation for:  1.</span>\n",
       "<span style=\"color: #00ffff; text-decoration-color: #00ffff; font-weight: bold; font-style: italic\">          &gt; Audience Alignment:    - Is the content appropriate for the intended audience?    - Are</span>\n",
       "<span style=\"color: #00ffff; text-decoration-color: #00ffff; font-weight: bold; font-style: italic\">          &gt; technical concepts explained at the right level?    - What adjustments would make it</span>\n",
       "<span style=\"color: #00ffff; text-decoration-color: #00ffff; font-weight: bold; font-style: italic\">          &gt; more effective for this audience?  2. Content Evaluation:    - What aspects resonate</span>\n",
       "<span style=\"color: #00ffff; text-decoration-color: #00ffff; font-weight: bold; font-style: italic\">          &gt; with your professional experience?    - What critical considerations are missing or need</span>\n",
       "<span style=\"color: #00ffff; text-decoration-color: #00ffff; font-weight: bold; font-style: italic\">          &gt; more attention?    - Are there assumptions or claims that need validation?  3.</span>\n",
       "<span style=\"color: #00ffff; text-decoration-color: #00ffff; font-weight: bold; font-style: italic\">          &gt; Implementation and Practicality:    - What practical challenges do you foresee?    -</span>\n",
       "<span style=\"color: #00ffff; text-decoration-color: #00ffff; font-weight: bold; font-style: italic\">          &gt; What dependencies or prerequisites should be addressed?    - What risks should be</span>\n",
       "<span style=\"color: #00ffff; text-decoration-color: #00ffff; font-weight: bold; font-style: italic\">          &gt; highlighted?  4. Improvement Suggestions:    - Which aspects need clarification or</span>\n",
       "<span style=\"color: #00ffff; text-decoration-color: #00ffff; font-weight: bold; font-style: italic\">          &gt; expansion?    - How could the content be presented more effectively?    - What</span>\n",
       "<span style=\"color: #00ffff; text-decoration-color: #00ffff; font-weight: bold; font-style: italic\">          &gt; additional context would strengthen the presentation?   Return a json with array of</span>\n",
       "<span style=\"color: #00ffff; text-decoration-color: #00ffff; font-weight: bold; font-style: italic\">          &gt; feedback, like so:  {\"Audience Alignment\": [\"Feedback 1\", \"Feedback 2\", ..., \"Feedback</span>\n",
       "<span style=\"color: #00ffff; text-decoration-color: #00ffff; font-weight: bold; font-style: italic\">          &gt; n\"], \"Conten (...)</span>\n",
       "</pre>\n"
      ],
      "text/plain": [
       "\u001b[1;3;4;38;5;51mUSER\u001b[0m\u001b[1;3;38;5;51m --> \u001b[0m\u001b[1;3;4;38;5;51mEvelyn Martinez\u001b[0m\u001b[1;3;38;5;51m: \u001b[0m\u001b[1;3;38;5;51m[\u001b[0m\u001b[1;3;38;5;51mCONVERSATION\u001b[0m\u001b[1;3;38;5;51m]\u001b[0m\u001b[1;3;38;5;51m \u001b[0m\n",
       "\u001b[1;3;38;5;51m          >  Given your professional background and expertise, analyze this presentation for:  \u001b[0m\u001b[1;3;38;5;51m1\u001b[0m\u001b[1;3;38;5;51m.\u001b[0m\n",
       "\u001b[1;3;38;5;51m          > Audience Alignment:    - Is the content appropriate for the intended audience?    - Are\u001b[0m\n",
       "\u001b[1;3;38;5;51m          > technical concepts explained at the right level?    - What adjustments would make it\u001b[0m\n",
       "\u001b[1;3;38;5;51m          > more effective for this audience?  \u001b[0m\u001b[1;3;38;5;51m2\u001b[0m\u001b[1;3;38;5;51m. Content Evaluation:    - What aspects resonate\u001b[0m\n",
       "\u001b[1;3;38;5;51m          > with your professional experience?    - What critical considerations are missing or need\u001b[0m\n",
       "\u001b[1;3;38;5;51m          > more attention?    - Are there assumptions or claims that need validation?  \u001b[0m\u001b[1;3;38;5;51m3\u001b[0m\u001b[1;3;38;5;51m.\u001b[0m\n",
       "\u001b[1;3;38;5;51m          > Implementation and Practicality:    - What practical challenges do you foresee?    -\u001b[0m\n",
       "\u001b[1;3;38;5;51m          > What dependencies or prerequisites should be addressed?    - What risks should be\u001b[0m\n",
       "\u001b[1;3;38;5;51m          > highlighted?  \u001b[0m\u001b[1;3;38;5;51m4\u001b[0m\u001b[1;3;38;5;51m. Improvement Suggestions:    - Which aspects need clarification or\u001b[0m\n",
       "\u001b[1;3;38;5;51m          > expansion?    - How could the content be presented more effectively?    - What\u001b[0m\n",
       "\u001b[1;3;38;5;51m          > additional context would strengthen the presentation?   Return a json with array of\u001b[0m\n",
       "\u001b[1;3;38;5;51m          > feedback, like so:  \u001b[0m\u001b[1;3;38;5;51m{\u001b[0m\u001b[1;3;38;5;51m\"Audience Alignment\"\u001b[0m\u001b[1;3;38;5;51m: \u001b[0m\u001b[1;3;38;5;51m[\u001b[0m\u001b[1;3;38;5;51m\"Feedback 1\"\u001b[0m\u001b[1;3;38;5;51m, \u001b[0m\u001b[1;3;38;5;51m\"Feedback 2\"\u001b[0m\u001b[1;3;38;5;51m, \u001b[0m\u001b[1;3;38;5;51m...\u001b[0m\u001b[1;3;38;5;51m, \"Feedback\u001b[0m\n",
       "\u001b[1;3;38;5;51m          > n\"\u001b[0m\u001b[1;3;38;5;51m]\u001b[0m\u001b[1;3;38;5;51m, \"Conten \u001b[0m\u001b[1;3;38;5;51m(\u001b[0m\u001b[1;3;38;5;51m...\u001b[0m\u001b[1;3;38;5;51m)\u001b[0m\n"
      ]
     },
     "metadata": {},
     "output_type": "display_data"
    },
    {
     "data": {
      "text/html": [
       "<pre style=\"margin:0px;;white-space:pre;overflow-x:auto;line-height:normal;font-family:Menlo,'DejaVu Sans Mono',consolas,'Courier New',monospace\"><span style=\"color: #00ffff; text-decoration-color: #00ffff; font-weight: bold; font-style: italic\">       + --&gt; </span><span style=\"color: #00ffff; text-decoration-color: #00ffff; font-weight: bold; font-style: italic; text-decoration: underline\">Marcus Thompson</span>\n",
       "</pre>\n"
      ],
      "text/plain": [
       "\u001b[1;3;38;5;51m       + --> \u001b[0m\u001b[1;3;4;38;5;51mMarcus Thompson\u001b[0m\n"
      ]
     },
     "metadata": {},
     "output_type": "display_data"
    },
    {
     "data": {
      "text/html": [
       "<pre style=\"margin:0px;;white-space:pre;overflow-x:auto;line-height:normal;font-family:Menlo,'DejaVu Sans Mono',consolas,'Courier New',monospace\"><span style=\"color: #00ffff; text-decoration-color: #00ffff; font-weight: bold; font-style: italic\">       + --&gt; </span><span style=\"color: #00ffff; text-decoration-color: #00ffff; font-weight: bold; font-style: italic; text-decoration: underline\">Nina Kovač</span>\n",
       "</pre>\n"
      ],
      "text/plain": [
       "\u001b[1;3;38;5;51m       + --> \u001b[0m\u001b[1;3;4;38;5;51mNina Kovač\u001b[0m\n"
      ]
     },
     "metadata": {},
     "output_type": "display_data"
    },
    {
     "data": {
      "text/html": [
       "<pre style=\"margin:0px;;white-space:pre;overflow-x:auto;line-height:normal;font-family:Menlo,'DejaVu Sans Mono',consolas,'Courier New',monospace\"><span style=\"color: #00ffff; text-decoration-color: #00ffff; font-weight: bold; font-style: italic\">       + --&gt; ...others...</span>\n",
       "</pre>\n"
      ],
      "text/plain": [
       "\u001b[1;3;38;5;51m       + --> \u001b[0m\u001b[1;3;38;5;51m...\u001b[0m\u001b[1;3;38;5;51mothers\u001b[0m\u001b[1;3;38;5;51m...\u001b[0m\n"
      ]
     },
     "metadata": {},
     "output_type": "display_data"
    },
    {
     "data": {
      "text/html": [
       "<pre style=\"margin:0px;;white-space:pre;overflow-x:auto;line-height:normal;font-family:Menlo,'DejaVu Sans Mono',consolas,'Courier New',monospace\"><span style=\"color: #00ffff; text-decoration-color: #00ffff; font-weight: bold; font-style: italic; text-decoration: underline\">USER</span><span style=\"color: #00ffff; text-decoration-color: #00ffff; font-weight: bold; font-style: italic\"> --&gt; </span><span style=\"color: #00ffff; text-decoration-color: #00ffff; font-weight: bold; font-style: italic; text-decoration: underline\">Evelyn Martinez</span><span style=\"color: #00ffff; text-decoration-color: #00ffff; font-weight: bold; font-style: italic\">: [CONVERSATION] </span>\n",
       "<span style=\"color: #00ffff; text-decoration-color: #00ffff; font-weight: bold; font-style: italic\">          &gt;  Drawing from your professional background and expertise, review this presentation and</span>\n",
       "<span style=\"color: #00ffff; text-decoration-color: #00ffff; font-weight: bold; font-style: italic\">          &gt; formulate questions that would: 1. Help clarify critical aspects 2. Address potential</span>\n",
       "<span style=\"color: #00ffff; text-decoration-color: #00ffff; font-weight: bold; font-style: italic\">          &gt; gaps 3. Validate key assumptions  Ensure your questions: - Draw from your professional</span>\n",
       "<span style=\"color: #00ffff; text-decoration-color: #00ffff; font-weight: bold; font-style: italic\">          &gt; expertise - Add value to the presentation's purpose - Help uncover important</span>\n",
       "<span style=\"color: #00ffff; text-decoration-color: #00ffff; font-weight: bold; font-style: italic\">          &gt; considerations - Are appropriate for the intended audience   Format your questions as</span>\n",
       "<span style=\"color: #00ffff; text-decoration-color: #00ffff; font-weight: bold; font-style: italic\">          &gt; follows, and respond in an array of json: [     {         Question: &lt;Your question&gt;</span>\n",
       "<span style=\"color: #00ffff; text-decoration-color: #00ffff; font-weight: bold; font-style: italic\">          &gt; Context: Explain why this question matters from your professional perspective</span>\n",
       "<span style=\"color: #00ffff; text-decoration-color: #00ffff; font-weight: bold; font-style: italic\">          &gt; Value: What the answer would help validate or clarify     },... ]   Remember (IMPORTANT)</span>\n",
       "<span style=\"color: #00ffff; text-decoration-color: #00ffff; font-weight: bold; font-style: italic\">          &gt; - It is not necessary to have a question. If there are no questions, a valid response is</span>\n",
       "<span style=\"color: #00ffff; text-decoration-color: #00ffff; font-weight: bold; font-style: italic\">          &gt; also an empty array.</span>\n",
       "</pre>\n"
      ],
      "text/plain": [
       "\u001b[1;3;4;38;5;51mUSER\u001b[0m\u001b[1;3;38;5;51m --> \u001b[0m\u001b[1;3;4;38;5;51mEvelyn Martinez\u001b[0m\u001b[1;3;38;5;51m: \u001b[0m\u001b[1;3;38;5;51m[\u001b[0m\u001b[1;3;38;5;51mCONVERSATION\u001b[0m\u001b[1;3;38;5;51m]\u001b[0m\u001b[1;3;38;5;51m \u001b[0m\n",
       "\u001b[1;3;38;5;51m          >  Drawing from your professional background and expertise, review this presentation and\u001b[0m\n",
       "\u001b[1;3;38;5;51m          > formulate questions that would: \u001b[0m\u001b[1;3;38;5;51m1\u001b[0m\u001b[1;3;38;5;51m. Help clarify critical aspects \u001b[0m\u001b[1;3;38;5;51m2\u001b[0m\u001b[1;3;38;5;51m. Address potential\u001b[0m\n",
       "\u001b[1;3;38;5;51m          > gaps \u001b[0m\u001b[1;3;38;5;51m3\u001b[0m\u001b[1;3;38;5;51m. Validate key assumptions  Ensure your questions: - Draw from your professional\u001b[0m\n",
       "\u001b[1;3;38;5;51m          > expertise - Add value to the presentation's purpose - Help uncover important\u001b[0m\n",
       "\u001b[1;3;38;5;51m          > considerations - Are appropriate for the intended audience   Format your questions as\u001b[0m\n",
       "\u001b[1;3;38;5;51m          > follows, and respond in an array of json: \u001b[0m\u001b[1;3;38;5;51m[\u001b[0m\u001b[1;3;38;5;51m     \u001b[0m\u001b[1;3;38;5;51m{\u001b[0m\u001b[1;3;38;5;51m         Question: \u001b[0m\u001b[1;3;38;5;51m<\u001b[0m\u001b[1;3;38;5;51mYour\u001b[0m\u001b[1;3;38;5;51m question>\u001b[0m\n",
       "\u001b[1;3;38;5;51m          > Context: Explain why this question matters from your professional perspective\u001b[0m\n",
       "\u001b[1;3;38;5;51m          > Value: What the answer would help validate or clarify     \u001b[0m\u001b[1;3;38;5;51m}\u001b[0m\u001b[1;3;38;5;51m,\u001b[0m\u001b[1;3;38;5;51m...\u001b[0m\u001b[1;3;38;5;51m \u001b[0m\u001b[1;3;38;5;51m]\u001b[0m\u001b[1;3;38;5;51m   Remember \u001b[0m\u001b[1;3;38;5;51m(\u001b[0m\u001b[1;3;38;5;51mIMPORTANT\u001b[0m\u001b[1;3;38;5;51m)\u001b[0m\n",
       "\u001b[1;3;38;5;51m          > - It is not necessary to have a question. If there are no questions, a valid response is\u001b[0m\n",
       "\u001b[1;3;38;5;51m          \u001b[0m\u001b[1;3;38;5;51m>\u001b[0m\u001b[1;3;38;5;51m also an empty array.\u001b[0m\n"
      ]
     },
     "metadata": {},
     "output_type": "display_data"
    },
    {
     "data": {
      "text/html": [
       "<pre style=\"margin:0px;;white-space:pre;overflow-x:auto;line-height:normal;font-family:Menlo,'DejaVu Sans Mono',consolas,'Courier New',monospace\"><span style=\"color: #00ffff; text-decoration-color: #00ffff; font-weight: bold; font-style: italic\">       + --&gt; </span><span style=\"color: #00ffff; text-decoration-color: #00ffff; font-weight: bold; font-style: italic; text-decoration: underline\">Marcus Thompson</span>\n",
       "</pre>\n"
      ],
      "text/plain": [
       "\u001b[1;3;38;5;51m       + --> \u001b[0m\u001b[1;3;4;38;5;51mMarcus Thompson\u001b[0m\n"
      ]
     },
     "metadata": {},
     "output_type": "display_data"
    },
    {
     "data": {
      "text/html": [
       "<pre style=\"margin:0px;;white-space:pre;overflow-x:auto;line-height:normal;font-family:Menlo,'DejaVu Sans Mono',consolas,'Courier New',monospace\"><span style=\"color: #00ffff; text-decoration-color: #00ffff; font-weight: bold; font-style: italic\">       + --&gt; </span><span style=\"color: #00ffff; text-decoration-color: #00ffff; font-weight: bold; font-style: italic; text-decoration: underline\">Nina Kovač</span>\n",
       "</pre>\n"
      ],
      "text/plain": [
       "\u001b[1;3;38;5;51m       + --> \u001b[0m\u001b[1;3;4;38;5;51mNina Kovač\u001b[0m\n"
      ]
     },
     "metadata": {},
     "output_type": "display_data"
    },
    {
     "data": {
      "text/html": [
       "<pre style=\"margin:0px;;white-space:pre;overflow-x:auto;line-height:normal;font-family:Menlo,'DejaVu Sans Mono',consolas,'Courier New',monospace\"><span style=\"color: #00ffff; text-decoration-color: #00ffff; font-weight: bold; font-style: italic\">       + --&gt; ...others...</span>\n",
       "</pre>\n"
      ],
      "text/plain": [
       "\u001b[1;3;38;5;51m       + --> \u001b[0m\u001b[1;3;38;5;51m...\u001b[0m\u001b[1;3;38;5;51mothers\u001b[0m\u001b[1;3;38;5;51m...\u001b[0m\n"
      ]
     },
     "metadata": {},
     "output_type": "display_data"
    }
   ],
   "source": [
    "technical_world.broadcast(technical_start_prompt)\n",
    "technical_world.broadcast(technical_analysis_prompt)\n",
    "technical_world.broadcast(technical_qna_prompt)"
   ]
  },
  {
   "cell_type": "code",
   "execution_count": 75,
   "id": "7851300e-7bb1-40a6-b8c5-b1fa620fd2a4",
   "metadata": {
    "scrolled": true
   },
   "outputs": [
    {
     "data": {
      "text/html": [
       "<pre style=\"margin:0px;;white-space:pre;overflow-x:auto;line-height:normal;font-family:Menlo,'DejaVu Sans Mono',consolas,'Courier New',monospace\"><span style=\"color: #00ff00; text-decoration-color: #00ff00\">────────────────────────────────────────── </span>Technical World3 step <span style=\"color: #008080; text-decoration-color: #008080; font-weight: bold\">1</span> of <span style=\"color: #008080; text-decoration-color: #008080; font-weight: bold\">1</span><span style=\"color: #00ff00; text-decoration-color: #00ff00\"> ───────────────────────────────────────────</span>\n",
       "</pre>\n"
      ],
      "text/plain": [
       "\u001b[92m────────────────────────────────────────── \u001b[0mTechnical World3 step \u001b[1;36m1\u001b[0m of \u001b[1;36m1\u001b[0m\u001b[92m ───────────────────────────────────────────\u001b[0m\n"
      ]
     },
     "metadata": {},
     "output_type": "display_data"
    },
    {
     "data": {
      "text/html": [
       "<pre style=\"margin:0px;;white-space:pre;overflow-x:auto;line-height:normal;font-family:Menlo,'DejaVu Sans Mono',consolas,'Courier New',monospace\"><span style=\"color: #008000; text-decoration-color: #008000; text-decoration: underline\">Evelyn Martinez</span><span style=\"color: #008000; text-decoration-color: #008000\"> acts: </span><span style=\"color: #008000; text-decoration-color: #008000; font-weight: bold\">[</span><span style=\"color: #008000; text-decoration-color: #008000\">THINK</span><span style=\"color: #008000; text-decoration-color: #008000; font-weight: bold\">]</span><span style=\"color: #008000; text-decoration-color: #008000\"> </span>\n",
       "<span style=\"color: #008000; text-decoration-color: #008000\">                     &gt; I need to analyze the presentation based on the feedback categories provided.</span>\n",
       "<span style=\"color: #008000; text-decoration-color: #008000\">                     &gt; I should consider the audience alignment, content evaluation, implementation</span>\n",
       "<span style=\"color: #008000; text-decoration-color: #008000\">                     &gt; and practicality, and improvement suggestions. This will help me formulate a</span>\n",
       "<span style=\"color: #008000; text-decoration-color: #008000\">                     &gt; comprehensive response.</span>\n",
       "</pre>\n"
      ],
      "text/plain": [
       "\u001b[4;32mEvelyn Martinez\u001b[0m\u001b[32m acts: \u001b[0m\u001b[1;32m[\u001b[0m\u001b[32mTHINK\u001b[0m\u001b[1;32m]\u001b[0m\u001b[32m \u001b[0m\n",
       "\u001b[32m                     > I need to analyze the presentation based on the feedback categories provided.\u001b[0m\n",
       "\u001b[32m                     > I should consider the audience alignment, content evaluation, implementation\u001b[0m\n",
       "\u001b[32m                     > and practicality, and improvement suggestions. This will help me formulate a\u001b[0m\n",
       "\u001b[32m                     > comprehensive response.\u001b[0m\n"
      ]
     },
     "metadata": {},
     "output_type": "display_data"
    },
    {
     "data": {
      "text/html": [
       "<pre style=\"margin:0px;;white-space:pre;overflow-x:auto;line-height:normal;font-family:Menlo,'DejaVu Sans Mono',consolas,'Courier New',monospace\"><span style=\"color: #008000; text-decoration-color: #008000; text-decoration: underline\">Evelyn Martinez</span><span style=\"color: #008000; text-decoration-color: #008000\"> acts: </span><span style=\"color: #008000; text-decoration-color: #008000; font-weight: bold\">[</span><span style=\"color: #008000; text-decoration-color: #008000\">THINK</span><span style=\"color: #008000; text-decoration-color: #008000; font-weight: bold\">]</span><span style=\"color: #008000; text-decoration-color: #008000\"> </span>\n",
       "<span style=\"color: #008000; text-decoration-color: #008000\">                     &gt; I need to formulate feedback based on the presentation analysis. I will break</span>\n",
       "<span style=\"color: #008000; text-decoration-color: #008000\">                     &gt; it down into the specified categories: Audience Alignment, Content</span>\n",
       "<span style=\"color: #008000; text-decoration-color: #008000\">                     &gt; Evaluation, Implementation and Practicality, and Improvement Suggestions.</span>\n",
       "<span style=\"color: #008000; text-decoration-color: #008000\">                     &gt; This will help ensure that my feedback is structured and comprehensive.</span>\n",
       "</pre>\n"
      ],
      "text/plain": [
       "\u001b[4;32mEvelyn Martinez\u001b[0m\u001b[32m acts: \u001b[0m\u001b[1;32m[\u001b[0m\u001b[32mTHINK\u001b[0m\u001b[1;32m]\u001b[0m\u001b[32m \u001b[0m\n",
       "\u001b[32m                     > I need to formulate feedback based on the presentation analysis. I will break\u001b[0m\n",
       "\u001b[32m                     > it down into the specified categories: Audience Alignment, Content\u001b[0m\n",
       "\u001b[32m                     > Evaluation, Implementation and Practicality, and Improvement Suggestions.\u001b[0m\n",
       "\u001b[32m                     > This will help ensure that my feedback is structured and comprehensive.\u001b[0m\n"
      ]
     },
     "metadata": {},
     "output_type": "display_data"
    },
    {
     "data": {
      "text/html": [
       "<pre style=\"margin:0px;;white-space:pre;overflow-x:auto;line-height:normal;font-family:Menlo,'DejaVu Sans Mono',consolas,'Courier New',monospace\"><span style=\"color: #00d700; text-decoration-color: #00d700; font-weight: bold; text-decoration: underline\">Evelyn Martinez</span><span style=\"color: #00d700; text-decoration-color: #00d700; font-weight: bold\"> acts: [TALK] </span>\n",
       "<span style=\"color: #00d700; text-decoration-color: #00d700; font-weight: bold\">                     &gt; Based on the presentation, here are my analyses and feedback:</span>\n",
       "</pre>\n"
      ],
      "text/plain": [
       "\u001b[1;4;38;5;40mEvelyn Martinez\u001b[0m\u001b[1;38;5;40m acts: \u001b[0m\u001b[1;38;5;40m[\u001b[0m\u001b[1;38;5;40mTALK\u001b[0m\u001b[1;38;5;40m]\u001b[0m\u001b[1;38;5;40m \u001b[0m\n",
       "\u001b[1;38;5;40m                     > Based on the presentation, here are my analyses and feedback:\u001b[0m\n"
      ]
     },
     "metadata": {},
     "output_type": "display_data"
    },
    {
     "data": {
      "text/html": [
       "<pre style=\"margin:0px;;white-space:pre;overflow-x:auto;line-height:normal;font-family:Menlo,'DejaVu Sans Mono',consolas,'Courier New',monospace\"><span style=\"color: #00d700; text-decoration-color: #00d700; font-weight: bold; text-decoration: underline\">Evelyn Martinez</span><span style=\"color: #00d700; text-decoration-color: #00d700; font-weight: bold\"> acts: [TALK] </span>\n",
       "<span style=\"color: #00d700; text-decoration-color: #00d700; font-weight: bold\">                     &gt; </span><span style=\"color: #00d700; text-decoration-color: #00d700; font-weight: bold\">1</span><span style=\"color: #00d700; text-decoration-color: #00d700; font-weight: bold\">. **Audience Alignment:** The content is appropriate for the intended</span>\n",
       "<span style=\"color: #00d700; text-decoration-color: #00d700; font-weight: bold\">                     &gt; audience, as it addresses young adults seeking long-term relationships.</span>\n",
       "<span style=\"color: #00d700; text-decoration-color: #00d700; font-weight: bold\">                     &gt; However, some technical concepts, like AI-driven matchmaking, could be</span>\n",
       "<span style=\"color: #00d700; text-decoration-color: #00d700; font-weight: bold\">                     &gt; simplified for better understanding. To enhance effectiveness, consider</span>\n",
       "<span style=\"color: #00d700; text-decoration-color: #00d700; font-weight: bold\">                     &gt; including relatable examples or testimonials from users.   </span><span style=\"color: #00d700; text-decoration-color: #00d700; font-weight: bold\">2</span><span style=\"color: #00d700; text-decoration-color: #00d700; font-weight: bold\">. **Content</span>\n",
       "<span style=\"color: #00d700; text-decoration-color: #00d700; font-weight: bold\">                     &gt; Evaluation:** The emphasis on personalized matching resonates with my</span>\n",
       "<span style=\"color: #00d700; text-decoration-color: #00d700; font-weight: bold\">                     &gt; experience in AI applications. However, the presentation could benefit from</span>\n",
       "<span style=\"color: #00d700; text-decoration-color: #00d700; font-weight: bold\">                     &gt; discussing data privacy concerns and ethical implications of AI in</span>\n",
       "<span style=\"color: #00d700; text-decoration-color: #00d700; font-weight: bold\">                     &gt; matchmaking, which are critical in today's tech landscape. Additionally,</span>\n",
       "<span style=\"color: #00d700; text-decoration-color: #00d700; font-weight: bold\">                     &gt; claims about the app's effectiveness should be backed by data or case</span>\n",
       "<span style=\"color: #00d700; text-decoration-color: #00d700; font-weight: bold\">                     &gt; studies.   </span><span style=\"color: #00d700; text-decoration-color: #00d700; font-weight: bold\">3</span><span style=\"color: #00d700; text-decoration-color: #00d700; font-weight: bold\">. **Implementation and Practicality:** Practical challenges may</span>\n",
       "<span style=\"color: #00d700; text-decoration-color: #00d700; font-weight: bold\">                     &gt; include ensuring data security and user privacy, which are paramount in app</span>\n",
       "<span style=\"color: #00d700; text-decoration-color: #00d700; font-weight: bold\">                     &gt; development. Dependencies like user engagement and continuous AI training</span>\n",
       "<span style=\"color: #00d700; text-decoration-color: #00d700; font-weight: bold\">                     &gt; should be addressed. Risks such as potential biases in AI algorithms should</span>\n",
       "<span style=\"color: #00d700; text-decoration-color: #00d700; font-weight: bold\">                     &gt; also be  (...)</span>\n",
       "</pre>\n"
      ],
      "text/plain": [
       "\u001b[1;4;38;5;40mEvelyn Martinez\u001b[0m\u001b[1;38;5;40m acts: \u001b[0m\u001b[1;38;5;40m[\u001b[0m\u001b[1;38;5;40mTALK\u001b[0m\u001b[1;38;5;40m]\u001b[0m\u001b[1;38;5;40m \u001b[0m\n",
       "\u001b[1;38;5;40m                     > \u001b[0m\u001b[1;38;5;40m1\u001b[0m\u001b[1;38;5;40m. **Audience Alignment:** The content is appropriate for the intended\u001b[0m\n",
       "\u001b[1;38;5;40m                     > audience, as it addresses young adults seeking long-term relationships.\u001b[0m\n",
       "\u001b[1;38;5;40m                     > However, some technical concepts, like AI-driven matchmaking, could be\u001b[0m\n",
       "\u001b[1;38;5;40m                     > simplified for better understanding. To enhance effectiveness, consider\u001b[0m\n",
       "\u001b[1;38;5;40m                     > including relatable examples or testimonials from users.   \u001b[0m\u001b[1;38;5;40m2\u001b[0m\u001b[1;38;5;40m. **Content\u001b[0m\n",
       "\u001b[1;38;5;40m                     > Evaluation:** The emphasis on personalized matching resonates with my\u001b[0m\n",
       "\u001b[1;38;5;40m                     > experience in AI applications. However, the presentation could benefit from\u001b[0m\n",
       "\u001b[1;38;5;40m                     > discussing data privacy concerns and ethical implications of AI in\u001b[0m\n",
       "\u001b[1;38;5;40m                     > matchmaking, which are critical in today's tech landscape. Additionally,\u001b[0m\n",
       "\u001b[1;38;5;40m                     > claims about the app's effectiveness should be backed by data or case\u001b[0m\n",
       "\u001b[1;38;5;40m                     > studies.   \u001b[0m\u001b[1;38;5;40m3\u001b[0m\u001b[1;38;5;40m. **Implementation and Practicality:** Practical challenges may\u001b[0m\n",
       "\u001b[1;38;5;40m                     > include ensuring data security and user privacy, which are paramount in app\u001b[0m\n",
       "\u001b[1;38;5;40m                     > development. Dependencies like user engagement and continuous AI training\u001b[0m\n",
       "\u001b[1;38;5;40m                     > should be addressed. Risks such as potential biases in AI algorithms should\u001b[0m\n",
       "\u001b[1;38;5;40m                     > also be  \u001b[0m\u001b[1;38;5;40m(\u001b[0m\u001b[1;38;5;40m...\u001b[0m\u001b[1;38;5;40m)\u001b[0m\n"
      ]
     },
     "metadata": {},
     "output_type": "display_data"
    },
    {
     "data": {
      "text/html": [
       "<pre style=\"margin:0px;;white-space:pre;overflow-x:auto;line-height:normal;font-family:Menlo,'DejaVu Sans Mono',consolas,'Courier New',monospace\"><span style=\"color: #d0d0d0; text-decoration-color: #d0d0d0; text-decoration: underline\">Evelyn Martinez</span><span style=\"color: #d0d0d0; text-decoration-color: #d0d0d0\"> acts: </span><span style=\"color: #d0d0d0; text-decoration-color: #d0d0d0; font-weight: bold\">[</span><span style=\"color: #d0d0d0; text-decoration-color: #d0d0d0\">DONE</span><span style=\"color: #d0d0d0; text-decoration-color: #d0d0d0; font-weight: bold\">]</span><span style=\"color: #d0d0d0; text-decoration-color: #d0d0d0\"> </span>\n",
       "\n",
       "</pre>\n"
      ],
      "text/plain": [
       "\u001b[4;38;5;252mEvelyn Martinez\u001b[0m\u001b[38;5;252m acts: \u001b[0m\u001b[1;38;5;252m[\u001b[0m\u001b[38;5;252mDONE\u001b[0m\u001b[1;38;5;252m]\u001b[0m\u001b[38;5;252m \u001b[0m\n",
       "\n"
      ]
     },
     "metadata": {},
     "output_type": "display_data"
    },
    {
     "data": {
      "text/html": [
       "<pre style=\"margin:0px;;white-space:pre;overflow-x:auto;line-height:normal;font-family:Menlo,'DejaVu Sans Mono',consolas,'Courier New',monospace\"><span style=\"color: #008000; text-decoration-color: #008000; text-decoration: underline\">Marcus Thompson</span><span style=\"color: #008000; text-decoration-color: #008000\"> acts: </span><span style=\"color: #008000; text-decoration-color: #008000; font-weight: bold\">[</span><span style=\"color: #008000; text-decoration-color: #008000\">THINK</span><span style=\"color: #008000; text-decoration-color: #008000; font-weight: bold\">]</span><span style=\"color: #008000; text-decoration-color: #008000\"> </span>\n",
       "<span style=\"color: #008000; text-decoration-color: #008000\">                     &gt; I need to analyze the presentation based on the feedback criteria provided. I</span>\n",
       "<span style=\"color: #008000; text-decoration-color: #008000\">                     &gt; should consider the audience alignment, content evaluation, implementation</span>\n",
       "<span style=\"color: #008000; text-decoration-color: #008000\">                     &gt; challenges, and improvement suggestions.</span>\n",
       "</pre>\n"
      ],
      "text/plain": [
       "\u001b[4;32mMarcus Thompson\u001b[0m\u001b[32m acts: \u001b[0m\u001b[1;32m[\u001b[0m\u001b[32mTHINK\u001b[0m\u001b[1;32m]\u001b[0m\u001b[32m \u001b[0m\n",
       "\u001b[32m                     > I need to analyze the presentation based on the feedback criteria provided. I\u001b[0m\n",
       "\u001b[32m                     > should consider the audience alignment, content evaluation, implementation\u001b[0m\n",
       "\u001b[32m                     > challenges, and improvement suggestions.\u001b[0m\n"
      ]
     },
     "metadata": {},
     "output_type": "display_data"
    },
    {
     "data": {
      "text/html": [
       "<pre style=\"margin:0px;;white-space:pre;overflow-x:auto;line-height:normal;font-family:Menlo,'DejaVu Sans Mono',consolas,'Courier New',monospace\"><span style=\"color: #008000; text-decoration-color: #008000; text-decoration: underline\">Marcus Thompson</span><span style=\"color: #008000; text-decoration-color: #008000\"> acts: </span><span style=\"color: #008000; text-decoration-color: #008000; font-weight: bold\">[</span><span style=\"color: #008000; text-decoration-color: #008000\">THINK</span><span style=\"color: #008000; text-decoration-color: #008000; font-weight: bold\">]</span><span style=\"color: #008000; text-decoration-color: #008000\"> </span>\n",
       "<span style=\"color: #008000; text-decoration-color: #008000\">                     &gt; I need to formulate feedback based on the presentation analysis criteria. I</span>\n",
       "<span style=\"color: #008000; text-decoration-color: #008000\">                     &gt; will focus on audience alignment, content evaluation, implementation</span>\n",
       "<span style=\"color: #008000; text-decoration-color: #008000\">                     &gt; challenges, and improvement suggestions.</span>\n",
       "</pre>\n"
      ],
      "text/plain": [
       "\u001b[4;32mMarcus Thompson\u001b[0m\u001b[32m acts: \u001b[0m\u001b[1;32m[\u001b[0m\u001b[32mTHINK\u001b[0m\u001b[1;32m]\u001b[0m\u001b[32m \u001b[0m\n",
       "\u001b[32m                     > I need to formulate feedback based on the presentation analysis criteria. I\u001b[0m\n",
       "\u001b[32m                     > will focus on audience alignment, content evaluation, implementation\u001b[0m\n",
       "\u001b[32m                     > challenges, and improvement suggestions.\u001b[0m\n"
      ]
     },
     "metadata": {},
     "output_type": "display_data"
    },
    {
     "data": {
      "text/html": [
       "<pre style=\"margin:0px;;white-space:pre;overflow-x:auto;line-height:normal;font-family:Menlo,'DejaVu Sans Mono',consolas,'Courier New',monospace\"><span style=\"color: #00d700; text-decoration-color: #00d700; font-weight: bold; text-decoration: underline\">Marcus Thompson</span><span style=\"color: #00d700; text-decoration-color: #00d700; font-weight: bold\"> acts: [TALK] </span>\n",
       "<span style=\"color: #00d700; text-decoration-color: #00d700; font-weight: bold\">                     &gt; Based on the presentation, here are my thoughts on the audience alignment:</span>\n",
       "<span style=\"color: #00d700; text-decoration-color: #00d700; font-weight: bold\">                     &gt; The content seems appropriate for the intended audience of young adults</span>\n",
       "<span style=\"color: #00d700; text-decoration-color: #00d700; font-weight: bold\">                     &gt; seeking long-term relationships. However, it could benefit from more</span>\n",
       "<span style=\"color: #00d700; text-decoration-color: #00d700; font-weight: bold\">                     &gt; relatable examples or testimonials to enhance engagement.</span>\n",
       "</pre>\n"
      ],
      "text/plain": [
       "\u001b[1;4;38;5;40mMarcus Thompson\u001b[0m\u001b[1;38;5;40m acts: \u001b[0m\u001b[1;38;5;40m[\u001b[0m\u001b[1;38;5;40mTALK\u001b[0m\u001b[1;38;5;40m]\u001b[0m\u001b[1;38;5;40m \u001b[0m\n",
       "\u001b[1;38;5;40m                     > Based on the presentation, here are my thoughts on the audience alignment:\u001b[0m\n",
       "\u001b[1;38;5;40m                     > The content seems appropriate for the intended audience of young adults\u001b[0m\n",
       "\u001b[1;38;5;40m                     > seeking long-term relationships. However, it could benefit from more\u001b[0m\n",
       "\u001b[1;38;5;40m                     > relatable examples or testimonials to enhance engagement.\u001b[0m\n"
      ]
     },
     "metadata": {},
     "output_type": "display_data"
    },
    {
     "data": {
      "text/html": [
       "<pre style=\"margin:0px;;white-space:pre;overflow-x:auto;line-height:normal;font-family:Menlo,'DejaVu Sans Mono',consolas,'Courier New',monospace\"><span style=\"color: #008000; text-decoration-color: #008000; text-decoration: underline\">Marcus Thompson</span><span style=\"color: #008000; text-decoration-color: #008000\"> acts: </span><span style=\"color: #008000; text-decoration-color: #008000; font-weight: bold\">[</span><span style=\"color: #008000; text-decoration-color: #008000\">THINK</span><span style=\"color: #008000; text-decoration-color: #008000; font-weight: bold\">]</span><span style=\"color: #008000; text-decoration-color: #008000\"> </span>\n",
       "<span style=\"color: #008000; text-decoration-color: #008000\">                     &gt; I should now provide feedback on the content evaluation aspect of the</span>\n",
       "<span style=\"color: #008000; text-decoration-color: #008000\">                     &gt; presentation. I will consider what resonates with my professional experience</span>\n",
       "<span style=\"color: #008000; text-decoration-color: #008000\">                     &gt; and identify any critical considerations that may be missing.</span>\n",
       "</pre>\n"
      ],
      "text/plain": [
       "\u001b[4;32mMarcus Thompson\u001b[0m\u001b[32m acts: \u001b[0m\u001b[1;32m[\u001b[0m\u001b[32mTHINK\u001b[0m\u001b[1;32m]\u001b[0m\u001b[32m \u001b[0m\n",
       "\u001b[32m                     > I should now provide feedback on the content evaluation aspect of the\u001b[0m\n",
       "\u001b[32m                     > presentation. I will consider what resonates with my professional experience\u001b[0m\n",
       "\u001b[32m                     > and identify any critical considerations that may be missing.\u001b[0m\n"
      ]
     },
     "metadata": {},
     "output_type": "display_data"
    },
    {
     "data": {
      "text/html": [
       "<pre style=\"margin:0px;;white-space:pre;overflow-x:auto;line-height:normal;font-family:Menlo,'DejaVu Sans Mono',consolas,'Courier New',monospace\"><span style=\"color: #00d700; text-decoration-color: #00d700; font-weight: bold; text-decoration: underline\">Marcus Thompson</span><span style=\"color: #00d700; text-decoration-color: #00d700; font-weight: bold\"> acts: [TALK] </span>\n",
       "<span style=\"color: #00d700; text-decoration-color: #00d700; font-weight: bold\">                     &gt; In terms of content evaluation, I find the emphasis on AI-driven matchmaking</span>\n",
       "<span style=\"color: #00d700; text-decoration-color: #00d700; font-weight: bold\">                     &gt; and personalized user experiences resonates well with my professional</span>\n",
       "<span style=\"color: #00d700; text-decoration-color: #00d700; font-weight: bold\">                     &gt; background. However, I believe there should be more focus on the ethical</span>\n",
       "<span style=\"color: #00d700; text-decoration-color: #00d700; font-weight: bold\">                     &gt; implications of using AI in matchmaking, as this is crucial for user trust</span>\n",
       "<span style=\"color: #00d700; text-decoration-color: #00d700; font-weight: bold\">                     &gt; and satisfaction.</span>\n",
       "</pre>\n"
      ],
      "text/plain": [
       "\u001b[1;4;38;5;40mMarcus Thompson\u001b[0m\u001b[1;38;5;40m acts: \u001b[0m\u001b[1;38;5;40m[\u001b[0m\u001b[1;38;5;40mTALK\u001b[0m\u001b[1;38;5;40m]\u001b[0m\u001b[1;38;5;40m \u001b[0m\n",
       "\u001b[1;38;5;40m                     > In terms of content evaluation, I find the emphasis on AI-driven matchmaking\u001b[0m\n",
       "\u001b[1;38;5;40m                     > and personalized user experiences resonates well with my professional\u001b[0m\n",
       "\u001b[1;38;5;40m                     > background. However, I believe there should be more focus on the ethical\u001b[0m\n",
       "\u001b[1;38;5;40m                     > implications of using AI in matchmaking, as this is crucial for user trust\u001b[0m\n",
       "\u001b[1;38;5;40m                     > and satisfaction.\u001b[0m\n"
      ]
     },
     "metadata": {},
     "output_type": "display_data"
    },
    {
     "data": {
      "text/html": [
       "<pre style=\"margin:0px;;white-space:pre;overflow-x:auto;line-height:normal;font-family:Menlo,'DejaVu Sans Mono',consolas,'Courier New',monospace\"><span style=\"color: #008000; text-decoration-color: #008000; text-decoration: underline\">Marcus Thompson</span><span style=\"color: #008000; text-decoration-color: #008000\"> acts: </span><span style=\"color: #008000; text-decoration-color: #008000; font-weight: bold\">[</span><span style=\"color: #008000; text-decoration-color: #008000\">THINK</span><span style=\"color: #008000; text-decoration-color: #008000; font-weight: bold\">]</span><span style=\"color: #008000; text-decoration-color: #008000\"> </span>\n",
       "<span style=\"color: #008000; text-decoration-color: #008000\">                     &gt; Next, I need to address the implementation and practicality of the app as</span>\n",
       "<span style=\"color: #008000; text-decoration-color: #008000\">                     &gt; presented. I should consider potential challenges and risks that may arise</span>\n",
       "<span style=\"color: #008000; text-decoration-color: #008000\">                     &gt; during its deployment.</span>\n",
       "</pre>\n"
      ],
      "text/plain": [
       "\u001b[4;32mMarcus Thompson\u001b[0m\u001b[32m acts: \u001b[0m\u001b[1;32m[\u001b[0m\u001b[32mTHINK\u001b[0m\u001b[1;32m]\u001b[0m\u001b[32m \u001b[0m\n",
       "\u001b[32m                     > Next, I need to address the implementation and practicality of the app as\u001b[0m\n",
       "\u001b[32m                     > presented. I should consider potential challenges and risks that may arise\u001b[0m\n",
       "\u001b[32m                     > during its deployment.\u001b[0m\n"
      ]
     },
     "metadata": {},
     "output_type": "display_data"
    },
    {
     "data": {
      "text/html": [
       "<pre style=\"margin:0px;;white-space:pre;overflow-x:auto;line-height:normal;font-family:Menlo,'DejaVu Sans Mono',consolas,'Courier New',monospace\"><span style=\"color: #00d700; text-decoration-color: #00d700; font-weight: bold; text-decoration: underline\">Marcus Thompson</span><span style=\"color: #00d700; text-decoration-color: #00d700; font-weight: bold\"> acts: [TALK] </span>\n",
       "<span style=\"color: #00d700; text-decoration-color: #00d700; font-weight: bold\">                     &gt; Regarding the implementation and practicality, I foresee challenges related</span>\n",
       "<span style=\"color: #00d700; text-decoration-color: #00d700; font-weight: bold\">                     &gt; to user data privacy and ensuring the AI respects ethical standards. It's</span>\n",
       "<span style=\"color: #00d700; text-decoration-color: #00d700; font-weight: bold\">                     &gt; essential to address these concerns upfront to build user trust.</span>\n",
       "</pre>\n"
      ],
      "text/plain": [
       "\u001b[1;4;38;5;40mMarcus Thompson\u001b[0m\u001b[1;38;5;40m acts: \u001b[0m\u001b[1;38;5;40m[\u001b[0m\u001b[1;38;5;40mTALK\u001b[0m\u001b[1;38;5;40m]\u001b[0m\u001b[1;38;5;40m \u001b[0m\n",
       "\u001b[1;38;5;40m                     > Regarding the implementation and practicality, I foresee challenges related\u001b[0m\n",
       "\u001b[1;38;5;40m                     > to user data privacy and ensuring the AI respects ethical standards. It's\u001b[0m\n",
       "\u001b[1;38;5;40m                     > essential to address these concerns upfront to build user trust.\u001b[0m\n"
      ]
     },
     "metadata": {},
     "output_type": "display_data"
    },
    {
     "data": {
      "text/html": [
       "<pre style=\"margin:0px;;white-space:pre;overflow-x:auto;line-height:normal;font-family:Menlo,'DejaVu Sans Mono',consolas,'Courier New',monospace\"><span style=\"color: #008000; text-decoration-color: #008000; text-decoration: underline\">Marcus Thompson</span><span style=\"color: #008000; text-decoration-color: #008000\"> acts: </span><span style=\"color: #008000; text-decoration-color: #008000; font-weight: bold\">[</span><span style=\"color: #008000; text-decoration-color: #008000\">THINK</span><span style=\"color: #008000; text-decoration-color: #008000; font-weight: bold\">]</span><span style=\"color: #008000; text-decoration-color: #008000\"> </span>\n",
       "<span style=\"color: #008000; text-decoration-color: #008000\">                     &gt; I need to summarize my feedback and suggestions for improvement based on the</span>\n",
       "<span style=\"color: #008000; text-decoration-color: #008000\">                     &gt; previous analysis of the presentation.</span>\n",
       "</pre>\n"
      ],
      "text/plain": [
       "\u001b[4;32mMarcus Thompson\u001b[0m\u001b[32m acts: \u001b[0m\u001b[1;32m[\u001b[0m\u001b[32mTHINK\u001b[0m\u001b[1;32m]\u001b[0m\u001b[32m \u001b[0m\n",
       "\u001b[32m                     > I need to summarize my feedback and suggestions for improvement based on the\u001b[0m\n",
       "\u001b[32m                     > previous analysis of the presentation.\u001b[0m\n"
      ]
     },
     "metadata": {},
     "output_type": "display_data"
    },
    {
     "data": {
      "text/html": [
       "<pre style=\"margin:0px;;white-space:pre;overflow-x:auto;line-height:normal;font-family:Menlo,'DejaVu Sans Mono',consolas,'Courier New',monospace\"><span style=\"color: #00d700; text-decoration-color: #00d700; font-weight: bold; text-decoration: underline\">Marcus Thompson</span><span style=\"color: #00d700; text-decoration-color: #00d700; font-weight: bold\"> acts: [TALK] </span>\n",
       "<span style=\"color: #00d700; text-decoration-color: #00d700; font-weight: bold\">                     &gt; To improve the presentation, I suggest including more real-life examples or</span>\n",
       "<span style=\"color: #00d700; text-decoration-color: #00d700; font-weight: bold\">                     &gt; case studies that demonstrate the app's effectiveness in helping users find</span>\n",
       "<span style=\"color: #00d700; text-decoration-color: #00d700; font-weight: bold\">                     &gt; meaningful connections. This would provide additional context and strengthen</span>\n",
       "<span style=\"color: #00d700; text-decoration-color: #00d700; font-weight: bold\">                     &gt; the overall message.</span>\n",
       "</pre>\n"
      ],
      "text/plain": [
       "\u001b[1;4;38;5;40mMarcus Thompson\u001b[0m\u001b[1;38;5;40m acts: \u001b[0m\u001b[1;38;5;40m[\u001b[0m\u001b[1;38;5;40mTALK\u001b[0m\u001b[1;38;5;40m]\u001b[0m\u001b[1;38;5;40m \u001b[0m\n",
       "\u001b[1;38;5;40m                     > To improve the presentation, I suggest including more real-life examples or\u001b[0m\n",
       "\u001b[1;38;5;40m                     > case studies that demonstrate the app's effectiveness in helping users find\u001b[0m\n",
       "\u001b[1;38;5;40m                     > meaningful connections. This would provide additional context and strengthen\u001b[0m\n",
       "\u001b[1;38;5;40m                     > the overall message.\u001b[0m\n"
      ]
     },
     "metadata": {},
     "output_type": "display_data"
    },
    {
     "data": {
      "text/html": [
       "<pre style=\"margin:0px;;white-space:pre;overflow-x:auto;line-height:normal;font-family:Menlo,'DejaVu Sans Mono',consolas,'Courier New',monospace\"><span style=\"color: #d0d0d0; text-decoration-color: #d0d0d0; text-decoration: underline\">Marcus Thompson</span><span style=\"color: #d0d0d0; text-decoration-color: #d0d0d0\"> acts: </span><span style=\"color: #d0d0d0; text-decoration-color: #d0d0d0; font-weight: bold\">[</span><span style=\"color: #d0d0d0; text-decoration-color: #d0d0d0\">DONE</span><span style=\"color: #d0d0d0; text-decoration-color: #d0d0d0; font-weight: bold\">]</span><span style=\"color: #d0d0d0; text-decoration-color: #d0d0d0\"> </span>\n",
       "\n",
       "</pre>\n"
      ],
      "text/plain": [
       "\u001b[4;38;5;252mMarcus Thompson\u001b[0m\u001b[38;5;252m acts: \u001b[0m\u001b[1;38;5;252m[\u001b[0m\u001b[38;5;252mDONE\u001b[0m\u001b[1;38;5;252m]\u001b[0m\u001b[38;5;252m \u001b[0m\n",
       "\n"
      ]
     },
     "metadata": {},
     "output_type": "display_data"
    },
    {
     "data": {
      "text/html": [
       "<pre style=\"margin:0px;;white-space:pre;overflow-x:auto;line-height:normal;font-family:Menlo,'DejaVu Sans Mono',consolas,'Courier New',monospace\"><span style=\"color: #008000; text-decoration-color: #008000; text-decoration: underline\">Nina Kovač</span><span style=\"color: #008000; text-decoration-color: #008000\"> acts: </span><span style=\"color: #008000; text-decoration-color: #008000; font-weight: bold\">[</span><span style=\"color: #008000; text-decoration-color: #008000\">THINK</span><span style=\"color: #008000; text-decoration-color: #008000; font-weight: bold\">]</span><span style=\"color: #008000; text-decoration-color: #008000\"> </span>\n",
       "<span style=\"color: #008000; text-decoration-color: #008000\">                &gt; I need to analyze the presentation based on the feedback categories provided. I</span>\n",
       "<span style=\"color: #008000; text-decoration-color: #008000\">                &gt; should consider the audience alignment, content evaluation, implementation and</span>\n",
       "<span style=\"color: #008000; text-decoration-color: #008000\">                &gt; practicality, and improvement suggestions.</span>\n",
       "</pre>\n"
      ],
      "text/plain": [
       "\u001b[4;32mNina Kovač\u001b[0m\u001b[32m acts: \u001b[0m\u001b[1;32m[\u001b[0m\u001b[32mTHINK\u001b[0m\u001b[1;32m]\u001b[0m\u001b[32m \u001b[0m\n",
       "\u001b[32m                > I need to analyze the presentation based on the feedback categories provided. I\u001b[0m\n",
       "\u001b[32m                > should consider the audience alignment, content evaluation, implementation and\u001b[0m\n",
       "\u001b[32m                > practicality, and improvement suggestions.\u001b[0m\n"
      ]
     },
     "metadata": {},
     "output_type": "display_data"
    },
    {
     "data": {
      "text/html": [
       "<pre style=\"margin:0px;;white-space:pre;overflow-x:auto;line-height:normal;font-family:Menlo,'DejaVu Sans Mono',consolas,'Courier New',monospace\"><span style=\"color: #008000; text-decoration-color: #008000; text-decoration: underline\">Nina Kovač</span><span style=\"color: #008000; text-decoration-color: #008000\"> acts: </span><span style=\"color: #008000; text-decoration-color: #008000; font-weight: bold\">[</span><span style=\"color: #008000; text-decoration-color: #008000\">THINK</span><span style=\"color: #008000; text-decoration-color: #008000; font-weight: bold\">]</span><span style=\"color: #008000; text-decoration-color: #008000\"> </span>\n",
       "<span style=\"color: #008000; text-decoration-color: #008000\">                &gt; I need to formulate feedback based on the presentation analysis. I will consider</span>\n",
       "<span style=\"color: #008000; text-decoration-color: #008000\">                &gt; the audience alignment, content evaluation, implementation and practicality, and</span>\n",
       "<span style=\"color: #008000; text-decoration-color: #008000\">                &gt; improvement suggestions.</span>\n",
       "</pre>\n"
      ],
      "text/plain": [
       "\u001b[4;32mNina Kovač\u001b[0m\u001b[32m acts: \u001b[0m\u001b[1;32m[\u001b[0m\u001b[32mTHINK\u001b[0m\u001b[1;32m]\u001b[0m\u001b[32m \u001b[0m\n",
       "\u001b[32m                > I need to formulate feedback based on the presentation analysis. I will consider\u001b[0m\n",
       "\u001b[32m                > the audience alignment, content evaluation, implementation and practicality, and\u001b[0m\n",
       "\u001b[32m                > improvement suggestions.\u001b[0m\n"
      ]
     },
     "metadata": {},
     "output_type": "display_data"
    },
    {
     "data": {
      "text/html": [
       "<pre style=\"margin:0px;;white-space:pre;overflow-x:auto;line-height:normal;font-family:Menlo,'DejaVu Sans Mono',consolas,'Courier New',monospace\"><span style=\"color: #00d700; text-decoration-color: #00d700; font-weight: bold; text-decoration: underline\">Nina Kovač</span><span style=\"color: #00d700; text-decoration-color: #00d700; font-weight: bold\"> acts: [TALK] </span>\n",
       "<span style=\"color: #00d700; text-decoration-color: #00d700; font-weight: bold\">                &gt; Based on the presentation, here are my thoughts:</span>\n",
       "</pre>\n"
      ],
      "text/plain": [
       "\u001b[1;4;38;5;40mNina Kovač\u001b[0m\u001b[1;38;5;40m acts: \u001b[0m\u001b[1;38;5;40m[\u001b[0m\u001b[1;38;5;40mTALK\u001b[0m\u001b[1;38;5;40m]\u001b[0m\u001b[1;38;5;40m \u001b[0m\n",
       "\u001b[1;38;5;40m                > Based on the presentation, here are my thoughts:\u001b[0m\n"
      ]
     },
     "metadata": {},
     "output_type": "display_data"
    },
    {
     "data": {
      "text/html": [
       "<pre style=\"margin:0px;;white-space:pre;overflow-x:auto;line-height:normal;font-family:Menlo,'DejaVu Sans Mono',consolas,'Courier New',monospace\"><span style=\"color: #00d700; text-decoration-color: #00d700; font-weight: bold; text-decoration: underline\">Nina Kovač</span><span style=\"color: #00d700; text-decoration-color: #00d700; font-weight: bold\"> acts: [TALK] </span>\n",
       "<span style=\"color: #00d700; text-decoration-color: #00d700; font-weight: bold\">                &gt; </span><span style=\"color: #00d700; text-decoration-color: #00d700; font-weight: bold\">1</span><span style=\"color: #00d700; text-decoration-color: #00d700; font-weight: bold\">. Audience Alignment:    - The content is appropriate for the intended audience,</span>\n",
       "<span style=\"color: #00d700; text-decoration-color: #00d700; font-weight: bold\">                &gt; as it addresses young adults seeking long-term relationships. However, some</span>\n",
       "<span style=\"color: #00d700; text-decoration-color: #00d700; font-weight: bold\">                &gt; technical concepts, like AI-driven matchmaking, may need simpler explanations for</span>\n",
       "<span style=\"color: #00d700; text-decoration-color: #00d700; font-weight: bold\">                &gt; clarity.    - To make it more effective, consider including relatable examples or</span>\n",
       "<span style=\"color: #00d700; text-decoration-color: #00d700; font-weight: bold\">                &gt; testimonials from users in their 20s who have successfully used the app.  </span><span style=\"color: #00d700; text-decoration-color: #00d700; font-weight: bold\">2</span><span style=\"color: #00d700; text-decoration-color: #00d700; font-weight: bold\">.</span>\n",
       "<span style=\"color: #00d700; text-decoration-color: #00d700; font-weight: bold\">                &gt; Content Evaluation:    - The emphasis on personalized matching resonates with my</span>\n",
       "<span style=\"color: #00d700; text-decoration-color: #00d700; font-weight: bold\">                &gt; experience in AI applications, as personalization is key in user engagement.    -</span>\n",
       "<span style=\"color: #00d700; text-decoration-color: #00d700; font-weight: bold\">                &gt; However, the presentation could benefit from more attention to data privacy and</span>\n",
       "<span style=\"color: #00d700; text-decoration-color: #00d700; font-weight: bold\">                &gt; ethical considerations, which are critical in AI development.    - Claims about</span>\n",
       "<span style=\"color: #00d700; text-decoration-color: #00d700; font-weight: bold\">                &gt; the effectiveness of the AI agent should be backed by data or case studies to</span>\n",
       "<span style=\"color: #00d700; text-decoration-color: #00d700; font-weight: bold\">                &gt; validate them.  </span><span style=\"color: #00d700; text-decoration-color: #00d700; font-weight: bold\">3</span><span style=\"color: #00d700; text-decoration-color: #00d700; font-weight: bold\">. Implementation and Practicality:    - Practical challenges may</span>\n",
       "<span style=\"color: #00d700; text-decoration-color: #00d700; font-weight: bold\">                &gt; include ensuring the AI accurately understands user preferences and behaviors,</span>\n",
       "<span style=\"color: #00d700; text-decoration-color: #00d700; font-weight: bold\">                &gt; which can vary widely.    - Dependencies such as user data secu (...)</span>\n",
       "</pre>\n"
      ],
      "text/plain": [
       "\u001b[1;4;38;5;40mNina Kovač\u001b[0m\u001b[1;38;5;40m acts: \u001b[0m\u001b[1;38;5;40m[\u001b[0m\u001b[1;38;5;40mTALK\u001b[0m\u001b[1;38;5;40m]\u001b[0m\u001b[1;38;5;40m \u001b[0m\n",
       "\u001b[1;38;5;40m                > \u001b[0m\u001b[1;38;5;40m1\u001b[0m\u001b[1;38;5;40m. Audience Alignment:    - The content is appropriate for the intended audience,\u001b[0m\n",
       "\u001b[1;38;5;40m                > as it addresses young adults seeking long-term relationships. However, some\u001b[0m\n",
       "\u001b[1;38;5;40m                > technical concepts, like AI-driven matchmaking, may need simpler explanations for\u001b[0m\n",
       "\u001b[1;38;5;40m                > clarity.    - To make it more effective, consider including relatable examples or\u001b[0m\n",
       "\u001b[1;38;5;40m                > testimonials from users in their 20s who have successfully used the app.  \u001b[0m\u001b[1;38;5;40m2\u001b[0m\u001b[1;38;5;40m.\u001b[0m\n",
       "\u001b[1;38;5;40m                > Content Evaluation:    - The emphasis on personalized matching resonates with my\u001b[0m\n",
       "\u001b[1;38;5;40m                > experience in AI applications, as personalization is key in user engagement.    -\u001b[0m\n",
       "\u001b[1;38;5;40m                > However, the presentation could benefit from more attention to data privacy and\u001b[0m\n",
       "\u001b[1;38;5;40m                > ethical considerations, which are critical in AI development.    - Claims about\u001b[0m\n",
       "\u001b[1;38;5;40m                > the effectiveness of the AI agent should be backed by data or case studies to\u001b[0m\n",
       "\u001b[1;38;5;40m                > validate them.  \u001b[0m\u001b[1;38;5;40m3\u001b[0m\u001b[1;38;5;40m. Implementation and Practicality:    - Practical challenges may\u001b[0m\n",
       "\u001b[1;38;5;40m                > include ensuring the AI accurately understands user preferences and behaviors,\u001b[0m\n",
       "\u001b[1;38;5;40m                > which can vary widely.    - Dependencies such as user data secu \u001b[0m\u001b[1;38;5;40m(\u001b[0m\u001b[1;38;5;40m...\u001b[0m\u001b[1;38;5;40m)\u001b[0m\n"
      ]
     },
     "metadata": {},
     "output_type": "display_data"
    },
    {
     "data": {
      "text/html": [
       "<pre style=\"margin:0px;;white-space:pre;overflow-x:auto;line-height:normal;font-family:Menlo,'DejaVu Sans Mono',consolas,'Courier New',monospace\"><span style=\"color: #008000; text-decoration-color: #008000; text-decoration: underline\">Nina Kovač</span><span style=\"color: #008000; text-decoration-color: #008000\"> acts: </span><span style=\"color: #008000; text-decoration-color: #008000; font-weight: bold\">[</span><span style=\"color: #008000; text-decoration-color: #008000\">THINK</span><span style=\"color: #008000; text-decoration-color: #008000; font-weight: bold\">]</span><span style=\"color: #008000; text-decoration-color: #008000\"> </span>\n",
       "<span style=\"color: #008000; text-decoration-color: #008000\">                &gt; I need to formulate questions that will help clarify critical aspects, address</span>\n",
       "<span style=\"color: #008000; text-decoration-color: #008000\">                &gt; potential gaps, and validate key assumptions from the presentation.</span>\n",
       "</pre>\n"
      ],
      "text/plain": [
       "\u001b[4;32mNina Kovač\u001b[0m\u001b[32m acts: \u001b[0m\u001b[1;32m[\u001b[0m\u001b[32mTHINK\u001b[0m\u001b[1;32m]\u001b[0m\u001b[32m \u001b[0m\n",
       "\u001b[32m                > I need to formulate questions that will help clarify critical aspects, address\u001b[0m\n",
       "\u001b[32m                > potential gaps, and validate key assumptions from the presentation.\u001b[0m\n"
      ]
     },
     "metadata": {},
     "output_type": "display_data"
    },
    {
     "data": {
      "text/html": [
       "<pre style=\"margin:0px;;white-space:pre;overflow-x:auto;line-height:normal;font-family:Menlo,'DejaVu Sans Mono',consolas,'Courier New',monospace\"><span style=\"color: #00d700; text-decoration-color: #00d700; font-weight: bold; text-decoration: underline\">Nina Kovač</span><span style=\"color: #00d700; text-decoration-color: #00d700; font-weight: bold\"> acts: [TALK] </span>\n",
       "<span style=\"color: #00d700; text-decoration-color: #00d700; font-weight: bold\">                &gt; Here are some questions that could help clarify critical aspects of the</span>\n",
       "<span style=\"color: #00d700; text-decoration-color: #00d700; font-weight: bold\">                &gt; presentation:</span>\n",
       "</pre>\n"
      ],
      "text/plain": [
       "\u001b[1;4;38;5;40mNina Kovač\u001b[0m\u001b[1;38;5;40m acts: \u001b[0m\u001b[1;38;5;40m[\u001b[0m\u001b[1;38;5;40mTALK\u001b[0m\u001b[1;38;5;40m]\u001b[0m\u001b[1;38;5;40m \u001b[0m\n",
       "\u001b[1;38;5;40m                > Here are some questions that could help clarify critical aspects of the\u001b[0m\n",
       "\u001b[1;38;5;40m                > presentation:\u001b[0m\n"
      ]
     },
     "metadata": {},
     "output_type": "display_data"
    },
    {
     "data": {
      "text/html": [
       "<pre style=\"margin:0px;;white-space:pre;overflow-x:auto;line-height:normal;font-family:Menlo,'DejaVu Sans Mono',consolas,'Courier New',monospace\"><span style=\"color: #00d700; text-decoration-color: #00d700; font-weight: bold; text-decoration: underline\">Nina Kovač</span><span style=\"color: #00d700; text-decoration-color: #00d700; font-weight: bold\"> acts: [TALK] </span>\n",
       "<span style=\"color: #00d700; text-decoration-color: #00d700; font-weight: bold\">                &gt; </span><span style=\"color: #00d700; text-decoration-color: #00d700; font-weight: bold\">1</span><span style=\"color: #00d700; text-decoration-color: #00d700; font-weight: bold\">. What specific metrics will be used to measure the success of the AI-powered</span>\n",
       "<span style=\"color: #00d700; text-decoration-color: #00d700; font-weight: bold\">                &gt; matchmaking app?     Context: Understanding the success metrics is crucial for</span>\n",
       "<span style=\"color: #00d700; text-decoration-color: #00d700; font-weight: bold\">                &gt; evaluating the app's effectiveness and user satisfaction.    Value: This will help</span>\n",
       "<span style=\"color: #00d700; text-decoration-color: #00d700; font-weight: bold\">                &gt; clarify how the app's performance will be assessed and what benchmarks are in</span>\n",
       "<span style=\"color: #00d700; text-decoration-color: #00d700; font-weight: bold\">                &gt; place.  </span><span style=\"color: #00d700; text-decoration-color: #00d700; font-weight: bold\">2</span><span style=\"color: #00d700; text-decoration-color: #00d700; font-weight: bold\">. How will user data be protected, and what measures are in place to</span>\n",
       "<span style=\"color: #00d700; text-decoration-color: #00d700; font-weight: bold\">                &gt; ensure privacy?     Context: Data privacy is a significant concern for users,</span>\n",
       "<span style=\"color: #00d700; text-decoration-color: #00d700; font-weight: bold\">                &gt; especially in dating apps that handle sensitive information.    Value: This</span>\n",
       "<span style=\"color: #00d700; text-decoration-color: #00d700; font-weight: bold\">                &gt; question addresses potential gaps in the presentation regarding user trust and</span>\n",
       "<span style=\"color: #00d700; text-decoration-color: #00d700; font-weight: bold\">                &gt; security.  </span><span style=\"color: #00d700; text-decoration-color: #00d700; font-weight: bold\">3</span><span style=\"color: #00d700; text-decoration-color: #00d700; font-weight: bold\">. Can you provide examples of how the AI agent learns from user</span>\n",
       "<span style=\"color: #00d700; text-decoration-color: #00d700; font-weight: bold\">                &gt; interactions?     Context: It's important to understand the learning mechanisms of</span>\n",
       "<span style=\"color: #00d700; text-decoration-color: #00d700; font-weight: bold\">                &gt; the AI to validate its effectiveness in improving match suggestions.    Value:</span>\n",
       "<span style=\"color: #00d700; text-decoration-color: #00d700; font-weight: bold\">                &gt; This will help clarify the AI's adaptability and responsiveness to user</span>\n",
       "<span style=\"color: #00d700; text-decoration-color: #00d700; font-weight: bold\">                &gt; preferences.  </span><span style=\"color: #00d700; text-decoration-color: #00d700; font-weight: bold\">4</span><span style=\"color: #00d700; text-decoration-color: #00d700; font-weight: bold\">. What strategies will be implemented to encourage user engagement</span>\n",
       "<span style=\"color: #00d700; text-decoration-color: #00d700; font-weight: bold\">                &gt; an (...)</span>\n",
       "</pre>\n"
      ],
      "text/plain": [
       "\u001b[1;4;38;5;40mNina Kovač\u001b[0m\u001b[1;38;5;40m acts: \u001b[0m\u001b[1;38;5;40m[\u001b[0m\u001b[1;38;5;40mTALK\u001b[0m\u001b[1;38;5;40m]\u001b[0m\u001b[1;38;5;40m \u001b[0m\n",
       "\u001b[1;38;5;40m                > \u001b[0m\u001b[1;38;5;40m1\u001b[0m\u001b[1;38;5;40m. What specific metrics will be used to measure the success of the AI-powered\u001b[0m\n",
       "\u001b[1;38;5;40m                > matchmaking app?     Context: Understanding the success metrics is crucial for\u001b[0m\n",
       "\u001b[1;38;5;40m                > evaluating the app's effectiveness and user satisfaction.    Value: This will help\u001b[0m\n",
       "\u001b[1;38;5;40m                > clarify how the app's performance will be assessed and what benchmarks are in\u001b[0m\n",
       "\u001b[1;38;5;40m                > place.  \u001b[0m\u001b[1;38;5;40m2\u001b[0m\u001b[1;38;5;40m. How will user data be protected, and what measures are in place to\u001b[0m\n",
       "\u001b[1;38;5;40m                > ensure privacy?     Context: Data privacy is a significant concern for users,\u001b[0m\n",
       "\u001b[1;38;5;40m                > especially in dating apps that handle sensitive information.    Value: This\u001b[0m\n",
       "\u001b[1;38;5;40m                > question addresses potential gaps in the presentation regarding user trust and\u001b[0m\n",
       "\u001b[1;38;5;40m                > security.  \u001b[0m\u001b[1;38;5;40m3\u001b[0m\u001b[1;38;5;40m. Can you provide examples of how the AI agent learns from user\u001b[0m\n",
       "\u001b[1;38;5;40m                > interactions?     Context: It's important to understand the learning mechanisms of\u001b[0m\n",
       "\u001b[1;38;5;40m                > the AI to validate its effectiveness in improving match suggestions.    Value:\u001b[0m\n",
       "\u001b[1;38;5;40m                > This will help clarify the AI's adaptability and responsiveness to user\u001b[0m\n",
       "\u001b[1;38;5;40m                > preferences.  \u001b[0m\u001b[1;38;5;40m4\u001b[0m\u001b[1;38;5;40m. What strategies will be implemented to encourage user engagement\u001b[0m\n",
       "\u001b[1;38;5;40m                > an \u001b[0m\u001b[1;38;5;40m(\u001b[0m\u001b[1;38;5;40m...\u001b[0m\u001b[1;38;5;40m)\u001b[0m\n"
      ]
     },
     "metadata": {},
     "output_type": "display_data"
    },
    {
     "data": {
      "text/html": [
       "<pre style=\"margin:0px;;white-space:pre;overflow-x:auto;line-height:normal;font-family:Menlo,'DejaVu Sans Mono',consolas,'Courier New',monospace\"><span style=\"color: #d0d0d0; text-decoration-color: #d0d0d0; text-decoration: underline\">Nina Kovač</span><span style=\"color: #d0d0d0; text-decoration-color: #d0d0d0\"> acts: </span><span style=\"color: #d0d0d0; text-decoration-color: #d0d0d0; font-weight: bold\">[</span><span style=\"color: #d0d0d0; text-decoration-color: #d0d0d0\">DONE</span><span style=\"color: #d0d0d0; text-decoration-color: #d0d0d0; font-weight: bold\">]</span><span style=\"color: #d0d0d0; text-decoration-color: #d0d0d0\"> </span>\n",
       "\n",
       "</pre>\n"
      ],
      "text/plain": [
       "\u001b[4;38;5;252mNina Kovač\u001b[0m\u001b[38;5;252m acts: \u001b[0m\u001b[1;38;5;252m[\u001b[0m\u001b[38;5;252mDONE\u001b[0m\u001b[1;38;5;252m]\u001b[0m\u001b[38;5;252m \u001b[0m\n",
       "\n"
      ]
     },
     "metadata": {},
     "output_type": "display_data"
    },
    {
     "data": {
      "text/html": [
       "<pre style=\"margin:0px;;white-space:pre;overflow-x:auto;line-height:normal;font-family:Menlo,'DejaVu Sans Mono',consolas,'Courier New',monospace\"><span style=\"color: #008000; text-decoration-color: #008000; text-decoration: underline\">Oliver Schmidt</span><span style=\"color: #008000; text-decoration-color: #008000\"> acts: </span><span style=\"color: #008000; text-decoration-color: #008000; font-weight: bold\">[</span><span style=\"color: #008000; text-decoration-color: #008000\">THINK</span><span style=\"color: #008000; text-decoration-color: #008000; font-weight: bold\">]</span><span style=\"color: #008000; text-decoration-color: #008000\"> </span>\n",
       "<span style=\"color: #008000; text-decoration-color: #008000\">                    &gt; I need to analyze the presentation based on the feedback categories provided.</span>\n",
       "<span style=\"color: #008000; text-decoration-color: #008000\">                    &gt; I should consider the audience alignment, content evaluation, implementation</span>\n",
       "<span style=\"color: #008000; text-decoration-color: #008000\">                    &gt; and practicality, and improvement suggestions. I will formulate my thoughts</span>\n",
       "<span style=\"color: #008000; text-decoration-color: #008000\">                    &gt; carefully to ensure I cover all necessary aspects.</span>\n",
       "</pre>\n"
      ],
      "text/plain": [
       "\u001b[4;32mOliver Schmidt\u001b[0m\u001b[32m acts: \u001b[0m\u001b[1;32m[\u001b[0m\u001b[32mTHINK\u001b[0m\u001b[1;32m]\u001b[0m\u001b[32m \u001b[0m\n",
       "\u001b[32m                    > I need to analyze the presentation based on the feedback categories provided.\u001b[0m\n",
       "\u001b[32m                    > I should consider the audience alignment, content evaluation, implementation\u001b[0m\n",
       "\u001b[32m                    > and practicality, and improvement suggestions. I will formulate my thoughts\u001b[0m\n",
       "\u001b[32m                    > carefully to ensure I cover all necessary aspects.\u001b[0m\n"
      ]
     },
     "metadata": {},
     "output_type": "display_data"
    },
    {
     "data": {
      "text/html": [
       "<pre style=\"margin:0px;;white-space:pre;overflow-x:auto;line-height:normal;font-family:Menlo,'DejaVu Sans Mono',consolas,'Courier New',monospace\">              <span style=\"color: #008000; text-decoration-color: #008000\">       + --&gt; </span>\n",
       "</pre>\n"
      ],
      "text/plain": [
       "              \u001b[32m       + --> \u001b[0m\n"
      ]
     },
     "metadata": {},
     "output_type": "display_data"
    },
    {
     "data": {
      "text/html": [
       "<pre style=\"margin:0px;;white-space:pre;overflow-x:auto;line-height:normal;font-family:Menlo,'DejaVu Sans Mono',consolas,'Courier New',monospace\"><span style=\"color: #00d700; text-decoration-color: #00d700; font-weight: bold; text-decoration: underline\">Oliver Schmidt</span><span style=\"color: #00d700; text-decoration-color: #00d700; font-weight: bold\"> acts: [TALK] </span>\n",
       "<span style=\"color: #00d700; text-decoration-color: #00d700; font-weight: bold\">                    &gt; Based on the presentation, here are my thoughts and questions for further</span>\n",
       "<span style=\"color: #00d700; text-decoration-color: #00d700; font-weight: bold\">                    &gt; clarification:</span>\n",
       "</pre>\n"
      ],
      "text/plain": [
       "\u001b[1;4;38;5;40mOliver Schmidt\u001b[0m\u001b[1;38;5;40m acts: \u001b[0m\u001b[1;38;5;40m[\u001b[0m\u001b[1;38;5;40mTALK\u001b[0m\u001b[1;38;5;40m]\u001b[0m\u001b[1;38;5;40m \u001b[0m\n",
       "\u001b[1;38;5;40m                    > Based on the presentation, here are my thoughts and questions for further\u001b[0m\n",
       "\u001b[1;38;5;40m                    > clarification:\u001b[0m\n"
      ]
     },
     "metadata": {},
     "output_type": "display_data"
    },
    {
     "data": {
      "text/html": [
       "<pre style=\"margin:0px;;white-space:pre;overflow-x:auto;line-height:normal;font-family:Menlo,'DejaVu Sans Mono',consolas,'Courier New',monospace\"><span style=\"color: #00d700; text-decoration-color: #00d700; font-weight: bold; text-decoration: underline\">Oliver Schmidt</span><span style=\"color: #00d700; text-decoration-color: #00d700; font-weight: bold\"> acts: [TALK] </span>\n",
       "<span style=\"color: #00d700; text-decoration-color: #00d700; font-weight: bold\">                    &gt; Here is my analysis of the presentation based on the provided categories:</span>\n",
       "</pre>\n"
      ],
      "text/plain": [
       "\u001b[1;4;38;5;40mOliver Schmidt\u001b[0m\u001b[1;38;5;40m acts: \u001b[0m\u001b[1;38;5;40m[\u001b[0m\u001b[1;38;5;40mTALK\u001b[0m\u001b[1;38;5;40m]\u001b[0m\u001b[1;38;5;40m \u001b[0m\n",
       "\u001b[1;38;5;40m                    > Here is my analysis of the presentation based on the provided categories:\u001b[0m\n"
      ]
     },
     "metadata": {},
     "output_type": "display_data"
    },
    {
     "data": {
      "text/html": [
       "<pre style=\"margin:0px;;white-space:pre;overflow-x:auto;line-height:normal;font-family:Menlo,'DejaVu Sans Mono',consolas,'Courier New',monospace\">              <span style=\"color: #00d700; text-decoration-color: #00d700; font-weight: bold\">       + --&gt; </span>\n",
       "</pre>\n"
      ],
      "text/plain": [
       "              \u001b[1;38;5;40m       + --> \u001b[0m\n"
      ]
     },
     "metadata": {},
     "output_type": "display_data"
    },
    {
     "data": {
      "text/html": [
       "<pre style=\"margin:0px;;white-space:pre;overflow-x:auto;line-height:normal;font-family:Menlo,'DejaVu Sans Mono',consolas,'Courier New',monospace\">              <span style=\"color: #00d700; text-decoration-color: #00d700; font-weight: bold\">       + --&gt; </span>\n",
       "</pre>\n"
      ],
      "text/plain": [
       "              \u001b[1;38;5;40m       + --> \u001b[0m\n"
      ]
     },
     "metadata": {},
     "output_type": "display_data"
    },
    {
     "data": {
      "text/html": [
       "<pre style=\"margin:0px;;white-space:pre;overflow-x:auto;line-height:normal;font-family:Menlo,'DejaVu Sans Mono',consolas,'Courier New',monospace\"><span style=\"color: #008000; text-decoration-color: #008000; text-decoration: underline\">Isabella Rossi</span><span style=\"color: #008000; text-decoration-color: #008000\"> acts: </span><span style=\"color: #008000; text-decoration-color: #008000; font-weight: bold\">[</span><span style=\"color: #008000; text-decoration-color: #008000\">THINK</span><span style=\"color: #008000; text-decoration-color: #008000; font-weight: bold\">]</span><span style=\"color: #008000; text-decoration-color: #008000\"> </span>\n",
       "<span style=\"color: #008000; text-decoration-color: #008000\">                    &gt; I need to analyze the presentation based on the feedback criteria provided. I</span>\n",
       "<span style=\"color: #008000; text-decoration-color: #008000\">                    &gt; should consider the audience alignment, content evaluation, implementation</span>\n",
       "<span style=\"color: #008000; text-decoration-color: #008000\">                    &gt; challenges, and improvement suggestions. This will help me formulate a</span>\n",
       "<span style=\"color: #008000; text-decoration-color: #008000\">                    &gt; comprehensive review.</span>\n",
       "</pre>\n"
      ],
      "text/plain": [
       "\u001b[4;32mIsabella Rossi\u001b[0m\u001b[32m acts: \u001b[0m\u001b[1;32m[\u001b[0m\u001b[32mTHINK\u001b[0m\u001b[1;32m]\u001b[0m\u001b[32m \u001b[0m\n",
       "\u001b[32m                    > I need to analyze the presentation based on the feedback criteria provided. I\u001b[0m\n",
       "\u001b[32m                    > should consider the audience alignment, content evaluation, implementation\u001b[0m\n",
       "\u001b[32m                    > challenges, and improvement suggestions. This will help me formulate a\u001b[0m\n",
       "\u001b[32m                    > comprehensive review.\u001b[0m\n"
      ]
     },
     "metadata": {},
     "output_type": "display_data"
    },
    {
     "data": {
      "text/html": [
       "<pre style=\"margin:0px;;white-space:pre;overflow-x:auto;line-height:normal;font-family:Menlo,'DejaVu Sans Mono',consolas,'Courier New',monospace\"><span style=\"color: #00d700; text-decoration-color: #00d700; font-weight: bold; text-decoration: underline\">Isabella Rossi</span><span style=\"color: #00d700; text-decoration-color: #00d700; font-weight: bold\"> acts: [TALK] </span>\n",
       "<span style=\"color: #00d700; text-decoration-color: #00d700; font-weight: bold\">                    &gt; Based on the presentation, here are my thoughts:</span>\n",
       "</pre>\n"
      ],
      "text/plain": [
       "\u001b[1;4;38;5;40mIsabella Rossi\u001b[0m\u001b[1;38;5;40m acts: \u001b[0m\u001b[1;38;5;40m[\u001b[0m\u001b[1;38;5;40mTALK\u001b[0m\u001b[1;38;5;40m]\u001b[0m\u001b[1;38;5;40m \u001b[0m\n",
       "\u001b[1;38;5;40m                    > Based on the presentation, here are my thoughts:\u001b[0m\n"
      ]
     },
     "metadata": {},
     "output_type": "display_data"
    },
    {
     "data": {
      "text/html": [
       "<pre style=\"margin:0px;;white-space:pre;overflow-x:auto;line-height:normal;font-family:Menlo,'DejaVu Sans Mono',consolas,'Courier New',monospace\"><span style=\"color: #008000; text-decoration-color: #008000; text-decoration: underline\">Isabella Rossi</span><span style=\"color: #008000; text-decoration-color: #008000\"> acts: </span><span style=\"color: #008000; text-decoration-color: #008000; font-weight: bold\">[</span><span style=\"color: #008000; text-decoration-color: #008000\">THINK</span><span style=\"color: #008000; text-decoration-color: #008000; font-weight: bold\">]</span><span style=\"color: #008000; text-decoration-color: #008000\"> </span>\n",
       "<span style=\"color: #008000; text-decoration-color: #008000\">                    &gt; I need to provide feedback on the presentation based on the specified</span>\n",
       "<span style=\"color: #008000; text-decoration-color: #008000\">                    &gt; categories. I should consider the audience alignment, content evaluation,</span>\n",
       "<span style=\"color: #008000; text-decoration-color: #008000\">                    &gt; implementation challenges, and improvement suggestions. This will help me</span>\n",
       "<span style=\"color: #008000; text-decoration-color: #008000\">                    &gt; formulate a comprehensive review.</span>\n",
       "</pre>\n"
      ],
      "text/plain": [
       "\u001b[4;32mIsabella Rossi\u001b[0m\u001b[32m acts: \u001b[0m\u001b[1;32m[\u001b[0m\u001b[32mTHINK\u001b[0m\u001b[1;32m]\u001b[0m\u001b[32m \u001b[0m\n",
       "\u001b[32m                    > I need to provide feedback on the presentation based on the specified\u001b[0m\n",
       "\u001b[32m                    > categories. I should consider the audience alignment, content evaluation,\u001b[0m\n",
       "\u001b[32m                    > implementation challenges, and improvement suggestions. This will help me\u001b[0m\n",
       "\u001b[32m                    > formulate a comprehensive review.\u001b[0m\n"
      ]
     },
     "metadata": {},
     "output_type": "display_data"
    },
    {
     "data": {
      "text/html": [
       "<pre style=\"margin:0px;;white-space:pre;overflow-x:auto;line-height:normal;font-family:Menlo,'DejaVu Sans Mono',consolas,'Courier New',monospace\"><span style=\"color: #00d700; text-decoration-color: #00d700; font-weight: bold; text-decoration: underline\">Isabella Rossi</span><span style=\"color: #00d700; text-decoration-color: #00d700; font-weight: bold\"> acts: [TALK] </span>\n",
       "<span style=\"color: #00d700; text-decoration-color: #00d700; font-weight: bold\">                    &gt; Here is my feedback on the presentation:</span>\n",
       "</pre>\n"
      ],
      "text/plain": [
       "\u001b[1;4;38;5;40mIsabella Rossi\u001b[0m\u001b[1;38;5;40m acts: \u001b[0m\u001b[1;38;5;40m[\u001b[0m\u001b[1;38;5;40mTALK\u001b[0m\u001b[1;38;5;40m]\u001b[0m\u001b[1;38;5;40m \u001b[0m\n",
       "\u001b[1;38;5;40m                    > Here is my feedback on the presentation:\u001b[0m\n"
      ]
     },
     "metadata": {},
     "output_type": "display_data"
    },
    {
     "data": {
      "text/html": [
       "<pre style=\"margin:0px;;white-space:pre;overflow-x:auto;line-height:normal;font-family:Menlo,'DejaVu Sans Mono',consolas,'Courier New',monospace\">              <span style=\"color: #00d700; text-decoration-color: #00d700; font-weight: bold\">       + --&gt; </span>\n",
       "</pre>\n"
      ],
      "text/plain": [
       "              \u001b[1;38;5;40m       + --> \u001b[0m\n"
      ]
     },
     "metadata": {},
     "output_type": "display_data"
    },
    {
     "data": {
      "text/html": [
       "<pre style=\"margin:0px;;white-space:pre;overflow-x:auto;line-height:normal;font-family:Menlo,'DejaVu Sans Mono',consolas,'Courier New',monospace\"><span style=\"color: #008000; text-decoration-color: #008000; text-decoration: underline\">Isabella Rossi</span><span style=\"color: #008000; text-decoration-color: #008000\"> acts: </span><span style=\"color: #008000; text-decoration-color: #008000; font-weight: bold\">[</span><span style=\"color: #008000; text-decoration-color: #008000\">THINK</span><span style=\"color: #008000; text-decoration-color: #008000; font-weight: bold\">]</span><span style=\"color: #008000; text-decoration-color: #008000\"> </span>\n",
       "<span style=\"color: #008000; text-decoration-color: #008000\">                    &gt; I need to provide structured feedback on the presentation based on the</span>\n",
       "<span style=\"color: #008000; text-decoration-color: #008000\">                    &gt; categories outlined. This includes audience alignment, content evaluation,</span>\n",
       "<span style=\"color: #008000; text-decoration-color: #008000\">                    &gt; implementation challenges, and improvement suggestions. I should ensure that</span>\n",
       "<span style=\"color: #008000; text-decoration-color: #008000\">                    &gt; my feedback is relevant and constructive.</span>\n",
       "</pre>\n"
      ],
      "text/plain": [
       "\u001b[4;32mIsabella Rossi\u001b[0m\u001b[32m acts: \u001b[0m\u001b[1;32m[\u001b[0m\u001b[32mTHINK\u001b[0m\u001b[1;32m]\u001b[0m\u001b[32m \u001b[0m\n",
       "\u001b[32m                    > I need to provide structured feedback on the presentation based on the\u001b[0m\n",
       "\u001b[32m                    > categories outlined. This includes audience alignment, content evaluation,\u001b[0m\n",
       "\u001b[32m                    > implementation challenges, and improvement suggestions. I should ensure that\u001b[0m\n",
       "\u001b[32m                    > my feedback is relevant and constructive.\u001b[0m\n"
      ]
     },
     "metadata": {},
     "output_type": "display_data"
    },
    {
     "data": {
      "text/html": [
       "<pre style=\"margin:0px;;white-space:pre;overflow-x:auto;line-height:normal;font-family:Menlo,'DejaVu Sans Mono',consolas,'Courier New',monospace\"><span style=\"color: #00d700; text-decoration-color: #00d700; font-weight: bold; text-decoration: underline\">Isabella Rossi</span><span style=\"color: #00d700; text-decoration-color: #00d700; font-weight: bold\"> acts: [TALK] </span>\n",
       "<span style=\"color: #00d700; text-decoration-color: #00d700; font-weight: bold\">                    &gt; Here is my feedback on the presentation:</span>\n",
       "</pre>\n"
      ],
      "text/plain": [
       "\u001b[1;4;38;5;40mIsabella Rossi\u001b[0m\u001b[1;38;5;40m acts: \u001b[0m\u001b[1;38;5;40m[\u001b[0m\u001b[1;38;5;40mTALK\u001b[0m\u001b[1;38;5;40m]\u001b[0m\u001b[1;38;5;40m \u001b[0m\n",
       "\u001b[1;38;5;40m                    > Here is my feedback on the presentation:\u001b[0m\n"
      ]
     },
     "metadata": {},
     "output_type": "display_data"
    },
    {
     "data": {
      "text/html": [
       "<pre style=\"margin:0px;;white-space:pre;overflow-x:auto;line-height:normal;font-family:Menlo,'DejaVu Sans Mono',consolas,'Courier New',monospace\"><span style=\"color: #008000; text-decoration-color: #008000; text-decoration: underline\">Isabella Rossi</span><span style=\"color: #008000; text-decoration-color: #008000\"> acts: </span><span style=\"color: #008000; text-decoration-color: #008000; font-weight: bold\">[</span><span style=\"color: #008000; text-decoration-color: #008000\">THINK</span><span style=\"color: #008000; text-decoration-color: #008000; font-weight: bold\">]</span><span style=\"color: #008000; text-decoration-color: #008000\"> </span>\n",
       "<span style=\"color: #008000; text-decoration-color: #008000\">                    &gt; I need to analyze the presentation based on the feedback criteria provided. I</span>\n",
       "<span style=\"color: #008000; text-decoration-color: #008000\">                    &gt; should consider the audience alignment, content evaluation, implementation</span>\n",
       "<span style=\"color: #008000; text-decoration-color: #008000\">                    &gt; challenges, and improvement suggestions. This will help me formulate a</span>\n",
       "<span style=\"color: #008000; text-decoration-color: #008000\">                    &gt; comprehensive review.</span>\n",
       "</pre>\n"
      ],
      "text/plain": [
       "\u001b[4;32mIsabella Rossi\u001b[0m\u001b[32m acts: \u001b[0m\u001b[1;32m[\u001b[0m\u001b[32mTHINK\u001b[0m\u001b[1;32m]\u001b[0m\u001b[32m \u001b[0m\n",
       "\u001b[32m                    > I need to analyze the presentation based on the feedback criteria provided. I\u001b[0m\n",
       "\u001b[32m                    > should consider the audience alignment, content evaluation, implementation\u001b[0m\n",
       "\u001b[32m                    > challenges, and improvement suggestions. This will help me formulate a\u001b[0m\n",
       "\u001b[32m                    > comprehensive review.\u001b[0m\n"
      ]
     },
     "metadata": {},
     "output_type": "display_data"
    },
    {
     "data": {
      "text/html": [
       "<pre style=\"margin:0px;;white-space:pre;overflow-x:auto;line-height:normal;font-family:Menlo,'DejaVu Sans Mono',consolas,'Courier New',monospace\"><span style=\"color: #00d700; text-decoration-color: #00d700; font-weight: bold; text-decoration: underline\">Isabella Rossi</span><span style=\"color: #00d700; text-decoration-color: #00d700; font-weight: bold\"> acts: [TALK] </span>\n",
       "<span style=\"color: #00d700; text-decoration-color: #00d700; font-weight: bold\">                    &gt; Here is my feedback on the presentation:</span>\n",
       "</pre>\n"
      ],
      "text/plain": [
       "\u001b[1;4;38;5;40mIsabella Rossi\u001b[0m\u001b[1;38;5;40m acts: \u001b[0m\u001b[1;38;5;40m[\u001b[0m\u001b[1;38;5;40mTALK\u001b[0m\u001b[1;38;5;40m]\u001b[0m\u001b[1;38;5;40m \u001b[0m\n",
       "\u001b[1;38;5;40m                    > Here is my feedback on the presentation:\u001b[0m\n"
      ]
     },
     "metadata": {},
     "output_type": "display_data"
    },
    {
     "data": {
      "text/html": [
       "<pre style=\"margin:0px;;white-space:pre;overflow-x:auto;line-height:normal;font-family:Menlo,'DejaVu Sans Mono',consolas,'Courier New',monospace\">              <span style=\"color: #00d700; text-decoration-color: #00d700; font-weight: bold\">       + --&gt; </span>\n",
       "</pre>\n"
      ],
      "text/plain": [
       "              \u001b[1;38;5;40m       + --> \u001b[0m\n"
      ]
     },
     "metadata": {},
     "output_type": "display_data"
    },
    {
     "data": {
      "text/html": [
       "<pre style=\"margin:0px;;white-space:pre;overflow-x:auto;line-height:normal;font-family:Menlo,'DejaVu Sans Mono',consolas,'Courier New',monospace\"><span style=\"color: #008000; text-decoration-color: #008000; text-decoration: underline\">Isabella Rossi</span><span style=\"color: #008000; text-decoration-color: #008000\"> acts: </span><span style=\"color: #008000; text-decoration-color: #008000; font-weight: bold\">[</span><span style=\"color: #008000; text-decoration-color: #008000\">THINK</span><span style=\"color: #008000; text-decoration-color: #008000; font-weight: bold\">]</span><span style=\"color: #008000; text-decoration-color: #008000\"> </span>\n",
       "<span style=\"color: #008000; text-decoration-color: #008000\">                    &gt; I need to provide structured feedback on the presentation based on the</span>\n",
       "<span style=\"color: #008000; text-decoration-color: #008000\">                    &gt; categories outlined. This includes audience alignment, content evaluation,</span>\n",
       "<span style=\"color: #008000; text-decoration-color: #008000\">                    &gt; implementation challenges, and improvement suggestions. I should ensure that</span>\n",
       "<span style=\"color: #008000; text-decoration-color: #008000\">                    &gt; my feedback is relevant and constructive.</span>\n",
       "</pre>\n"
      ],
      "text/plain": [
       "\u001b[4;32mIsabella Rossi\u001b[0m\u001b[32m acts: \u001b[0m\u001b[1;32m[\u001b[0m\u001b[32mTHINK\u001b[0m\u001b[1;32m]\u001b[0m\u001b[32m \u001b[0m\n",
       "\u001b[32m                    > I need to provide structured feedback on the presentation based on the\u001b[0m\n",
       "\u001b[32m                    > categories outlined. This includes audience alignment, content evaluation,\u001b[0m\n",
       "\u001b[32m                    > implementation challenges, and improvement suggestions. I should ensure that\u001b[0m\n",
       "\u001b[32m                    > my feedback is relevant and constructive.\u001b[0m\n"
      ]
     },
     "metadata": {},
     "output_type": "display_data"
    },
    {
     "data": {
      "text/html": [
       "<pre style=\"margin:0px;;white-space:pre;overflow-x:auto;line-height:normal;font-family:Menlo,'DejaVu Sans Mono',consolas,'Courier New',monospace\"><span style=\"color: #00d700; text-decoration-color: #00d700; font-weight: bold; text-decoration: underline\">Isabella Rossi</span><span style=\"color: #00d700; text-decoration-color: #00d700; font-weight: bold\"> acts: [TALK] </span>\n",
       "<span style=\"color: #00d700; text-decoration-color: #00d700; font-weight: bold\">                    &gt; Here is my feedback on the presentation:</span>\n",
       "</pre>\n"
      ],
      "text/plain": [
       "\u001b[1;4;38;5;40mIsabella Rossi\u001b[0m\u001b[1;38;5;40m acts: \u001b[0m\u001b[1;38;5;40m[\u001b[0m\u001b[1;38;5;40mTALK\u001b[0m\u001b[1;38;5;40m]\u001b[0m\u001b[1;38;5;40m \u001b[0m\n",
       "\u001b[1;38;5;40m                    > Here is my feedback on the presentation:\u001b[0m\n"
      ]
     },
     "metadata": {},
     "output_type": "display_data"
    },
    {
     "data": {
      "text/html": [
       "<pre style=\"margin:0px;;white-space:pre;overflow-x:auto;line-height:normal;font-family:Menlo,'DejaVu Sans Mono',consolas,'Courier New',monospace\"><span style=\"color: #008000; text-decoration-color: #008000; text-decoration: underline\">Isabella Rossi</span><span style=\"color: #008000; text-decoration-color: #008000\"> acts: </span><span style=\"color: #008000; text-decoration-color: #008000; font-weight: bold\">[</span><span style=\"color: #008000; text-decoration-color: #008000\">THINK</span><span style=\"color: #008000; text-decoration-color: #008000; font-weight: bold\">]</span><span style=\"color: #008000; text-decoration-color: #008000\"> </span>\n",
       "<span style=\"color: #008000; text-decoration-color: #008000\">                    &gt; I need to provide structured feedback on the presentation based on the</span>\n",
       "<span style=\"color: #008000; text-decoration-color: #008000\">                    &gt; categories outlined. This includes audience alignment, content evaluation,</span>\n",
       "<span style=\"color: #008000; text-decoration-color: #008000\">                    &gt; implementation challenges, and improvement suggestions. I should ensure that</span>\n",
       "<span style=\"color: #008000; text-decoration-color: #008000\">                    &gt; my feedback is relevant and constructive.</span>\n",
       "</pre>\n"
      ],
      "text/plain": [
       "\u001b[4;32mIsabella Rossi\u001b[0m\u001b[32m acts: \u001b[0m\u001b[1;32m[\u001b[0m\u001b[32mTHINK\u001b[0m\u001b[1;32m]\u001b[0m\u001b[32m \u001b[0m\n",
       "\u001b[32m                    > I need to provide structured feedback on the presentation based on the\u001b[0m\n",
       "\u001b[32m                    > categories outlined. This includes audience alignment, content evaluation,\u001b[0m\n",
       "\u001b[32m                    > implementation challenges, and improvement suggestions. I should ensure that\u001b[0m\n",
       "\u001b[32m                    > my feedback is relevant and constructive.\u001b[0m\n"
      ]
     },
     "metadata": {},
     "output_type": "display_data"
    },
    {
     "data": {
      "text/html": [
       "<pre style=\"margin:0px;;white-space:pre;overflow-x:auto;line-height:normal;font-family:Menlo,'DejaVu Sans Mono',consolas,'Courier New',monospace\"><span style=\"color: #00d700; text-decoration-color: #00d700; font-weight: bold; text-decoration: underline\">Isabella Rossi</span><span style=\"color: #00d700; text-decoration-color: #00d700; font-weight: bold\"> acts: [TALK] </span>\n",
       "<span style=\"color: #00d700; text-decoration-color: #00d700; font-weight: bold\">                    &gt; Here is my feedback on the presentation:</span>\n",
       "</pre>\n"
      ],
      "text/plain": [
       "\u001b[1;4;38;5;40mIsabella Rossi\u001b[0m\u001b[1;38;5;40m acts: \u001b[0m\u001b[1;38;5;40m[\u001b[0m\u001b[1;38;5;40mTALK\u001b[0m\u001b[1;38;5;40m]\u001b[0m\u001b[1;38;5;40m \u001b[0m\n",
       "\u001b[1;38;5;40m                    > Here is my feedback on the presentation:\u001b[0m\n"
      ]
     },
     "metadata": {},
     "output_type": "display_data"
    },
    {
     "data": {
      "text/html": [
       "<pre style=\"margin:0px;;white-space:pre;overflow-x:auto;line-height:normal;font-family:Menlo,'DejaVu Sans Mono',consolas,'Courier New',monospace\">              <span style=\"color: #00d700; text-decoration-color: #00d700; font-weight: bold\">       + --&gt; </span>\n",
       "</pre>\n"
      ],
      "text/plain": [
       "              \u001b[1;38;5;40m       + --> \u001b[0m\n"
      ]
     },
     "metadata": {},
     "output_type": "display_data"
    },
    {
     "data": {
      "text/html": [
       "<pre style=\"margin:0px;;white-space:pre;overflow-x:auto;line-height:normal;font-family:Menlo,'DejaVu Sans Mono',consolas,'Courier New',monospace\"><span style=\"color: #008000; text-decoration-color: #008000; text-decoration: underline\">Isabella Rossi</span><span style=\"color: #008000; text-decoration-color: #008000\"> acts: </span><span style=\"color: #008000; text-decoration-color: #008000; font-weight: bold\">[</span><span style=\"color: #008000; text-decoration-color: #008000\">THINK</span><span style=\"color: #008000; text-decoration-color: #008000; font-weight: bold\">]</span><span style=\"color: #008000; text-decoration-color: #008000\"> </span>\n",
       "<span style=\"color: #008000; text-decoration-color: #008000\">                    &gt; I need to provide structured feedback on the presentation based on the</span>\n",
       "<span style=\"color: #008000; text-decoration-color: #008000\">                    &gt; categories outlined. This includes audience alignment, content evaluation,</span>\n",
       "<span style=\"color: #008000; text-decoration-color: #008000\">                    &gt; implementation challenges, and improvement suggestions. I should ensure that</span>\n",
       "<span style=\"color: #008000; text-decoration-color: #008000\">                    &gt; my feedback is relevant and constructive.</span>\n",
       "</pre>\n"
      ],
      "text/plain": [
       "\u001b[4;32mIsabella Rossi\u001b[0m\u001b[32m acts: \u001b[0m\u001b[1;32m[\u001b[0m\u001b[32mTHINK\u001b[0m\u001b[1;32m]\u001b[0m\u001b[32m \u001b[0m\n",
       "\u001b[32m                    > I need to provide structured feedback on the presentation based on the\u001b[0m\n",
       "\u001b[32m                    > categories outlined. This includes audience alignment, content evaluation,\u001b[0m\n",
       "\u001b[32m                    > implementation challenges, and improvement suggestions. I should ensure that\u001b[0m\n",
       "\u001b[32m                    > my feedback is relevant and constructive.\u001b[0m\n"
      ]
     },
     "metadata": {},
     "output_type": "display_data"
    }
   ],
   "source": [
    "technical_world.run(1)"
   ]
  },
  {
   "cell_type": "code",
   "execution_count": 88,
   "id": "a03d9515-ccd5-4df2-92f3-bdd2226420e9",
   "metadata": {},
   "outputs": [],
   "source": [
    "empty_prompt = generate_prompt(ppt_details, \"\")\n",
    "technical_results_extractor = ResultsExtractor(\n",
    "    extraction_objective = technical_analysis_criteria + technical_qna_criteria,\n",
    "    situation = f\"The agent was tasked with {empty_prompt}\",\n",
    "    fields = [\"Analysis\", \"Feedback\"],\n",
    "    fields_hints = {\n",
    "        \"Analysis\": technical_analysis_criteria,\n",
    "        \"Feedback\": technical_qna_criteria\n",
    "    },\n",
    "    verbose = True)"
   ]
  },
  {
   "cell_type": "code",
   "execution_count": 89,
   "id": "63c427e8-0c26-49ba-9d7e-c8f2dc1b1053",
   "metadata": {
    "scrolled": true
   },
   "outputs": [
    {
     "name": "stdout",
     "output_type": "stream",
     "text": [
      "Extraction raw result message: {'content': '{\\n  \"Analysis\": {\\n    \"Audience Alignment\": [\\n      \"The content is appropriate for the intended audience, as it addresses young adults seeking long-term relationships.\",\\n      \"Some technical concepts, like AI-driven matchmaking, could be simplified for better understanding.\",\\n      \"To enhance effectiveness, consider including relatable examples or testimonials from users.\"\\n    ],\\n    \"Content Evaluation\": [\\n      \"The emphasis on personalized matching resonates with my experience in AI applications.\",\\n      \"The presentation could benefit from discussing data privacy concerns and ethical implications of AI in matchmaking.\",\\n      \"Claims about the app\\'s effectiveness should be backed by data or case studies.\"\\n    ],\\n    \"Implementation and Practicality\": [\\n      \"Practical challenges may include ensuring data security and user privacy, which are paramount in app development.\",\\n      \"Dependencies like user engagement and continuous AI training should be addressed.\",\\n      \"Risks such as potential biases in AI algorithms should also be highlighted.\"\\n    ],\\n    \"Improvement Suggestions\": [\\n      \"Clarification on how the AI learns from user interactions would be beneficial.\",\\n      \"The content could be presented more effectively by incorporating visuals or infographics to illustrate the matchmaking process.\",\\n      \"Providing additional context on user demographics and success rates would strengthen the presentation.\"\\n    ]\\n  },\\n  \"Feedback\": []\\n}', 'refusal': None, 'role': 'assistant'}\n",
      "Extraction raw result message: {'content': '{\\n  \"Analysis\": {\\n    \"Audience Alignment\": [\\n      \"The content seems appropriate for the intended audience of young adults seeking long-term relationships. However, it could benefit from more relatable examples or testimonials to enhance engagement.\"\\n    ],\\n    \"Content Evaluation\": [\\n      \"The emphasis on AI-driven matchmaking and personalized user experiences resonates well with my professional background. However, there should be more focus on the ethical implications of using AI in matchmaking, as this is crucial for user trust and satisfaction.\"\\n    ],\\n    \"Implementation and Practicality\": [\\n      \"I foresee challenges related to user data privacy and ensuring the AI respects ethical standards. It\\'s essential to address these concerns upfront to build user trust.\"\\n    ],\\n    \"Improvement Suggestions\": [\\n      \"I suggest including more real-life examples or case studies that demonstrate the app\\'s effectiveness in helping users find meaningful connections. This would provide additional context and strengthen the overall message.\"\\n    ]\\n  },\\n  \"Feedback\": []\\n}', 'refusal': None, 'role': 'assistant'}\n",
      "Extraction raw result message: {'content': '{\\n  \"Analysis\": {\\n    \"Audience Alignment\": [\\n      \"The content is appropriate for the intended audience, as it addresses young adults seeking long-term relationships. However, some technical concepts, like AI-driven matchmaking, may need simpler explanations for clarity.\",\\n      \"To make it more effective, consider including relatable examples or testimonials from users in their 20s who have successfully used the app.\"\\n    ],\\n    \"Content Evaluation\": [\\n      \"The emphasis on personalized matching resonates with my experience in AI applications, as personalization is key in user engagement.\",\\n      \"However, the presentation could benefit from more attention to data privacy and ethical considerations, which are critical in AI development.\",\\n      \"Claims about the effectiveness of the AI agent should be backed by data or case studies to validate them.\"\\n    ],\\n    \"Implementation and Practicality\": [\\n      \"Practical challenges may include ensuring the AI accurately understands user preferences and behaviors, which can vary widely.\",\\n      \"Dependencies such as user data security and compliance with regulations should be addressed upfront.\",\\n      \"Risks related to user trust and data misuse should be highlighted to reassure potential users.\"\\n    ],\\n    \"Improvement Suggestions\": [\\n      \"The section on user feedback could be expanded to include specific metrics or statistics that demonstrate user satisfaction.\",\\n      \"Presenting the content with more visuals or infographics could enhance engagement and understanding.\",\\n      \"Additional context on how the app differentiates itself from existing dating apps would strengthen the presentation.\"\\n    ]\\n  },\\n  \"Feedback\": [\\n    {\\n      \"Question\": \"What specific metrics will be used to measure the success of the AI-powered matchmaking app?\",\\n      \"Context\": \"Understanding the success metrics is crucial for evaluating the app\\'s effectiveness and user satisfaction.\",\\n      \"Value\": \"This will help clarify how the app\\'s performance will be assessed and what benchmarks are in place.\"\\n    },\\n    {\\n      \"Question\": \"How will user data be protected, and what measures are in place to ensure privacy?\",\\n      \"Context\": \"Data privacy is a significant concern for users, especially in dating apps that handle sensitive information.\",\\n      \"Value\": \"This question addresses potential gaps in the presentation regarding user trust and security.\"\\n    },\\n    {\\n      \"Question\": \"Can you provide examples of how the AI agent learns from user interactions?\",\\n      \"Context\": \"It\\'s important to understand the learning mechanisms of the AI to validate its effectiveness in improving match suggestions.\",\\n      \"Value\": \"This will help clarify the AI\\'s adaptability and responsiveness to user preferences.\"\\n    },\\n    {\\n      \"Question\": \"What strategies will be implemented to encourage user engagement and retention?\",\\n      \"Context\": \"User engagement is critical for the app\\'s long-term success, and understanding retention strategies is essential.\",\\n      \"Value\": \"This question will uncover important considerations for maintaining a user base and fostering meaningful connections.\"\\n    }\\n  ]\\n}', 'refusal': None, 'role': 'assistant'}\n",
      "Extraction raw result message: {'content': '{\\n  \"Analysis\": {\\n    \"Audience Alignment\": [],\\n    \"Content Evaluation\": [],\\n    \"Implementation and Practicality\": [],\\n    \"Improvement Suggestions\": []\\n  },\\n  \"Feedback\": []\\n}', 'refusal': None, 'role': 'assistant'}\n",
      "Extraction raw result message: {'content': '{\\n  \"Analysis\": {\\n    \"Audience Alignment\": [],\\n    \"Content Evaluation\": [],\\n    \"Implementation and Practicality\": [],\\n    \"Improvement Suggestions\": []\\n  },\\n  \"Feedback\": []\\n}', 'refusal': None, 'role': 'assistant'}\n"
     ]
    }
   ],
   "source": [
    "technical_results = technical_results_extractor.extract_results_from_agents(technical_people)"
   ]
  },
  {
   "cell_type": "code",
   "execution_count": 103,
   "id": "88288a7a-9a60-47d3-916b-3679bfb2eeb8",
   "metadata": {},
   "outputs": [
    {
     "data": {
      "text/plain": [
       "9374"
      ]
     },
     "execution_count": 103,
     "metadata": {},
     "output_type": "execute_result"
    }
   ],
   "source": [
    "res = parse_results(technical_factory, technical_results)\n",
    "open('output.md', 'w', encoding=\"utf-8\").write(res)"
   ]
  },
  {
   "cell_type": "code",
   "execution_count": 16,
   "id": "c7b30dea-9a73-4699-b5db-3c874984bea4",
   "metadata": {},
   "outputs": [],
   "source": [
    "business_persona_prompt = generate_prompt(ppt_details, business_persona)\n",
    "business_analysis_prompt = generate_prompt(ppt_details, business_analysis)\n",
    "business_qna_prompt = generate_prompt(ppt_details, business_qna)"
   ]
  },
  {
   "cell_type": "code",
   "execution_count": 21,
   "id": "bae28b4f-996a-4ef8-959b-3b1a4fb99bab",
   "metadata": {},
   "outputs": [],
   "source": [
    "customer_persona_prompt = generate_prompt(ppt_details, customer_persona)\n",
    "customer_analysis_prompt = generate_prompt(ppt_details, customer_analysis)\n",
    "customer_qna_prompt = generate_prompt(ppt_details, customer_qna)"
   ]
  },
  {
   "cell_type": "code",
   "execution_count": null,
   "id": "f138021c-a387-4d2b-9f10-39c2a0de5b3c",
   "metadata": {},
   "outputs": [],
   "source": []
  }
 ],
 "metadata": {
  "kernelspec": {
   "display_name": "tinytroupe",
   "language": "python",
   "name": "tinytroupe"
  },
  "language_info": {
   "codemirror_mode": {
    "name": "ipython",
    "version": 3
   },
   "file_extension": ".py",
   "mimetype": "text/x-python",
   "name": "python",
   "nbconvert_exporter": "python",
   "pygments_lexer": "ipython3",
   "version": "3.10.16"
  }
 },
 "nbformat": 4,
 "nbformat_minor": 5
}
